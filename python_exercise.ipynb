{
  "nbformat": 4,
  "nbformat_minor": 0,
  "metadata": {
    "kernelspec": {
      "display_name": "Python 3",
      "language": "python",
      "name": "python3"
    },
    "language_info": {
      "codemirror_mode": {
        "name": "ipython",
        "version": 3
      },
      "file_extension": ".py",
      "mimetype": "text/x-python",
      "name": "python",
      "nbconvert_exporter": "python",
      "pygments_lexer": "ipython3",
      "version": "3.7.6"
    },
    "colab": {
      "name": "Copy of My_works - Additional.ipynb",
      "provenance": [],
      "collapsed_sections": [
        "TwZn9xLJkTPw",
        "h2sx2ZWrkTRe",
        "V5qPQVKQkTSM",
        "0LAMk-_hkTSc",
        "YgpXgBGtkTSf",
        "8mVIlwEskTT0",
        "GSls5J4bkTT6",
        "uKw6IljlkTUl",
        "VUEAv9u0kTVX",
        "pPkY9sGhkTWf",
        "8LLEUd5AkTXS",
        "QqJBbsTYkTZP",
        "VwrrE92lkTZQ",
        "g4IXurJokTZt",
        "UfLuAHP0kTcY",
        "BGZXdCUukTcj",
        "1KGZYfzbkTdc",
        "2qCMFqiykTdn",
        "pPTDxg6kkTeQ",
        "JdFWEyeMkTex",
        "JQxMvGudkTex",
        "54_OcaMOkTfG",
        "WgZyAg1-kTff",
        "UQtOp3vnkTf3",
        "LQKe9ZR6kTgJ",
        "IVYZOa4pkTgP",
        "5aJK5SqekTgT",
        "EYa_qHBbkTgx",
        "QQZ1Wf0ZkThG",
        "_T8mEp0_kThI",
        "WSElt7p5kThW",
        "3j7NSddAkThz",
        "Xy4xw-VhkTiT",
        "E51gt4UKkTip",
        "U2wf9MmUkTis",
        "67IUqKSnkTi6",
        "PHT3jlm2kTjC",
        "3yxsBf4qkTjL"
      ],
      "include_colab_link": true
    }
  },
  "cells": [
    {
      "cell_type": "markdown",
      "metadata": {
        "id": "view-in-github",
        "colab_type": "text"
      },
      "source": [
        "<a href=\"https://colab.research.google.com/github/arunharan/python_class/blob/master/python_exercise.ipynb\" target=\"_parent\"><img src=\"https://colab.research.google.com/assets/colab-badge.svg\" alt=\"Open In Colab\"/></a>"
      ]
    },
    {
      "cell_type": "code",
      "metadata": {
        "id": "luLyXdB7kTOg"
      },
      "source": [
        "a = 10\n",
        "# ctrl + enter ---> It will run the current cell and remain in the same cell\n",
        "# shift + enter ---> It will run the current cell and move to the next cell\n",
        "\n",
        "# To comment:\n",
        "# Select the lines which needs to be commented abd click on ctrl + /\n",
        "\n",
        "# esp + a ---> create cell above current cell\n",
        "# esp + b ---> crdeate cell below current cell"
      ],
      "execution_count": null,
      "outputs": []
    },
    {
      "cell_type": "code",
      "metadata": {
        "id": "RA36zff1kTOo"
      },
      "source": [
        "2 + 2"
      ],
      "execution_count": null,
      "outputs": []
    },
    {
      "cell_type": "code",
      "metadata": {
        "id": "b2DCcH6wkTOu"
      },
      "source": [
        "2 - 2"
      ],
      "execution_count": null,
      "outputs": []
    },
    {
      "cell_type": "code",
      "metadata": {
        "id": "faSEJ1mdkTOz"
      },
      "source": [
        "2 * 2"
      ],
      "execution_count": null,
      "outputs": []
    },
    {
      "cell_type": "code",
      "metadata": {
        "id": "rgd4iZlqkTO3"
      },
      "source": [
        "2 / 2"
      ],
      "execution_count": null,
      "outputs": []
    },
    {
      "cell_type": "code",
      "metadata": {
        "id": "rVIXLv1qkTO7"
      },
      "source": [
        "7 / 4"
      ],
      "execution_count": null,
      "outputs": []
    },
    {
      "cell_type": "code",
      "metadata": {
        "id": "AVK4dEWzkTO_"
      },
      "source": [
        "# Floor Divison\n",
        "\n",
        "7 // 4 "
      ],
      "execution_count": null,
      "outputs": []
    },
    {
      "cell_type": "code",
      "metadata": {
        "id": "AZEHBlIvkTPE"
      },
      "source": [
        "2 ** 2"
      ],
      "execution_count": null,
      "outputs": []
    },
    {
      "cell_type": "code",
      "metadata": {
        "id": "h0ReD01akTPH"
      },
      "source": [
        "2 ** 3 # 2 * 2 * 2"
      ],
      "execution_count": null,
      "outputs": []
    },
    {
      "cell_type": "code",
      "metadata": {
        "id": "Pq3TyMUgkTPL"
      },
      "source": [
        "# Modulo\n",
        "\n",
        "2 % 2"
      ],
      "execution_count": null,
      "outputs": []
    },
    {
      "cell_type": "code",
      "metadata": {
        "id": "X_9_COnnkTPO"
      },
      "source": [
        "7 % 4"
      ],
      "execution_count": null,
      "outputs": []
    },
    {
      "cell_type": "code",
      "metadata": {
        "id": "ZtP9tpagkTPT"
      },
      "source": [
        "# PEDMAS\n",
        "2 + 10 * 10 + 2\n",
        "# 2 + 100 + 2"
      ],
      "execution_count": null,
      "outputs": []
    },
    {
      "cell_type": "code",
      "metadata": {
        "id": "_tHeTiOpkTPa"
      },
      "source": [
        "(10 * 10) + (20 * 20)\n",
        "# 100 + 400"
      ],
      "execution_count": null,
      "outputs": []
    },
    {
      "cell_type": "markdown",
      "metadata": {
        "id": "x65ky3mSkTPd"
      },
      "source": [
        "# Print and Non Print Statements"
      ]
    },
    {
      "cell_type": "code",
      "metadata": {
        "id": "i1TKE6v1kTPe"
      },
      "source": [
        "10"
      ],
      "execution_count": null,
      "outputs": []
    },
    {
      "cell_type": "code",
      "metadata": {
        "id": "GHb0Wy8BkTPk"
      },
      "source": [
        "10\n",
        "20\n",
        "30\n",
        "40"
      ],
      "execution_count": null,
      "outputs": []
    },
    {
      "cell_type": "code",
      "metadata": {
        "id": "ppJUMEQjkTPo"
      },
      "source": [
        "print(10)\n",
        "print(20)"
      ],
      "execution_count": null,
      "outputs": []
    },
    {
      "cell_type": "code",
      "metadata": {
        "id": "RIVVBdf5kTPs"
      },
      "source": [
        "print(10)\n",
        "10\n",
        "print(30)\n",
        "2 + 20"
      ],
      "execution_count": null,
      "outputs": []
    },
    {
      "cell_type": "markdown",
      "metadata": {
        "id": "TwZn9xLJkTPw"
      },
      "source": [
        "# Variable Assignment"
      ]
    },
    {
      "cell_type": "markdown",
      "metadata": {
        "id": "O5QR5cTJkTPx"
      },
      "source": [
        "The names you use when creating these labels need to follow a few rules:\n",
        "\n",
        "    1. Names can not start with a number.\n",
        "    2. There can be no spaces in the name, use _ instead.\n",
        "    3. Can't use any of these symbols :'\",<>/?|\\()!@#$%^&*~-+\n",
        "    4. It's considered best practice (PEP8) that names are lowercase.\n",
        "    5. Avoid using the characters 'l' (lowercase letter el), 'O' (uppercase letter oh), \n",
        "       or 'I' (uppercase letter eye) as single character variable names.\n",
        "    6. Avoid using words that have special meaning in Python like \"list\" and \"str\"\n",
        "\n",
        "\n",
        "Using variable names can be a very useful way to keep track of different variables in Python. For example:"
      ]
    },
    {
      "cell_type": "code",
      "metadata": {
        "id": "MnQisW9nkTPy"
      },
      "source": [
        "# variable name followed by = operator then assign a value\n",
        "a = 10"
      ],
      "execution_count": null,
      "outputs": []
    },
    {
      "cell_type": "code",
      "metadata": {
        "id": "qyVkVpPGkTP3"
      },
      "source": [
        "1a = 10"
      ],
      "execution_count": null,
      "outputs": []
    },
    {
      "cell_type": "code",
      "metadata": {
        "id": "mCFd2ZI6kTP8"
      },
      "source": [
        "a1 = 10"
      ],
      "execution_count": null,
      "outputs": []
    },
    {
      "cell_type": "code",
      "metadata": {
        "id": "68sDXvHdkTQE"
      },
      "source": [
        "a1"
      ],
      "execution_count": null,
      "outputs": []
    },
    {
      "cell_type": "code",
      "metadata": {
        "id": "EH4UNRY9kTQL"
      },
      "source": [
        "a b = 10"
      ],
      "execution_count": null,
      "outputs": []
    },
    {
      "cell_type": "code",
      "metadata": {
        "id": "d5-V-c2SkTQP"
      },
      "source": [
        "a_b = 20"
      ],
      "execution_count": null,
      "outputs": []
    },
    {
      "cell_type": "code",
      "metadata": {
        "id": "5ceVzPQHkTQW"
      },
      "source": [
        "a_b"
      ],
      "execution_count": null,
      "outputs": []
    },
    {
      "cell_type": "code",
      "metadata": {
        "id": "XtQlw9KvkTQf"
      },
      "source": [
        "$a = 20"
      ],
      "execution_count": null,
      "outputs": []
    },
    {
      "cell_type": "code",
      "metadata": {
        "id": "SnvRqUrNkTQr"
      },
      "source": [
        "a = 10\n",
        "print(a)"
      ],
      "execution_count": null,
      "outputs": []
    },
    {
      "cell_type": "code",
      "metadata": {
        "id": "F_dDzWCQkTQ0"
      },
      "source": [
        "A"
      ],
      "execution_count": null,
      "outputs": []
    },
    {
      "cell_type": "code",
      "metadata": {
        "id": "qX6h7CDOkTRE"
      },
      "source": [
        "a"
      ],
      "execution_count": null,
      "outputs": []
    },
    {
      "cell_type": "code",
      "metadata": {
        "id": "nahFp2N7kTRH"
      },
      "source": [
        "# str int float"
      ],
      "execution_count": null,
      "outputs": []
    },
    {
      "cell_type": "code",
      "metadata": {
        "id": "u1cqJbjXkTRK"
      },
      "source": [
        "str = 10"
      ],
      "execution_count": null,
      "outputs": []
    },
    {
      "cell_type": "code",
      "metadata": {
        "id": "MjDqSDyqkTRQ"
      },
      "source": [
        "str(str)"
      ],
      "execution_count": null,
      "outputs": []
    },
    {
      "cell_type": "code",
      "metadata": {
        "id": "5HlqYR1EkTRU"
      },
      "source": [
        "a = 10\n",
        "\n",
        "# a ---> variable name\n",
        "# = ---> operator\n",
        "# 10 ---> value\n",
        "\n",
        "# using equal to operator we are assigning 10 to variable a"
      ],
      "execution_count": null,
      "outputs": []
    },
    {
      "cell_type": "code",
      "metadata": {
        "id": "KQbiEopXkTRY"
      },
      "source": [
        "print(a)"
      ],
      "execution_count": null,
      "outputs": []
    },
    {
      "cell_type": "code",
      "metadata": {
        "id": "ig6el152kTRb"
      },
      "source": [
        "a"
      ],
      "execution_count": null,
      "outputs": []
    },
    {
      "cell_type": "markdown",
      "metadata": {
        "id": "h2sx2ZWrkTRe"
      },
      "source": [
        "# Re-assignment"
      ]
    },
    {
      "cell_type": "code",
      "metadata": {
        "id": "Casrxhj8kTRf"
      },
      "source": [
        "a"
      ],
      "execution_count": null,
      "outputs": []
    },
    {
      "cell_type": "code",
      "metadata": {
        "id": "uiYVca2skTRj"
      },
      "source": [
        "a = 30"
      ],
      "execution_count": null,
      "outputs": []
    },
    {
      "cell_type": "code",
      "metadata": {
        "id": "Ij3uUaq5kTRo"
      },
      "source": [
        "a"
      ],
      "execution_count": null,
      "outputs": []
    },
    {
      "cell_type": "code",
      "metadata": {
        "id": "k3USAFupkTRr"
      },
      "source": [
        "a + a"
      ],
      "execution_count": null,
      "outputs": []
    },
    {
      "cell_type": "code",
      "metadata": {
        "id": "Yo_5HlxGkTRu"
      },
      "source": [
        "a + 60.03"
      ],
      "execution_count": null,
      "outputs": []
    },
    {
      "cell_type": "code",
      "metadata": {
        "id": "OJZdRkZZkTRx"
      },
      "source": [
        "a * 40"
      ],
      "execution_count": null,
      "outputs": []
    },
    {
      "cell_type": "code",
      "metadata": {
        "id": "e1WoyKyKkTSC"
      },
      "source": [
        "a"
      ],
      "execution_count": null,
      "outputs": []
    },
    {
      "cell_type": "code",
      "metadata": {
        "scrolled": true,
        "id": "ziVpmwvHkTSJ"
      },
      "source": [
        "a = a * 40\n",
        "a"
      ],
      "execution_count": null,
      "outputs": []
    },
    {
      "cell_type": "markdown",
      "metadata": {
        "id": "V5qPQVKQkTSM"
      },
      "source": [
        "# input()"
      ]
    },
    {
      "cell_type": "code",
      "metadata": {
        "id": "uxizvu0jkTSM"
      },
      "source": [
        "a = 10\n",
        "a"
      ],
      "execution_count": null,
      "outputs": []
    },
    {
      "cell_type": "code",
      "metadata": {
        "id": "ejxM5cGykTSQ"
      },
      "source": [
        "a = int(input())"
      ],
      "execution_count": null,
      "outputs": []
    },
    {
      "cell_type": "code",
      "metadata": {
        "id": "tlWaBTsMkTSW"
      },
      "source": [
        "a"
      ],
      "execution_count": null,
      "outputs": []
    },
    {
      "cell_type": "markdown",
      "metadata": {
        "id": "0LAMk-_hkTSc"
      },
      "source": [
        "# Data Types"
      ]
    },
    {
      "cell_type": "code",
      "metadata": {
        "id": "3wXBjn1KkTSc"
      },
      "source": [
        "# numbers\n",
        "#     int (1,4,-5)\n",
        "#     float(10.55, -9.55)\n",
        "# string ---> '',\"\",''''''\n",
        "# list ---> []\n",
        "# dictionary ---> {}\n",
        "# tuple ---> ()\n",
        "# set ---> {}\n",
        "# boolean --->  True, False"
      ],
      "execution_count": null,
      "outputs": []
    },
    {
      "cell_type": "markdown",
      "metadata": {
        "id": "YgpXgBGtkTSf"
      },
      "source": [
        "# Numbers"
      ]
    },
    {
      "cell_type": "code",
      "metadata": {
        "id": "FdKtEsQSkTSg"
      },
      "source": [
        "int a = 10"
      ],
      "execution_count": null,
      "outputs": []
    },
    {
      "cell_type": "code",
      "metadata": {
        "id": "bWWap6ZmkTSl"
      },
      "source": [
        "a = 10\n",
        "b = 55.55"
      ],
      "execution_count": null,
      "outputs": []
    },
    {
      "cell_type": "code",
      "metadata": {
        "id": "PjCcKHhlkTSp"
      },
      "source": [
        "type(a)"
      ],
      "execution_count": null,
      "outputs": []
    },
    {
      "cell_type": "code",
      "metadata": {
        "id": "qd9HYrHHkTSu"
      },
      "source": [
        "type(b)"
      ],
      "execution_count": null,
      "outputs": []
    },
    {
      "cell_type": "code",
      "metadata": {
        "id": "ILtpItBbkTSy"
      },
      "source": [
        "type(a,b)"
      ],
      "execution_count": null,
      "outputs": []
    },
    {
      "cell_type": "code",
      "metadata": {
        "id": "1oyKdPqikTS_"
      },
      "source": [
        "type(a), type(b)"
      ],
      "execution_count": null,
      "outputs": []
    },
    {
      "cell_type": "code",
      "metadata": {
        "id": "H-Ypkp0AkTTH"
      },
      "source": [
        "a"
      ],
      "execution_count": null,
      "outputs": []
    },
    {
      "cell_type": "code",
      "metadata": {
        "id": "8NiHQF8rkTTO"
      },
      "source": [
        "b"
      ],
      "execution_count": null,
      "outputs": []
    },
    {
      "cell_type": "code",
      "metadata": {
        "id": "frYCEumxkTTf"
      },
      "source": [
        "a\n",
        "b"
      ],
      "execution_count": null,
      "outputs": []
    },
    {
      "cell_type": "code",
      "metadata": {
        "id": "9ciN5riBkTTm"
      },
      "source": [
        "a,b"
      ],
      "execution_count": null,
      "outputs": []
    },
    {
      "cell_type": "code",
      "metadata": {
        "id": "Oge8OHQrkTTs"
      },
      "source": [
        "a * b"
      ],
      "execution_count": null,
      "outputs": []
    },
    {
      "cell_type": "code",
      "metadata": {
        "id": "ROBGVKQpkTTw"
      },
      "source": [
        "c = a * b\n",
        "c"
      ],
      "execution_count": null,
      "outputs": []
    },
    {
      "cell_type": "markdown",
      "metadata": {
        "id": "8mVIlwEskTT0"
      },
      "source": [
        "# String"
      ]
    },
    {
      "cell_type": "markdown",
      "metadata": {
        "id": "3-IUXXadkTT5"
      },
      "source": [
        " - Creating a string\n",
        " - Indexing\n",
        " - Slicing\n",
        " - Properties\n",
        " - Methods\n",
        " - Print formatting"
      ]
    },
    {
      "cell_type": "markdown",
      "metadata": {
        "id": "GSls5J4bkTT6"
      },
      "source": [
        "# Creating a string"
      ]
    },
    {
      "cell_type": "code",
      "metadata": {
        "id": "ArGvvVtTkTT8"
      },
      "source": [
        "print('hello')"
      ],
      "execution_count": null,
      "outputs": []
    },
    {
      "cell_type": "code",
      "metadata": {
        "id": "tvbY8p-BkTUA"
      },
      "source": [
        "print(\"Hello world\")"
      ],
      "execution_count": null,
      "outputs": []
    },
    {
      "cell_type": "code",
      "metadata": {
        "id": "4ESu9DnAkTUE"
      },
      "source": [
        "print('''Welcome''')"
      ],
      "execution_count": null,
      "outputs": []
    },
    {
      "cell_type": "code",
      "metadata": {
        "id": "fzB8e6kNkTUL"
      },
      "source": [
        "'I'm not at Chennai'"
      ],
      "execution_count": null,
      "outputs": []
    },
    {
      "cell_type": "code",
      "metadata": {
        "id": "1Yhr6pnikTUR"
      },
      "source": [
        "'I\\'m not at Chennai'"
      ],
      "execution_count": null,
      "outputs": []
    },
    {
      "cell_type": "code",
      "metadata": {
        "id": "XsNKd7HAkTUU"
      },
      "source": [
        "\"I'm not at Chennai\""
      ],
      "execution_count": null,
      "outputs": []
    },
    {
      "cell_type": "code",
      "metadata": {
        "id": "ZYFz2gmQkTUb"
      },
      "source": [
        "a = '''string'''\n",
        "a"
      ],
      "execution_count": null,
      "outputs": []
    },
    {
      "cell_type": "code",
      "metadata": {
        "id": "q5GRkwKZkTUd"
      },
      "source": [
        "type(a)"
      ],
      "execution_count": null,
      "outputs": []
    },
    {
      "cell_type": "code",
      "metadata": {
        "id": "uvaKAjezkTUg"
      },
      "source": [
        "len(a)"
      ],
      "execution_count": null,
      "outputs": []
    },
    {
      "cell_type": "code",
      "metadata": {
        "id": "PDobgEsjkTUj"
      },
      "source": [
        "len('Hello world') # Len considers space as a character"
      ],
      "execution_count": null,
      "outputs": []
    },
    {
      "cell_type": "markdown",
      "metadata": {
        "id": "uKw6IljlkTUl"
      },
      "source": [
        "# Indexing"
      ]
    },
    {
      "cell_type": "code",
      "metadata": {
        "id": "V-wJYOhbkTUo"
      },
      "source": [
        "# In python the index starts from 0"
      ],
      "execution_count": null,
      "outputs": []
    },
    {
      "cell_type": "code",
      "metadata": {
        "id": "E0-57MX5kTUs"
      },
      "source": [
        "a = 'string 123'\n",
        "a"
      ],
      "execution_count": null,
      "outputs": []
    },
    {
      "cell_type": "code",
      "metadata": {
        "id": "ItDKEpaykTUv"
      },
      "source": [
        "len(a)"
      ],
      "execution_count": null,
      "outputs": []
    },
    {
      "cell_type": "code",
      "metadata": {
        "id": "-FsR5omlkTU0"
      },
      "source": [
        "# While moving reverse the index starts from -1\n",
        "# -10  -9   -8  -7   -6  -5   -4   -3   -2   -1\n",
        "# s    t    r    i    n    g       1    2    3 \n",
        "# 0    1    2    3    4    5   6   7    8    9\n",
        "# While moving forward the index starts from 0"
      ],
      "execution_count": null,
      "outputs": []
    },
    {
      "cell_type": "code",
      "metadata": {
        "id": "KLnySzFnkTU2"
      },
      "source": [
        "s = 'hello world'"
      ],
      "execution_count": null,
      "outputs": []
    },
    {
      "cell_type": "code",
      "metadata": {
        "id": "HFKTuBrikTU4"
      },
      "source": [
        "s"
      ],
      "execution_count": null,
      "outputs": []
    },
    {
      "cell_type": "code",
      "metadata": {
        "id": "DXT4ru2mkTU6"
      },
      "source": [
        "len(s)"
      ],
      "execution_count": null,
      "outputs": []
    },
    {
      "cell_type": "code",
      "metadata": {
        "id": "u7YAewvIkTU9"
      },
      "source": [
        "s"
      ],
      "execution_count": null,
      "outputs": []
    },
    {
      "cell_type": "code",
      "metadata": {
        "id": "3_LTgHl4kTVE"
      },
      "source": [
        "s[0]"
      ],
      "execution_count": null,
      "outputs": []
    },
    {
      "cell_type": "code",
      "metadata": {
        "id": "19juzMiZkTVK"
      },
      "source": [
        "s[0],s[-11]"
      ],
      "execution_count": null,
      "outputs": []
    },
    {
      "cell_type": "code",
      "metadata": {
        "id": "QwWzKl-RkTVO"
      },
      "source": [
        "s[-1]"
      ],
      "execution_count": null,
      "outputs": []
    },
    {
      "cell_type": "code",
      "metadata": {
        "id": "sRCdrOQPkTVV"
      },
      "source": [
        "s[10]"
      ],
      "execution_count": null,
      "outputs": []
    },
    {
      "cell_type": "markdown",
      "metadata": {
        "id": "VUEAv9u0kTVX"
      },
      "source": [
        "# Slicing"
      ]
    },
    {
      "cell_type": "code",
      "metadata": {
        "id": "Jfx2O1InkTVX"
      },
      "source": [
        "s"
      ],
      "execution_count": null,
      "outputs": []
    },
    {
      "cell_type": "code",
      "metadata": {
        "id": "7TL5qv3fkTVe"
      },
      "source": [
        "# variable_name[start_index : end_index]"
      ],
      "execution_count": null,
      "outputs": []
    },
    {
      "cell_type": "code",
      "metadata": {
        "id": "eP28gDtokTVg"
      },
      "source": [
        "s[:]"
      ],
      "execution_count": null,
      "outputs": []
    },
    {
      "cell_type": "code",
      "metadata": {
        "id": "0Gf09NG-kTVr"
      },
      "source": [
        "s[0:]"
      ],
      "execution_count": null,
      "outputs": []
    },
    {
      "cell_type": "code",
      "metadata": {
        "id": "9d2ARx1XkTV2"
      },
      "source": [
        "s[:-1] #end_index - 1"
      ],
      "execution_count": null,
      "outputs": []
    },
    {
      "cell_type": "code",
      "metadata": {
        "id": "8hbzqboKkTV8"
      },
      "source": [
        "s[3:8]"
      ],
      "execution_count": null,
      "outputs": []
    },
    {
      "cell_type": "code",
      "metadata": {
        "id": "3lpQAZhlkTWA"
      },
      "source": [
        "s"
      ],
      "execution_count": null,
      "outputs": []
    },
    {
      "cell_type": "code",
      "metadata": {
        "id": "HHr9OUcWkTWD"
      },
      "source": [
        "s[:]"
      ],
      "execution_count": null,
      "outputs": []
    },
    {
      "cell_type": "code",
      "metadata": {
        "id": "egP0PKYDkTWH"
      },
      "source": [
        "s[::1]"
      ],
      "execution_count": null,
      "outputs": []
    },
    {
      "cell_type": "code",
      "metadata": {
        "id": "uTxG1OP0kTWK"
      },
      "source": [
        "s[::2]"
      ],
      "execution_count": null,
      "outputs": []
    },
    {
      "cell_type": "code",
      "metadata": {
        "id": "2Xe44TOLkTWM"
      },
      "source": [
        "s[::-1]"
      ],
      "execution_count": null,
      "outputs": []
    },
    {
      "cell_type": "code",
      "metadata": {
        "id": "d_XPqWhWkTWS"
      },
      "source": [
        "s[::-2]"
      ],
      "execution_count": null,
      "outputs": []
    },
    {
      "cell_type": "code",
      "metadata": {
        "id": "ipTwR6oSkTWa"
      },
      "source": [
        "s"
      ],
      "execution_count": null,
      "outputs": []
    },
    {
      "cell_type": "code",
      "metadata": {
        "id": "3omPCXxOkTWd"
      },
      "source": [
        "s[::3]"
      ],
      "execution_count": null,
      "outputs": []
    },
    {
      "cell_type": "markdown",
      "metadata": {
        "id": "pPkY9sGhkTWf"
      },
      "source": [
        "# Properties"
      ]
    },
    {
      "cell_type": "code",
      "metadata": {
        "id": "4Tn_7eJkkTWg"
      },
      "source": [
        "b = 'string'"
      ],
      "execution_count": null,
      "outputs": []
    },
    {
      "cell_type": "code",
      "metadata": {
        "id": "KPKva-uBkTWk"
      },
      "source": [
        "b"
      ],
      "execution_count": null,
      "outputs": []
    },
    {
      "cell_type": "code",
      "metadata": {
        "id": "qVPfiwizkTWn"
      },
      "source": [
        "b[0]"
      ],
      "execution_count": null,
      "outputs": []
    },
    {
      "cell_type": "code",
      "metadata": {
        "id": "EWLcNNVQkTWp"
      },
      "source": [
        "b[0] = 'x' # IMMUNTABLE"
      ],
      "execution_count": null,
      "outputs": []
    },
    {
      "cell_type": "code",
      "metadata": {
        "id": "A5NEWwe8kTWt"
      },
      "source": [
        "b = 'string1'"
      ],
      "execution_count": null,
      "outputs": []
    },
    {
      "cell_type": "code",
      "metadata": {
        "id": "JV8yB4cOkTWv"
      },
      "source": [
        "b"
      ],
      "execution_count": null,
      "outputs": []
    },
    {
      "cell_type": "code",
      "metadata": {
        "id": "GhvnO-X9kTWx"
      },
      "source": [
        "bb = 10"
      ],
      "execution_count": null,
      "outputs": []
    },
    {
      "cell_type": "code",
      "metadata": {
        "id": "nvk79AL7kTWy"
      },
      "source": [
        "a = 20\n",
        "b = 'string'\n",
        "c = 10.07"
      ],
      "execution_count": null,
      "outputs": []
    },
    {
      "cell_type": "code",
      "metadata": {
        "id": "tvsDbWlkkTW0"
      },
      "source": [
        "type(a), type(b), type(c)"
      ],
      "execution_count": null,
      "outputs": []
    },
    {
      "cell_type": "code",
      "metadata": {
        "id": "wW5dV9ghkTW3"
      },
      "source": [
        "a + c \n",
        "# If the variables are numbers then + symbol is used for additon"
      ],
      "execution_count": null,
      "outputs": []
    },
    {
      "cell_type": "code",
      "metadata": {
        "id": "F8uouzKpkTW5"
      },
      "source": [
        "a + b"
      ],
      "execution_count": null,
      "outputs": []
    },
    {
      "cell_type": "code",
      "metadata": {
        "id": "XJHJzkw4kTW6"
      },
      "source": [
        "str(a) + b\n",
        "# If the variables are any datatype other than numbers then\n",
        "# + symbol is used as concatination"
      ],
      "execution_count": null,
      "outputs": []
    },
    {
      "cell_type": "code",
      "metadata": {
        "id": "caX2FUd-kTW8"
      },
      "source": [
        "a + int(b)"
      ],
      "execution_count": null,
      "outputs": []
    },
    {
      "cell_type": "code",
      "metadata": {
        "id": "V5rxup0AkTW-"
      },
      "source": [
        "a = 'string'\n",
        "b = 'string1'"
      ],
      "execution_count": null,
      "outputs": []
    },
    {
      "cell_type": "code",
      "metadata": {
        "id": "R81gKY3qkTXD"
      },
      "source": [
        "a + b"
      ],
      "execution_count": null,
      "outputs": []
    },
    {
      "cell_type": "code",
      "metadata": {
        "id": "HJGIGHT4kTXL"
      },
      "source": [
        "c = a + ' ' + b"
      ],
      "execution_count": null,
      "outputs": []
    },
    {
      "cell_type": "code",
      "metadata": {
        "id": "gfnHbplFkTXO"
      },
      "source": [
        "c"
      ],
      "execution_count": null,
      "outputs": []
    },
    {
      "cell_type": "markdown",
      "metadata": {
        "id": "8LLEUd5AkTXS"
      },
      "source": [
        "# Methods"
      ]
    },
    {
      "cell_type": "code",
      "metadata": {
        "id": "JaKg1dFekTXV"
      },
      "source": [
        "a = 'Hello World'\n",
        "a"
      ],
      "execution_count": null,
      "outputs": []
    },
    {
      "cell_type": "code",
      "metadata": {
        "id": "T7wOEGhmkTXX"
      },
      "source": [
        "type(a)"
      ],
      "execution_count": null,
      "outputs": []
    },
    {
      "cell_type": "code",
      "metadata": {
        "id": "FR7W-1GEkTXY"
      },
      "source": [
        "len(a)"
      ],
      "execution_count": null,
      "outputs": []
    },
    {
      "cell_type": "code",
      "metadata": {
        "id": "x6WMsnR8kTXZ"
      },
      "source": [
        "a."
      ],
      "execution_count": null,
      "outputs": []
    },
    {
      "cell_type": "code",
      "metadata": {
        "id": "tOq3pwOHkTXb"
      },
      "source": [
        "a.capitalize?"
      ],
      "execution_count": null,
      "outputs": []
    },
    {
      "cell_type": "code",
      "metadata": {
        "id": "Qoph3xtPkTXg"
      },
      "source": [
        "a"
      ],
      "execution_count": null,
      "outputs": []
    },
    {
      "cell_type": "code",
      "metadata": {
        "id": "K2Ghohp8kTXk"
      },
      "source": [
        "a.capitalize()"
      ],
      "execution_count": null,
      "outputs": []
    },
    {
      "cell_type": "code",
      "metadata": {
        "id": "B1tl5wpqkTXl"
      },
      "source": [
        "a"
      ],
      "execution_count": null,
      "outputs": []
    },
    {
      "cell_type": "code",
      "metadata": {
        "id": "Rbiw_brJkTXn"
      },
      "source": [
        "a.title()"
      ],
      "execution_count": null,
      "outputs": []
    },
    {
      "cell_type": "code",
      "metadata": {
        "id": "d1daJwK9kTXp"
      },
      "source": [
        "a.upper()"
      ],
      "execution_count": null,
      "outputs": []
    },
    {
      "cell_type": "code",
      "metadata": {
        "id": "d7e0883pkTXr"
      },
      "source": [
        "a"
      ],
      "execution_count": null,
      "outputs": []
    },
    {
      "cell_type": "code",
      "metadata": {
        "id": "mYRjdDs5kTXs"
      },
      "source": [
        "a.lower()"
      ],
      "execution_count": null,
      "outputs": []
    },
    {
      "cell_type": "code",
      "metadata": {
        "id": "eFC224mbkTXu"
      },
      "source": [
        "a.count('o')"
      ],
      "execution_count": null,
      "outputs": []
    },
    {
      "cell_type": "code",
      "metadata": {
        "id": "PudsDlSskTXv"
      },
      "source": [
        "a"
      ],
      "execution_count": null,
      "outputs": []
    },
    {
      "cell_type": "code",
      "metadata": {
        "id": "TN3LzZVbkTX0"
      },
      "source": [
        "a.count('h')"
      ],
      "execution_count": null,
      "outputs": []
    },
    {
      "cell_type": "code",
      "metadata": {
        "id": "6ECFs1VZkTX2"
      },
      "source": [
        "a"
      ],
      "execution_count": null,
      "outputs": []
    },
    {
      "cell_type": "code",
      "metadata": {
        "id": "6UPIdt5ekTX3"
      },
      "source": [
        "a.split()"
      ],
      "execution_count": null,
      "outputs": []
    },
    {
      "cell_type": "code",
      "metadata": {
        "id": "iLwpqLCwkTX6"
      },
      "source": [
        "a"
      ],
      "execution_count": null,
      "outputs": []
    },
    {
      "cell_type": "code",
      "metadata": {
        "id": "iCYagz-fkTX8"
      },
      "source": [
        "a.split('o')\n",
        "# ['Hell',' w', 'rld']"
      ],
      "execution_count": null,
      "outputs": []
    },
    {
      "cell_type": "code",
      "metadata": {
        "id": "14Qg13NgkTX_"
      },
      "source": [
        "a = '1234a'\n",
        "type(a)"
      ],
      "execution_count": null,
      "outputs": []
    },
    {
      "cell_type": "code",
      "metadata": {
        "id": "CHq9Dqn7kTYA"
      },
      "source": [
        "a.isdigit() # If a method starts with 'is', it returns only True or False"
      ],
      "execution_count": null,
      "outputs": []
    },
    {
      "cell_type": "code",
      "metadata": {
        "id": "hMo71rd-kTYH"
      },
      "source": [
        "a"
      ],
      "execution_count": null,
      "outputs": []
    },
    {
      "cell_type": "code",
      "metadata": {
        "id": "FsnvJHVvkTYJ"
      },
      "source": [
        "a.isalpha()"
      ],
      "execution_count": null,
      "outputs": []
    },
    {
      "cell_type": "code",
      "metadata": {
        "id": "eaA1erwJkTYL"
      },
      "source": [
        "a.isalnum() # Either alphabets or numbers or combination of both"
      ],
      "execution_count": null,
      "outputs": []
    },
    {
      "cell_type": "code",
      "metadata": {
        "id": "8NTtoP-UkTYT"
      },
      "source": [
        "a = '1234'"
      ],
      "execution_count": null,
      "outputs": []
    },
    {
      "cell_type": "code",
      "metadata": {
        "id": "YMBpAuAzkTYW"
      },
      "source": [
        "a.isdigit()"
      ],
      "execution_count": null,
      "outputs": []
    },
    {
      "cell_type": "code",
      "metadata": {
        "id": "lNMC44GLkTYY"
      },
      "source": [
        "a.isalpha()"
      ],
      "execution_count": null,
      "outputs": []
    },
    {
      "cell_type": "code",
      "metadata": {
        "id": "lmx5j6abkTYc"
      },
      "source": [
        "a.isalnum() # it can be only numbers or only alphabets or combination of both"
      ],
      "execution_count": null,
      "outputs": []
    },
    {
      "cell_type": "code",
      "metadata": {
        "id": "QnT8bYQYkTYh"
      },
      "source": [
        "a = '#$123a'\n",
        "a.isalnum()"
      ],
      "execution_count": null,
      "outputs": []
    },
    {
      "cell_type": "code",
      "metadata": {
        "id": "x1c13GtUkTYj"
      },
      "source": [
        "a = 'Hello World'"
      ],
      "execution_count": null,
      "outputs": []
    },
    {
      "cell_type": "code",
      "metadata": {
        "id": "bEVk3AS2kTYm"
      },
      "source": [
        "a.isupper()"
      ],
      "execution_count": null,
      "outputs": []
    },
    {
      "cell_type": "code",
      "metadata": {
        "id": "3XXTXWQFkTYp"
      },
      "source": [
        "a.islower()"
      ],
      "execution_count": null,
      "outputs": []
    },
    {
      "cell_type": "code",
      "metadata": {
        "id": "vNjGEk12kTYs"
      },
      "source": [
        "a"
      ],
      "execution_count": null,
      "outputs": []
    },
    {
      "cell_type": "code",
      "metadata": {
        "id": "x4ptexWOkTYv"
      },
      "source": [
        "a.replace('W','w')"
      ],
      "execution_count": null,
      "outputs": []
    },
    {
      "cell_type": "code",
      "metadata": {
        "id": "h5WuffVFkTYx"
      },
      "source": [
        "a"
      ],
      "execution_count": null,
      "outputs": []
    },
    {
      "cell_type": "code",
      "metadata": {
        "id": "e8Bv3HaakTY5"
      },
      "source": [
        "a = a.replace('W','w')"
      ],
      "execution_count": null,
      "outputs": []
    },
    {
      "cell_type": "code",
      "metadata": {
        "id": "GSjJ8niHkTY7"
      },
      "source": [
        "a"
      ],
      "execution_count": null,
      "outputs": []
    },
    {
      "cell_type": "code",
      "metadata": {
        "id": "F-m-n00LkTZG"
      },
      "source": [
        "a.islower?"
      ],
      "execution_count": null,
      "outputs": []
    },
    {
      "cell_type": "code",
      "metadata": {
        "id": "2WZ1SXwfkTZJ"
      },
      "source": [
        "help(a.islower)"
      ],
      "execution_count": null,
      "outputs": []
    },
    {
      "cell_type": "code",
      "metadata": {
        "id": "PChgbkcUkTZN"
      },
      "source": [
        "# capitalize\n",
        "# title\n",
        "# upper\n",
        "# lower\n",
        "# count\n",
        "# split\n",
        "# isdigit\n",
        "# isalpha\n",
        "# isalnum\n",
        "# isupper\n",
        "# islower\n",
        "# replace"
      ],
      "execution_count": null,
      "outputs": []
    },
    {
      "cell_type": "markdown",
      "metadata": {
        "id": "QqJBbsTYkTZP"
      },
      "source": [
        "# [String Methods](https://docs.python.org/2.4/lib/string-methods.html)"
      ]
    },
    {
      "cell_type": "markdown",
      "metadata": {
        "id": "VwrrE92lkTZQ"
      },
      "source": [
        "# Print Formatting"
      ]
    },
    {
      "cell_type": "code",
      "metadata": {
        "id": "gj68ET0DkTZQ"
      },
      "source": [
        "# %s ---> string(int, float)\n",
        "# %d ---> int(float) ---> 10.01 ----> 10\n",
        "# %f ---> float(int) ---> 10 ---> 10.0"
      ],
      "execution_count": null,
      "outputs": []
    },
    {
      "cell_type": "code",
      "metadata": {
        "id": "C7VOoCsKkTZR"
      },
      "source": [
        "# %s ---> string(int, float)\n",
        "str('10'), str('55.55')"
      ],
      "execution_count": null,
      "outputs": []
    },
    {
      "cell_type": "code",
      "metadata": {
        "id": "eeDGY_yhkTZS"
      },
      "source": [
        "# %d ---> int(float) ---> 10.01 ----> 10\n",
        "int(10.01)"
      ],
      "execution_count": null,
      "outputs": []
    },
    {
      "cell_type": "code",
      "metadata": {
        "id": "hOkVF445kTZU"
      },
      "source": [
        "int('String')"
      ],
      "execution_count": null,
      "outputs": []
    },
    {
      "cell_type": "code",
      "metadata": {
        "id": "Ua7RRwRdkTZX"
      },
      "source": [
        "float(10)"
      ],
      "execution_count": null,
      "outputs": []
    },
    {
      "cell_type": "code",
      "metadata": {
        "id": "5ECeAmbskTZZ"
      },
      "source": [
        "print('My name is {}'.format('Sid'))"
      ],
      "execution_count": null,
      "outputs": []
    },
    {
      "cell_type": "code",
      "metadata": {
        "id": "zdnrGz6XkTZa"
      },
      "source": [
        "a = 'sid'\n",
        "print('My name is {}'.format(a))"
      ],
      "execution_count": null,
      "outputs": []
    },
    {
      "cell_type": "code",
      "metadata": {
        "id": "tYosOd23kTZd"
      },
      "source": [
        "print(\"My name is {} and my age is {}\".format(a, 24))"
      ],
      "execution_count": null,
      "outputs": []
    },
    {
      "cell_type": "code",
      "metadata": {
        "id": "7-BtLUd6kTZi"
      },
      "source": [
        "# Python program to add two numbers\n",
        "\n",
        "# Write a Python program which accepts the pi and radius value from the user and compute the area\n",
        "# of circle\n",
        "#     Radius of a circle formula  = pi*r*r\n",
        "#     Value of pi = 3.14\n",
        "#     r = User given value\n",
        "\n",
        "# Write a Python program to get the volume of a sphere with radius 6\n",
        "#     volume of a sphere formula = V = 4/3 × pi × r3\n",
        "\n",
        "# Write a Python program which accepts the user's first and last name and print them in reverse \n",
        "# order with a space between them\n",
        "#     Sample Input :\n",
        "#     first_name = 'Sid'\n",
        "#     last_name = 'Sri'\n",
        "#     Sample Output :\n",
        "#     result = Sri Sid"
      ],
      "execution_count": null,
      "outputs": []
    },
    {
      "cell_type": "code",
      "metadata": {
        "scrolled": true,
        "id": "unaLIAm6kTZj"
      },
      "source": [
        "a = int(input())\n",
        "b = int(input())\n",
        "c = a + b\n",
        "c"
      ],
      "execution_count": null,
      "outputs": []
    },
    {
      "cell_type": "code",
      "metadata": {
        "id": "wKo3rW2-kTZl"
      },
      "source": [
        "pi = float(input())\n",
        "r = int(input())\n",
        "area = pi * r * r # pi * r ** 2"
      ],
      "execution_count": null,
      "outputs": []
    },
    {
      "cell_type": "code",
      "metadata": {
        "id": "fKBIMQzpkTZm"
      },
      "source": [
        "area"
      ],
      "execution_count": null,
      "outputs": []
    },
    {
      "cell_type": "code",
      "metadata": {
        "id": "83VXRyfmkTZn"
      },
      "source": [
        "pi = float(input())\n",
        "r = int(input())\n",
        "volume = (4/3) * pi * r ** 3"
      ],
      "execution_count": null,
      "outputs": []
    },
    {
      "cell_type": "code",
      "metadata": {
        "id": "PZk0zIWDkTZo"
      },
      "source": [
        "volume"
      ],
      "execution_count": null,
      "outputs": []
    },
    {
      "cell_type": "code",
      "metadata": {
        "id": "_dv-5VcHkTZr"
      },
      "source": [
        "fn = input()\n",
        "ln = input()\n",
        "ln + ' ' + fn"
      ],
      "execution_count": null,
      "outputs": []
    },
    {
      "cell_type": "markdown",
      "metadata": {
        "id": "g4IXurJokTZt"
      },
      "source": [
        "# List"
      ]
    },
    {
      "cell_type": "code",
      "metadata": {
        "id": "96h9L5eYkTZu"
      },
      "source": [
        "# []"
      ],
      "execution_count": null,
      "outputs": []
    },
    {
      "cell_type": "code",
      "metadata": {
        "id": "eIilDl46kTZv"
      },
      "source": [
        "a = 10\n",
        "b = 20.55\n",
        "c = 'string'"
      ],
      "execution_count": null,
      "outputs": []
    },
    {
      "cell_type": "code",
      "metadata": {
        "id": "Osv-3TR4kTZw"
      },
      "source": [
        "a = [1,2,3,50.55,55.55,'string']"
      ],
      "execution_count": null,
      "outputs": []
    },
    {
      "cell_type": "code",
      "metadata": {
        "id": "D9skyWErkTZz"
      },
      "source": [
        "type(a)"
      ],
      "execution_count": null,
      "outputs": []
    },
    {
      "cell_type": "code",
      "metadata": {
        "id": "4OKNtO2SkTZ2"
      },
      "source": [
        "len(a)"
      ],
      "execution_count": null,
      "outputs": []
    },
    {
      "cell_type": "code",
      "metadata": {
        "id": "pUQ9zELskTZ3"
      },
      "source": [
        "a"
      ],
      "execution_count": null,
      "outputs": []
    },
    {
      "cell_type": "code",
      "metadata": {
        "id": "JCd-M6EckTZ5"
      },
      "source": [
        "a[0]"
      ],
      "execution_count": null,
      "outputs": []
    },
    {
      "cell_type": "code",
      "metadata": {
        "id": "_KJeQSkZkTZ6"
      },
      "source": [
        "a[-1]"
      ],
      "execution_count": null,
      "outputs": []
    },
    {
      "cell_type": "code",
      "metadata": {
        "id": "KLUpNniPkTZ8"
      },
      "source": [
        "a[0:5]"
      ],
      "execution_count": null,
      "outputs": []
    },
    {
      "cell_type": "code",
      "metadata": {
        "id": "lYpkkSvfkTaA"
      },
      "source": [
        "a[::-1]"
      ],
      "execution_count": null,
      "outputs": []
    },
    {
      "cell_type": "code",
      "metadata": {
        "id": "Qt6-3TdNkTaJ"
      },
      "source": [
        "a"
      ],
      "execution_count": null,
      "outputs": []
    },
    {
      "cell_type": "code",
      "metadata": {
        "id": "9XQDC11UkTaM"
      },
      "source": [
        "a[0] * 10"
      ],
      "execution_count": null,
      "outputs": []
    },
    {
      "cell_type": "code",
      "metadata": {
        "id": "0nWgo-L2kTaR"
      },
      "source": [
        "a"
      ],
      "execution_count": null,
      "outputs": []
    },
    {
      "cell_type": "code",
      "metadata": {
        "id": "9ubb2m39kTaW"
      },
      "source": [
        "a[-1]"
      ],
      "execution_count": null,
      "outputs": []
    },
    {
      "cell_type": "code",
      "metadata": {
        "id": "-k3c8dX0kTal"
      },
      "source": [
        "a[-1].upper()"
      ],
      "execution_count": null,
      "outputs": []
    },
    {
      "cell_type": "code",
      "metadata": {
        "id": "pAUsHzdvkTal"
      },
      "source": [
        "a"
      ],
      "execution_count": null,
      "outputs": []
    },
    {
      "cell_type": "code",
      "metadata": {
        "id": "OLH_oTSJkTao"
      },
      "source": [
        "a[-1] = a[-1].upper()"
      ],
      "execution_count": null,
      "outputs": []
    },
    {
      "cell_type": "code",
      "metadata": {
        "id": "GbJQwEKMkTap"
      },
      "source": [
        "a"
      ],
      "execution_count": null,
      "outputs": []
    },
    {
      "cell_type": "code",
      "metadata": {
        "id": "cDIVy2xHkTav"
      },
      "source": [
        "a[0]"
      ],
      "execution_count": null,
      "outputs": []
    },
    {
      "cell_type": "code",
      "metadata": {
        "id": "qH_9A10qkTax"
      },
      "source": [
        "a[0] = 20 # MUTABLE\n",
        "a"
      ],
      "execution_count": null,
      "outputs": []
    },
    {
      "cell_type": "code",
      "metadata": {
        "id": "zPisp1yKkTay"
      },
      "source": [
        "a + 10"
      ],
      "execution_count": null,
      "outputs": []
    },
    {
      "cell_type": "code",
      "metadata": {
        "id": "dBRMsrSikTaz"
      },
      "source": [
        "a + [10]"
      ],
      "execution_count": null,
      "outputs": []
    },
    {
      "cell_type": "code",
      "metadata": {
        "id": "-7mwpVXYkTa0"
      },
      "source": [
        "a"
      ],
      "execution_count": null,
      "outputs": []
    },
    {
      "cell_type": "code",
      "metadata": {
        "id": "hM62PDgAkTa1"
      },
      "source": [
        "a = [1,2,3,4,5,6]"
      ],
      "execution_count": null,
      "outputs": []
    },
    {
      "cell_type": "code",
      "metadata": {
        "id": "wS9KldNzkTa2"
      },
      "source": [
        "a"
      ],
      "execution_count": null,
      "outputs": []
    },
    {
      "cell_type": "code",
      "metadata": {
        "id": "E8cudhNnkTa3"
      },
      "source": [
        "a."
      ],
      "execution_count": null,
      "outputs": []
    },
    {
      "cell_type": "code",
      "metadata": {
        "id": "FwF-N3wdkTa4"
      },
      "source": [
        "a.append(10)# Permanent change"
      ],
      "execution_count": null,
      "outputs": []
    },
    {
      "cell_type": "code",
      "metadata": {
        "id": "TZViAvTYkTa9"
      },
      "source": [
        "a"
      ],
      "execution_count": null,
      "outputs": []
    },
    {
      "cell_type": "code",
      "metadata": {
        "id": "H8IJ1tjqkTbA"
      },
      "source": [
        "a.append(10,20)"
      ],
      "execution_count": null,
      "outputs": []
    },
    {
      "cell_type": "code",
      "metadata": {
        "id": "AymYyV2UkTbC"
      },
      "source": [
        "# 10,20 ---> 2 parameters\n",
        "# [10,20] ---> 1 parameter"
      ],
      "execution_count": null,
      "outputs": []
    },
    {
      "cell_type": "code",
      "metadata": {
        "id": "a_8Ik8RfkTbE"
      },
      "source": [
        "a.append([10,20,1,2,3,5])"
      ],
      "execution_count": null,
      "outputs": []
    },
    {
      "cell_type": "code",
      "metadata": {
        "id": "iUSb6RFFkTbF"
      },
      "source": [
        "a"
      ],
      "execution_count": null,
      "outputs": []
    },
    {
      "cell_type": "code",
      "metadata": {
        "id": "mvpJ4rkhkTbG"
      },
      "source": [
        "a = [10,20,1,2,3,5]"
      ],
      "execution_count": null,
      "outputs": []
    },
    {
      "cell_type": "code",
      "metadata": {
        "id": "1F6YkLKtkTbM"
      },
      "source": [
        "a"
      ],
      "execution_count": null,
      "outputs": []
    },
    {
      "cell_type": "code",
      "metadata": {
        "id": "GVOGE_7BkTbN"
      },
      "source": [
        "a.extend([10,20,1,2,3,5])"
      ],
      "execution_count": null,
      "outputs": []
    },
    {
      "cell_type": "code",
      "metadata": {
        "id": "Ewpi00ZCkTbP"
      },
      "source": [
        "a"
      ],
      "execution_count": null,
      "outputs": []
    },
    {
      "cell_type": "code",
      "metadata": {
        "id": "ZjXHyltCkTbP"
      },
      "source": [
        "a.pop()"
      ],
      "execution_count": null,
      "outputs": []
    },
    {
      "cell_type": "code",
      "metadata": {
        "id": "So3e3ux6kTbR"
      },
      "source": [
        "a"
      ],
      "execution_count": null,
      "outputs": []
    },
    {
      "cell_type": "code",
      "metadata": {
        "id": "X7iz0hLrkTbS"
      },
      "source": [
        "a.pop(1) #index"
      ],
      "execution_count": null,
      "outputs": []
    },
    {
      "cell_type": "code",
      "metadata": {
        "id": "nA_iYMR1kTbS"
      },
      "source": [
        "a"
      ],
      "execution_count": null,
      "outputs": []
    },
    {
      "cell_type": "code",
      "metadata": {
        "id": "Qk3g6hkhkTbT"
      },
      "source": [
        "a.insert(5,[55,35])"
      ],
      "execution_count": null,
      "outputs": []
    },
    {
      "cell_type": "code",
      "metadata": {
        "id": "mQHCUI6HkTbV"
      },
      "source": [
        "a"
      ],
      "execution_count": null,
      "outputs": []
    },
    {
      "cell_type": "code",
      "metadata": {
        "id": "BjTkrtUWkTbZ"
      },
      "source": [
        "a.remove(1) # Value"
      ],
      "execution_count": null,
      "outputs": []
    },
    {
      "cell_type": "code",
      "metadata": {
        "id": "uqVutUJ4kTba"
      },
      "source": [
        "a"
      ],
      "execution_count": null,
      "outputs": []
    },
    {
      "cell_type": "code",
      "metadata": {
        "id": "Bgy4RxrDkTbb"
      },
      "source": [
        "a.remove(10)\n",
        "a"
      ],
      "execution_count": null,
      "outputs": []
    },
    {
      "cell_type": "code",
      "metadata": {
        "id": "voPLoto1kTbc"
      },
      "source": [
        "a.remove(55)"
      ],
      "execution_count": null,
      "outputs": []
    },
    {
      "cell_type": "code",
      "metadata": {
        "id": "jwDaG1H2kTbh"
      },
      "source": [
        "a.remove([55,35])\n",
        "a"
      ],
      "execution_count": null,
      "outputs": []
    },
    {
      "cell_type": "code",
      "metadata": {
        "id": "YftvaVBdkTbk"
      },
      "source": [
        "a"
      ],
      "execution_count": null,
      "outputs": []
    },
    {
      "cell_type": "code",
      "metadata": {
        "id": "Q1V5aoMjkTbl"
      },
      "source": [
        "a.count(1) # value"
      ],
      "execution_count": null,
      "outputs": []
    },
    {
      "cell_type": "code",
      "metadata": {
        "id": "CbO9678pkTbm"
      },
      "source": [
        "a.count(2)"
      ],
      "execution_count": null,
      "outputs": []
    },
    {
      "cell_type": "code",
      "metadata": {
        "id": "cMT5CVJxkTbn"
      },
      "source": [
        "a.count('a')"
      ],
      "execution_count": null,
      "outputs": []
    },
    {
      "cell_type": "code",
      "metadata": {
        "id": "8UkXrW8lkTbq"
      },
      "source": [
        "a.count([55, 35])"
      ],
      "execution_count": null,
      "outputs": []
    },
    {
      "cell_type": "code",
      "metadata": {
        "id": "ulUSWLU_kTbt"
      },
      "source": [
        "a.append([55, 35])"
      ],
      "execution_count": null,
      "outputs": []
    },
    {
      "cell_type": "code",
      "metadata": {
        "id": "5HSfXIgfkTbu"
      },
      "source": [
        "a"
      ],
      "execution_count": null,
      "outputs": []
    },
    {
      "cell_type": "code",
      "metadata": {
        "id": "CNBaojB6kTbv"
      },
      "source": [
        "a[-1]"
      ],
      "execution_count": null,
      "outputs": []
    },
    {
      "cell_type": "code",
      "metadata": {
        "id": "A57PoBrDkTbw"
      },
      "source": [
        "a[-1].pop(0)"
      ],
      "execution_count": null,
      "outputs": []
    },
    {
      "cell_type": "code",
      "metadata": {
        "id": "DY9wMFsukTbx"
      },
      "source": [
        "a"
      ],
      "execution_count": null,
      "outputs": []
    },
    {
      "cell_type": "code",
      "metadata": {
        "id": "7uklrhjukTbz"
      },
      "source": [
        "a.count([55, 35])"
      ],
      "execution_count": null,
      "outputs": []
    },
    {
      "cell_type": "code",
      "metadata": {
        "id": "QP3dOqRokTb4"
      },
      "source": [
        "a"
      ],
      "execution_count": null,
      "outputs": []
    },
    {
      "cell_type": "code",
      "metadata": {
        "id": "Ez4VQkoBkTb-"
      },
      "source": [
        "a.index(2) # value"
      ],
      "execution_count": null,
      "outputs": []
    },
    {
      "cell_type": "code",
      "metadata": {
        "id": "pdehnib2kTcA"
      },
      "source": [
        "a"
      ],
      "execution_count": null,
      "outputs": []
    },
    {
      "cell_type": "code",
      "metadata": {
        "id": "VVmhVa8zkTcA"
      },
      "source": [
        "b = a.copy()"
      ],
      "execution_count": null,
      "outputs": []
    },
    {
      "cell_type": "code",
      "metadata": {
        "id": "QJXi1mdCkTcC"
      },
      "source": [
        "b"
      ],
      "execution_count": null,
      "outputs": []
    },
    {
      "cell_type": "code",
      "metadata": {
        "id": "gy9zStlMkTcE"
      },
      "source": [
        "a.clear()"
      ],
      "execution_count": null,
      "outputs": []
    },
    {
      "cell_type": "code",
      "metadata": {
        "id": "kIHI0VDhkTcH"
      },
      "source": [
        "a"
      ],
      "execution_count": null,
      "outputs": []
    },
    {
      "cell_type": "code",
      "metadata": {
        "id": "qM_is1PWkTcI"
      },
      "source": [
        "a = [1,4,3,2,4,6,8,2,2,10]"
      ],
      "execution_count": null,
      "outputs": []
    },
    {
      "cell_type": "code",
      "metadata": {
        "id": "7wEv5WyhkTcL"
      },
      "source": [
        "a"
      ],
      "execution_count": null,
      "outputs": []
    },
    {
      "cell_type": "code",
      "metadata": {
        "id": "E-OdvwXlkTcM"
      },
      "source": [
        "a.sort()"
      ],
      "execution_count": null,
      "outputs": []
    },
    {
      "cell_type": "code",
      "metadata": {
        "id": "mI5GiKDUkTcN"
      },
      "source": [
        "a"
      ],
      "execution_count": null,
      "outputs": []
    },
    {
      "cell_type": "code",
      "metadata": {
        "id": "pWCbIkJWkTcO"
      },
      "source": [
        "a.sort(reverse = True)\n",
        "a"
      ],
      "execution_count": null,
      "outputs": []
    },
    {
      "cell_type": "code",
      "metadata": {
        "id": "px7vHghbkTcP"
      },
      "source": [
        "a = [1,4,3,2,4,6,8,2,2,10]"
      ],
      "execution_count": null,
      "outputs": []
    },
    {
      "cell_type": "code",
      "metadata": {
        "id": "btuB7yXekTcQ"
      },
      "source": [
        "a"
      ],
      "execution_count": null,
      "outputs": []
    },
    {
      "cell_type": "code",
      "metadata": {
        "id": "7X_09K7nkTcR"
      },
      "source": [
        "a[::-1] # Temporary"
      ],
      "execution_count": null,
      "outputs": []
    },
    {
      "cell_type": "code",
      "metadata": {
        "id": "GHk_AN1dkTcS"
      },
      "source": [
        "a"
      ],
      "execution_count": null,
      "outputs": []
    },
    {
      "cell_type": "code",
      "metadata": {
        "id": "VibOxvf9kTcU"
      },
      "source": [
        "a.reverse() # Permanent\n",
        "a"
      ],
      "execution_count": null,
      "outputs": []
    },
    {
      "cell_type": "code",
      "metadata": {
        "id": "o9y4SL-RkTcW"
      },
      "source": [
        "a"
      ],
      "execution_count": null,
      "outputs": []
    },
    {
      "cell_type": "code",
      "metadata": {
        "id": "jfvwySPPkTcX"
      },
      "source": [
        "# append\n",
        "# extend\n",
        "# pop\n",
        "# remove\n",
        "# insert\n",
        "# copy\n",
        "# clear\n",
        "# sort\n",
        "# reverse\n",
        "# count\n",
        "# index"
      ],
      "execution_count": null,
      "outputs": []
    },
    {
      "cell_type": "markdown",
      "metadata": {
        "id": "UfLuAHP0kTcY"
      },
      "source": [
        "# Nested List"
      ]
    },
    {
      "cell_type": "code",
      "metadata": {
        "id": "EwjypSGtkTcY"
      },
      "source": [
        "a = [1,2,3]\n",
        "b = [3,4,5]"
      ],
      "execution_count": null,
      "outputs": []
    },
    {
      "cell_type": "code",
      "metadata": {
        "id": "cF_AYwSZkTcZ"
      },
      "source": [
        "c = [a,b]"
      ],
      "execution_count": null,
      "outputs": []
    },
    {
      "cell_type": "code",
      "metadata": {
        "id": "CgVa4N2JkTcZ"
      },
      "source": [
        "c"
      ],
      "execution_count": null,
      "outputs": []
    },
    {
      "cell_type": "code",
      "metadata": {
        "id": "tGcpZ3oikTca"
      },
      "source": [
        "c[0]"
      ],
      "execution_count": null,
      "outputs": []
    },
    {
      "cell_type": "code",
      "metadata": {
        "id": "Jy3BSzk6kTcb"
      },
      "source": [
        "c[0][2]"
      ],
      "execution_count": null,
      "outputs": []
    },
    {
      "cell_type": "code",
      "metadata": {
        "id": "2xpmp7HGkTcc"
      },
      "source": [
        "c[0][0:-1]"
      ],
      "execution_count": null,
      "outputs": []
    },
    {
      "cell_type": "code",
      "metadata": {
        "id": "nAN65TcdkTcd"
      },
      "source": [
        "c[0]"
      ],
      "execution_count": null,
      "outputs": []
    },
    {
      "cell_type": "code",
      "metadata": {
        "id": "UT_F9jYtkTce"
      },
      "source": [
        "c[0].append(10)\n",
        "c"
      ],
      "execution_count": null,
      "outputs": []
    },
    {
      "cell_type": "code",
      "metadata": {
        "id": "LAJlTqudkTcg"
      },
      "source": [
        "pwd # Present Working Directory"
      ],
      "execution_count": null,
      "outputs": []
    },
    {
      "cell_type": "code",
      "metadata": {
        "id": "sbM5exhmkTch"
      },
      "source": [
        "# 1. Create a list with certain values\n",
        "# 2. Append 10 to the created lits\n",
        "# 3. Delete the last value in the list\n",
        "# 4. Delete the 4th index in the list\n",
        "# 5. Add ['what', 'is', 'your', 'name'] to the list\n",
        "# 6. Access the 5th index in the list\n",
        "# 7. Access the last index in the list\n",
        "# 8. Create a list with multiple values and reverse it using \n",
        "    # a) REVERSE function\n",
        "    # b) Without using reverse function"
      ],
      "execution_count": null,
      "outputs": []
    },
    {
      "cell_type": "code",
      "metadata": {
        "id": "jTw6Y1SZkTci"
      },
      "source": [
        "a = [1,2,3,4,5]\n",
        "a.append(10)\n",
        "a.pop() or del a[-1] or a.pop(-1)\n",
        "a.pop(4)\n",
        "a.extend(['what', 'is', 'your', 'name'])\n",
        "a[5]\n",
        "a[-1]\n",
        "a.reverse() or a[::-1]"
      ],
      "execution_count": null,
      "outputs": []
    },
    {
      "cell_type": "markdown",
      "metadata": {
        "id": "BGZXdCUukTcj"
      },
      "source": [
        "# Dictionary"
      ]
    },
    {
      "cell_type": "code",
      "metadata": {
        "id": "eKwDOu2nkTcj"
      },
      "source": [
        "# {}\n",
        "# {'Key' : 'Value', 'Key1' : 'Value1'}\n",
        "# Keys should be unique"
      ],
      "execution_count": null,
      "outputs": []
    },
    {
      "cell_type": "code",
      "metadata": {
        "id": "DYsBQLvPkTcl"
      },
      "source": [
        "d = {'a' : 1, 'b' : 10.55, 'c' : 'string', 'd' : [1,2,3,4]}"
      ],
      "execution_count": null,
      "outputs": []
    },
    {
      "cell_type": "code",
      "metadata": {
        "id": "Qt_IOgrzkTcn"
      },
      "source": [
        "d"
      ],
      "execution_count": null,
      "outputs": []
    },
    {
      "cell_type": "code",
      "metadata": {
        "id": "2PrrsX56kTcq"
      },
      "source": [
        "d['a']"
      ],
      "execution_count": null,
      "outputs": []
    },
    {
      "cell_type": "code",
      "metadata": {
        "id": "Q233KYJokTcr"
      },
      "source": [
        "d['d']"
      ],
      "execution_count": null,
      "outputs": []
    },
    {
      "cell_type": "code",
      "metadata": {
        "id": "yWhlgujAkTcv"
      },
      "source": [
        "d['a'] * 10"
      ],
      "execution_count": null,
      "outputs": []
    },
    {
      "cell_type": "code",
      "metadata": {
        "id": "iJ-c89VGkTcw"
      },
      "source": [
        "d"
      ],
      "execution_count": null,
      "outputs": []
    },
    {
      "cell_type": "code",
      "metadata": {
        "id": "zPd7whWEkTcx"
      },
      "source": [
        "d['a'] = d['a'] * 10\n",
        "d"
      ],
      "execution_count": null,
      "outputs": []
    },
    {
      "cell_type": "code",
      "metadata": {
        "id": "Mj-J8OhMkTc0"
      },
      "source": [
        "d['c'].upper()"
      ],
      "execution_count": null,
      "outputs": []
    },
    {
      "cell_type": "code",
      "metadata": {
        "id": "GKhTl5gLkTc0"
      },
      "source": [
        "d['c'] = d['c'].upper()\n",
        "d"
      ],
      "execution_count": null,
      "outputs": []
    },
    {
      "cell_type": "code",
      "metadata": {
        "id": "MT5kZ22nkTc2"
      },
      "source": [
        "d['d']"
      ],
      "execution_count": null,
      "outputs": []
    },
    {
      "cell_type": "code",
      "metadata": {
        "id": "sGBMDUJrkTc2"
      },
      "source": [
        "d['d'].append(10)"
      ],
      "execution_count": null,
      "outputs": []
    },
    {
      "cell_type": "code",
      "metadata": {
        "id": "uDlZsvDikTc3"
      },
      "source": [
        "d"
      ],
      "execution_count": null,
      "outputs": []
    },
    {
      "cell_type": "code",
      "metadata": {
        "id": "wn4_ekLHkTc4"
      },
      "source": [
        "d = {}\n",
        "d"
      ],
      "execution_count": null,
      "outputs": []
    },
    {
      "cell_type": "code",
      "metadata": {
        "id": "TnB9uKuwkTc5"
      },
      "source": [
        "type(d)"
      ],
      "execution_count": null,
      "outputs": []
    },
    {
      "cell_type": "code",
      "metadata": {
        "id": "fu0suh-LkTc6"
      },
      "source": [
        "d['a'] = 10\n",
        "d['b'] = 'string'\n",
        "d['c'] = ['Dog','Cat']"
      ],
      "execution_count": null,
      "outputs": []
    },
    {
      "cell_type": "code",
      "metadata": {
        "id": "QsNQTHcTkTc8"
      },
      "source": [
        "d"
      ],
      "execution_count": null,
      "outputs": []
    },
    {
      "cell_type": "code",
      "metadata": {
        "id": "--GSkC72kTc-"
      },
      "source": [
        "d.keys()"
      ],
      "execution_count": null,
      "outputs": []
    },
    {
      "cell_type": "code",
      "metadata": {
        "id": "SZzbisUvkTc_"
      },
      "source": [
        "d.values()"
      ],
      "execution_count": null,
      "outputs": []
    },
    {
      "cell_type": "code",
      "metadata": {
        "id": "2DuAYWD-kTdD"
      },
      "source": [
        "d.items()"
      ],
      "execution_count": null,
      "outputs": []
    },
    {
      "cell_type": "code",
      "metadata": {
        "id": "wYYRT92JkTdD"
      },
      "source": [
        "d.pop()"
      ],
      "execution_count": null,
      "outputs": []
    },
    {
      "cell_type": "code",
      "metadata": {
        "id": "TgCn7rU1kTdE"
      },
      "source": [
        "d"
      ],
      "execution_count": null,
      "outputs": []
    },
    {
      "cell_type": "code",
      "metadata": {
        "id": "VQDOlsUYkTdH"
      },
      "source": [
        "d.pop('a') # key"
      ],
      "execution_count": null,
      "outputs": []
    },
    {
      "cell_type": "code",
      "metadata": {
        "id": "VK1IisFFkTdI"
      },
      "source": [
        "d"
      ],
      "execution_count": null,
      "outputs": []
    },
    {
      "cell_type": "code",
      "metadata": {
        "id": "6DZ-X6xJkTdK"
      },
      "source": [
        "d.popitem()"
      ],
      "execution_count": null,
      "outputs": []
    },
    {
      "cell_type": "code",
      "metadata": {
        "id": "Amu0puFUkTdK"
      },
      "source": [
        "d"
      ],
      "execution_count": null,
      "outputs": []
    },
    {
      "cell_type": "code",
      "metadata": {
        "id": "u5XnmiLFkTdL"
      },
      "source": [
        "d.update(d = 40)\n",
        "d"
      ],
      "execution_count": null,
      "outputs": []
    },
    {
      "cell_type": "code",
      "metadata": {
        "id": "bEH0CPVjkTdM"
      },
      "source": [
        "d.update(b = 20, c = 'string')"
      ],
      "execution_count": null,
      "outputs": []
    },
    {
      "cell_type": "code",
      "metadata": {
        "id": "Ybk-lP2fkTdN"
      },
      "source": [
        "d"
      ],
      "execution_count": null,
      "outputs": []
    },
    {
      "cell_type": "code",
      "metadata": {
        "id": "krVVx0hYkTdP"
      },
      "source": [
        "d['b'] * d['d']"
      ],
      "execution_count": null,
      "outputs": []
    },
    {
      "cell_type": "code",
      "metadata": {
        "id": "Swrxc8sZkTdR"
      },
      "source": [
        "d['d'] = 20\n",
        "d['f'] = 24"
      ],
      "execution_count": null,
      "outputs": []
    },
    {
      "cell_type": "code",
      "metadata": {
        "id": "ye3EsZHBkTdS"
      },
      "source": [
        "d"
      ],
      "execution_count": null,
      "outputs": []
    },
    {
      "cell_type": "code",
      "metadata": {
        "id": "b452-ZKEkTdU"
      },
      "source": [
        "c = {'f' : 55.55}\n",
        "c"
      ],
      "execution_count": null,
      "outputs": []
    },
    {
      "cell_type": "code",
      "metadata": {
        "id": "PlB1jj4KkTdV"
      },
      "source": [
        "d.update(c)\n",
        "d"
      ],
      "execution_count": null,
      "outputs": []
    },
    {
      "cell_type": "code",
      "metadata": {
        "id": "DKc3jSofkTdX"
      },
      "source": [
        "d['b']"
      ],
      "execution_count": null,
      "outputs": []
    },
    {
      "cell_type": "code",
      "metadata": {
        "id": "MCAxNDnhkTdX"
      },
      "source": [
        "d.get('b')"
      ],
      "execution_count": null,
      "outputs": []
    },
    {
      "cell_type": "code",
      "metadata": {
        "id": "s63PSkF-kTdZ"
      },
      "source": [
        "d"
      ],
      "execution_count": null,
      "outputs": []
    },
    {
      "cell_type": "code",
      "metadata": {
        "id": "-Q-CoFHEkTda"
      },
      "source": [
        "d['g']"
      ],
      "execution_count": null,
      "outputs": []
    },
    {
      "cell_type": "code",
      "metadata": {
        "id": "1VynhZUzkTdb"
      },
      "source": [
        "d.get('g')"
      ],
      "execution_count": null,
      "outputs": []
    },
    {
      "cell_type": "markdown",
      "metadata": {
        "id": "1KGZYfzbkTdc"
      },
      "source": [
        "# Nested Dictionary"
      ]
    },
    {
      "cell_type": "code",
      "metadata": {
        "id": "7wX0xsjxkTdc"
      },
      "source": [
        "d = {'a' : {'b' : {'c' : 10}}}"
      ],
      "execution_count": null,
      "outputs": []
    },
    {
      "cell_type": "code",
      "metadata": {
        "id": "Dmi9Vb-RkTdd"
      },
      "source": [
        "d"
      ],
      "execution_count": null,
      "outputs": []
    },
    {
      "cell_type": "code",
      "metadata": {
        "id": "vqTAf_N5kTdd"
      },
      "source": [
        "d.keys()"
      ],
      "execution_count": null,
      "outputs": []
    },
    {
      "cell_type": "code",
      "metadata": {
        "id": "im7oJoD2kTde"
      },
      "source": [
        "d.values()"
      ],
      "execution_count": null,
      "outputs": []
    },
    {
      "cell_type": "code",
      "metadata": {
        "id": "xEBUeqpgkTdf"
      },
      "source": [
        "d['c']"
      ],
      "execution_count": null,
      "outputs": []
    },
    {
      "cell_type": "code",
      "metadata": {
        "id": "2JDVZmW1kTdf"
      },
      "source": [
        "d"
      ],
      "execution_count": null,
      "outputs": []
    },
    {
      "cell_type": "code",
      "metadata": {
        "id": "vwxM_fZ2kTdh"
      },
      "source": [
        "d['a']"
      ],
      "execution_count": null,
      "outputs": []
    },
    {
      "cell_type": "code",
      "metadata": {
        "id": "9OYyTIa5kTdi"
      },
      "source": [
        "d['a']['b']"
      ],
      "execution_count": null,
      "outputs": []
    },
    {
      "cell_type": "code",
      "metadata": {
        "id": "aCsiibDqkTdk"
      },
      "source": [
        "d['a']['b']['c']"
      ],
      "execution_count": null,
      "outputs": []
    },
    {
      "cell_type": "code",
      "metadata": {
        "id": "9dJqrheDkTdl"
      },
      "source": [
        "# 1. Create a dictionary with keys and values\n",
        "# 2. Add a new key with KEY NAME as 'new_key' and VALUE as 'This_is_ a_new_key'\n",
        "# 3. Delete 'new_key'\n",
        "# 4. Acccess all the keys in the created dictionary\n",
        "# 5. Access all the values in the created dictionary\n",
        "# 6. Create an empty dictionary as d\n",
        "# 7 .Create the following variables in the dictionary d\n",
        "#     d['animal'] = ['Dog','cat']\n",
        "#     d['animal1'] = 'Dog'\n",
        "#     d['animal2'] = 'Dog','cat'\n",
        "#     d['answer'] = 42\n",
        "# 8. Access the value 'Dog' in the key 'animal'"
      ],
      "execution_count": null,
      "outputs": []
    },
    {
      "cell_type": "code",
      "metadata": {
        "id": "wyZ9EiGBkTdm"
      },
      "source": [
        "d = {'b': 20, 'd': 20, 'c': 'string', 'f': 24}\n",
        "d['new_key'] = 'This_is_ a_new_key'\n",
        "d.pop('new_key') or d.popitem()\n",
        "d.keys()\n",
        "d.values()\n",
        "d = {}\n",
        "d['animal'] = ['Dog','cat']\n",
        "d['animal1'] = 'Dog'\n",
        "d['animal2'] = 'Dog','cat'\n",
        "d['answer'] = 42\n",
        "d['animal'][0]"
      ],
      "execution_count": null,
      "outputs": []
    },
    {
      "cell_type": "markdown",
      "metadata": {
        "id": "2qCMFqiykTdn"
      },
      "source": [
        "# Tuple"
      ]
    },
    {
      "cell_type": "code",
      "metadata": {
        "id": "y2exViqykTdo"
      },
      "source": [
        "# ()\n",
        "# Immutable"
      ],
      "execution_count": null,
      "outputs": []
    },
    {
      "cell_type": "code",
      "metadata": {
        "id": "6A-eEvMwkTdp"
      },
      "source": [
        "a = (1,2,'string')"
      ],
      "execution_count": null,
      "outputs": []
    },
    {
      "cell_type": "code",
      "metadata": {
        "id": "rjoPWGTAkTdr"
      },
      "source": [
        "a"
      ],
      "execution_count": null,
      "outputs": []
    },
    {
      "cell_type": "code",
      "metadata": {
        "id": "yn0oJNcRkTds"
      },
      "source": [
        "a[0]"
      ],
      "execution_count": null,
      "outputs": []
    },
    {
      "cell_type": "code",
      "metadata": {
        "id": "UtPaC-SAkTds"
      },
      "source": [
        "a[-1]"
      ],
      "execution_count": null,
      "outputs": []
    },
    {
      "cell_type": "code",
      "metadata": {
        "id": "CTaTOzBXkTdt"
      },
      "source": [
        "a[0:2]"
      ],
      "execution_count": null,
      "outputs": []
    },
    {
      "cell_type": "code",
      "metadata": {
        "id": "-d_Ty2LgkTdw"
      },
      "source": [
        "a[::-1]"
      ],
      "execution_count": null,
      "outputs": []
    },
    {
      "cell_type": "code",
      "metadata": {
        "id": "imUkl07YkTdy"
      },
      "source": [
        "a"
      ],
      "execution_count": null,
      "outputs": []
    },
    {
      "cell_type": "code",
      "metadata": {
        "id": "UZt31g8gkTdz"
      },
      "source": [
        "a[0] = 20"
      ],
      "execution_count": null,
      "outputs": []
    },
    {
      "cell_type": "code",
      "metadata": {
        "id": "_H5LK_YSkTd0"
      },
      "source": [
        "a"
      ],
      "execution_count": null,
      "outputs": []
    },
    {
      "cell_type": "code",
      "metadata": {
        "id": "vnKydhudkTd1"
      },
      "source": [
        "# count\n",
        "# index"
      ],
      "execution_count": null,
      "outputs": []
    },
    {
      "cell_type": "code",
      "metadata": {
        "id": "5Rti8z76kTd4"
      },
      "source": [
        "a."
      ],
      "execution_count": null,
      "outputs": []
    },
    {
      "cell_type": "code",
      "metadata": {
        "id": "fDV4NYzwkTd5"
      },
      "source": [
        "a.count(1)"
      ],
      "execution_count": null,
      "outputs": []
    },
    {
      "cell_type": "code",
      "metadata": {
        "id": "gSI02EFAkTd7"
      },
      "source": [
        "a.count(0) #value"
      ],
      "execution_count": null,
      "outputs": []
    },
    {
      "cell_type": "code",
      "metadata": {
        "id": "ubjw9X-pkTd8"
      },
      "source": [
        "a"
      ],
      "execution_count": null,
      "outputs": []
    },
    {
      "cell_type": "code",
      "metadata": {
        "id": "rX1XKE_EkTeA"
      },
      "source": [
        "a.index('string')# value, returns the lowest index of the object"
      ],
      "execution_count": null,
      "outputs": []
    },
    {
      "cell_type": "code",
      "metadata": {
        "id": "itRJJwU6kTeB"
      },
      "source": [
        "a"
      ],
      "execution_count": null,
      "outputs": []
    },
    {
      "cell_type": "code",
      "metadata": {
        "id": "uXn0WW7YkTeE"
      },
      "source": [
        "a = (1,2,3,[1,2,3])"
      ],
      "execution_count": null,
      "outputs": []
    },
    {
      "cell_type": "code",
      "metadata": {
        "id": "8NIDmGkkkTeF"
      },
      "source": [
        "a"
      ],
      "execution_count": null,
      "outputs": []
    },
    {
      "cell_type": "code",
      "metadata": {
        "id": "QHJ_SGlvkTeF"
      },
      "source": [
        "a[0] = 3"
      ],
      "execution_count": null,
      "outputs": []
    },
    {
      "cell_type": "code",
      "metadata": {
        "id": "9AiQwSAOkTeG"
      },
      "source": [
        "a[3]"
      ],
      "execution_count": null,
      "outputs": []
    },
    {
      "cell_type": "code",
      "metadata": {
        "id": "QZF1eg1skTeH"
      },
      "source": [
        "a[3].append(20)\n",
        "a"
      ],
      "execution_count": null,
      "outputs": []
    },
    {
      "cell_type": "code",
      "metadata": {
        "id": "J5PL2g8ekTeI"
      },
      "source": [
        "(1,2,3,'string') # cannot change any values"
      ],
      "execution_count": null,
      "outputs": []
    },
    {
      "cell_type": "code",
      "metadata": {
        "id": "eX9P2XxukTeJ"
      },
      "source": [
        "b = (1,2,3,'string',[1,2,3,4,5,'string']) # It is possible for change of values\n",
        "# in list"
      ],
      "execution_count": null,
      "outputs": []
    },
    {
      "cell_type": "code",
      "metadata": {
        "id": "dLlwMA2BkTeJ"
      },
      "source": [
        "b[4]"
      ],
      "execution_count": null,
      "outputs": []
    },
    {
      "cell_type": "code",
      "metadata": {
        "id": "k_IglQ-LkTeM"
      },
      "source": [
        "b[4][-1]"
      ],
      "execution_count": null,
      "outputs": []
    },
    {
      "cell_type": "code",
      "metadata": {
        "id": "fgpcWwYhkTeO"
      },
      "source": [
        "b[4][-1] = b[4][-1].upper()\n",
        "b"
      ],
      "execution_count": null,
      "outputs": []
    },
    {
      "cell_type": "markdown",
      "metadata": {
        "id": "pPTDxg6kkTeQ"
      },
      "source": [
        "# Set"
      ]
    },
    {
      "cell_type": "code",
      "metadata": {
        "id": "BqX_D_g8kTeQ"
      },
      "source": [
        "a = [1,2,3,4,5,4,3,1,2,3,4,6,7,8,5,4,2,1,10,3,5,2,1]"
      ],
      "execution_count": null,
      "outputs": []
    },
    {
      "cell_type": "code",
      "metadata": {
        "id": "aDX6P2ObkTeR"
      },
      "source": [
        "a"
      ],
      "execution_count": null,
      "outputs": []
    },
    {
      "cell_type": "code",
      "metadata": {
        "id": "FP3qFJtTkTeT"
      },
      "source": [
        "set(a)"
      ],
      "execution_count": null,
      "outputs": []
    },
    {
      "cell_type": "code",
      "metadata": {
        "id": "FavJwDhHkTeU"
      },
      "source": [
        "b = set(a)"
      ],
      "execution_count": null,
      "outputs": []
    },
    {
      "cell_type": "code",
      "metadata": {
        "id": "xXZhLWyJkTeV"
      },
      "source": [
        "b"
      ],
      "execution_count": null,
      "outputs": []
    },
    {
      "cell_type": "code",
      "metadata": {
        "id": "MGPxjpAXkTeW"
      },
      "source": [
        "a"
      ],
      "execution_count": null,
      "outputs": []
    },
    {
      "cell_type": "code",
      "metadata": {
        "id": "vQJJheSNkTeX"
      },
      "source": [
        "type(b)"
      ],
      "execution_count": null,
      "outputs": []
    },
    {
      "cell_type": "code",
      "metadata": {
        "id": "IKId5euWkTeY"
      },
      "source": [
        "a = {1,2,3,4,5,6, 'string'}\n",
        "b = {1,2,3,4,5,6,7,8,9}"
      ],
      "execution_count": null,
      "outputs": []
    },
    {
      "cell_type": "code",
      "metadata": {
        "id": "xtma-PAqkTeY"
      },
      "source": [
        "a"
      ],
      "execution_count": null,
      "outputs": []
    },
    {
      "cell_type": "code",
      "metadata": {
        "id": "s9yg1lg5kTeZ"
      },
      "source": [
        "set(b) - set(a) # Values present in set b but not in set a"
      ],
      "execution_count": null,
      "outputs": []
    },
    {
      "cell_type": "code",
      "metadata": {
        "id": "9KRUtU2ikTea"
      },
      "source": [
        "set(a) - set(b) # Values present in set a but not in set b"
      ],
      "execution_count": null,
      "outputs": []
    },
    {
      "cell_type": "code",
      "metadata": {
        "id": "U-sTtRhtkTeb"
      },
      "source": [
        "a"
      ],
      "execution_count": null,
      "outputs": []
    },
    {
      "cell_type": "code",
      "metadata": {
        "id": "eglABK98kTec"
      },
      "source": [
        "b"
      ],
      "execution_count": null,
      "outputs": []
    },
    {
      "cell_type": "code",
      "metadata": {
        "id": "bfn6zffNkTee"
      },
      "source": [
        "a.intersection(b) # Common values in sets"
      ],
      "execution_count": null,
      "outputs": []
    },
    {
      "cell_type": "code",
      "metadata": {
        "id": "Rb11p_LqkTeh"
      },
      "source": [
        "b.intersection(a) # Common values in sets"
      ],
      "execution_count": null,
      "outputs": []
    },
    {
      "cell_type": "code",
      "metadata": {
        "id": "Cu67FvVRkTei"
      },
      "source": [
        "a.union(b) # Combination of both set values(unique values)"
      ],
      "execution_count": null,
      "outputs": []
    },
    {
      "cell_type": "code",
      "metadata": {
        "id": "uTiL6egMkTen"
      },
      "source": [
        "b.union(a) # Combination of both set values(unique values)\n",
        "# all that is possible in venn diagram is possible here also\n",
        "# These are some of the widely used methods in set"
      ],
      "execution_count": null,
      "outputs": []
    },
    {
      "cell_type": "code",
      "metadata": {
        "id": "8igR8NdOkTeo"
      },
      "source": [
        "x = set()"
      ],
      "execution_count": null,
      "outputs": []
    },
    {
      "cell_type": "code",
      "metadata": {
        "id": "ouVgYaG8kTeo"
      },
      "source": [
        "x"
      ],
      "execution_count": null,
      "outputs": []
    },
    {
      "cell_type": "code",
      "metadata": {
        "id": "ospOSCa3kTep"
      },
      "source": [
        "x.add(1)"
      ],
      "execution_count": null,
      "outputs": []
    },
    {
      "cell_type": "code",
      "metadata": {
        "id": "bim7jpqvkTes"
      },
      "source": [
        "x"
      ],
      "execution_count": null,
      "outputs": []
    },
    {
      "cell_type": "code",
      "metadata": {
        "id": "kgRxQDJ9kTeu"
      },
      "source": [
        "x.add(2)"
      ],
      "execution_count": null,
      "outputs": []
    },
    {
      "cell_type": "code",
      "metadata": {
        "id": "bs4wMrrCkTev"
      },
      "source": [
        "x"
      ],
      "execution_count": null,
      "outputs": []
    },
    {
      "cell_type": "code",
      "metadata": {
        "id": "49YAsnJpkTew"
      },
      "source": [
        "x.add(1)"
      ],
      "execution_count": null,
      "outputs": []
    },
    {
      "cell_type": "code",
      "metadata": {
        "id": "FAHVZyrkkTew"
      },
      "source": [
        "x"
      ],
      "execution_count": null,
      "outputs": []
    },
    {
      "cell_type": "markdown",
      "metadata": {
        "id": "JdFWEyeMkTex"
      },
      "source": [
        "# Boolean"
      ]
    },
    {
      "cell_type": "markdown",
      "metadata": {
        "id": "JQxMvGudkTex"
      },
      "source": [
        "#### Recap"
      ]
    },
    {
      "cell_type": "code",
      "metadata": {
        "id": "q4_UXZUUkTex"
      },
      "source": [
        "a = '1234'"
      ],
      "execution_count": null,
      "outputs": []
    },
    {
      "cell_type": "code",
      "metadata": {
        "id": "h8tJy7gQkTey"
      },
      "source": [
        "a.isdigit()"
      ],
      "execution_count": null,
      "outputs": []
    },
    {
      "cell_type": "code",
      "metadata": {
        "id": "EzRSb1-fkTez"
      },
      "source": [
        "# True, False, None \n",
        "# These are called boolean values"
      ],
      "execution_count": null,
      "outputs": []
    },
    {
      "cell_type": "code",
      "metadata": {
        "id": "ZzjxJPyJkTe4"
      },
      "source": [
        "# >\n",
        "# <\n",
        "# >=\n",
        "# <=\n",
        "# ==\n",
        "# !="
      ],
      "execution_count": null,
      "outputs": []
    },
    {
      "cell_type": "code",
      "metadata": {
        "id": "0qfJhrTPkTe5"
      },
      "source": [
        "10 > 20"
      ],
      "execution_count": null,
      "outputs": []
    },
    {
      "cell_type": "code",
      "metadata": {
        "id": "LUpitS_KkTe6"
      },
      "source": [
        "20 < 30"
      ],
      "execution_count": null,
      "outputs": []
    },
    {
      "cell_type": "code",
      "metadata": {
        "id": "Fob4HhlykTfA"
      },
      "source": [
        "1 == 1"
      ],
      "execution_count": null,
      "outputs": []
    },
    {
      "cell_type": "markdown",
      "metadata": {
        "id": "54_OcaMOkTfG"
      },
      "source": [
        "# Chained Comparison Operator"
      ]
    },
    {
      "cell_type": "code",
      "metadata": {
        "id": "3XVM68F_kTfH"
      },
      "source": [
        "10 > 5 > 3"
      ],
      "execution_count": null,
      "outputs": []
    },
    {
      "cell_type": "code",
      "metadata": {
        "id": "ulWK8iFakTfM"
      },
      "source": [
        "# and ---> return true only when all the given conditions are true\n",
        "#             else it return false\n",
        "# or ---> return true if  any one of the given conditions is true\n",
        "#             if all the conditions are False then it return False"
      ],
      "execution_count": null,
      "outputs": []
    },
    {
      "cell_type": "code",
      "metadata": {
        "scrolled": true,
        "id": "cFbRQXOOkTfN"
      },
      "source": [
        "10 > 5 > 3"
      ],
      "execution_count": null,
      "outputs": []
    },
    {
      "cell_type": "code",
      "metadata": {
        "id": "IJdyNm_WkTfO"
      },
      "source": [
        "10 > 5 and 5 > 3\n",
        "#  T         T"
      ],
      "execution_count": null,
      "outputs": []
    },
    {
      "cell_type": "code",
      "metadata": {
        "id": "4t0CDqUskTfQ"
      },
      "source": [
        "10 > 5 and 3 > 3\n",
        "#  T         F"
      ],
      "execution_count": null,
      "outputs": []
    },
    {
      "cell_type": "code",
      "metadata": {
        "id": "D7A9ed8ZkTfT"
      },
      "source": [
        "10 > 5 or 3 > 3\n",
        "#  T        F"
      ],
      "execution_count": null,
      "outputs": []
    },
    {
      "cell_type": "code",
      "metadata": {
        "id": "YvCW7KQ2kTfU"
      },
      "source": [
        "a = None"
      ],
      "execution_count": null,
      "outputs": []
    },
    {
      "cell_type": "code",
      "metadata": {
        "id": "FTRQzY6SkTfW"
      },
      "source": [
        "a"
      ],
      "execution_count": null,
      "outputs": []
    },
    {
      "cell_type": "code",
      "metadata": {
        "id": "jFkzOVoekTfW"
      },
      "source": [
        "type(a)"
      ],
      "execution_count": null,
      "outputs": []
    },
    {
      "cell_type": "code",
      "metadata": {
        "id": "GiV3NHt6kTfX"
      },
      "source": [
        "b = 0\n",
        "b"
      ],
      "execution_count": null,
      "outputs": []
    },
    {
      "cell_type": "code",
      "metadata": {
        "id": "8tcAG_L5kTfY"
      },
      "source": [
        "a = 10\n",
        "a"
      ],
      "execution_count": null,
      "outputs": []
    },
    {
      "cell_type": "code",
      "metadata": {
        "id": "4_fzmVcskTfe"
      },
      "source": [
        "pwd"
      ],
      "execution_count": null,
      "outputs": []
    },
    {
      "cell_type": "markdown",
      "metadata": {
        "id": "WgZyAg1-kTff"
      },
      "source": [
        "# conditional statements"
      ]
    },
    {
      "cell_type": "code",
      "metadata": {
        "id": "S7FfI-ahkTff"
      },
      "source": [
        "# if condition:\n",
        "#     Action Statement"
      ],
      "execution_count": null,
      "outputs": []
    },
    {
      "cell_type": "code",
      "metadata": {
        "id": "zV5g3I0ZkTfh"
      },
      "source": [
        "a, b = 10, 20\n",
        "\n",
        "if a > b: # False\n",
        "    print(a)"
      ],
      "execution_count": null,
      "outputs": []
    },
    {
      "cell_type": "code",
      "metadata": {
        "id": "QjNcNWYOkTfi"
      },
      "source": [
        "# if condition:\n",
        "#     Action Statement\n",
        "# else:(Optional)\n",
        "#     Action Statement"
      ],
      "execution_count": null,
      "outputs": []
    },
    {
      "cell_type": "code",
      "metadata": {
        "id": "G7N8Q0bSkTfq"
      },
      "source": [
        "if a > b: # false\n",
        "    print(a) # This is not executed\n",
        "else:\n",
        "    print(b)"
      ],
      "execution_count": null,
      "outputs": []
    },
    {
      "cell_type": "code",
      "metadata": {
        "id": "4ALthsT8kTfs"
      },
      "source": [
        "if a < b: # 10 < 20 ---> True\n",
        "    print(a) # this will be executed\n",
        "else:\n",
        "    print(b)"
      ],
      "execution_count": null,
      "outputs": []
    },
    {
      "cell_type": "code",
      "metadata": {
        "id": "yuChPQEikTft"
      },
      "source": [
        "# if a > b: \n",
        "#     Action Statement\n",
        "# elif a < b:\n",
        "#     Action Statement\n",
        "# elif a == b: \n",
        "#     Action Statement\n",
        "# elif condition:\n",
        "#     Action Statement\n",
        "# .\n",
        "# .\n",
        "# .\n",
        "# .\n",
        "# .\n",
        "# else:(Optional)\n",
        "#     Action Statement"
      ],
      "execution_count": null,
      "outputs": []
    },
    {
      "cell_type": "code",
      "metadata": {
        "id": "S-NFZQJIkTfu"
      },
      "source": [
        "if True\n",
        "    print('yes')\n",
        "else:\n",
        "    print('No')"
      ],
      "execution_count": null,
      "outputs": []
    },
    {
      "cell_type": "code",
      "metadata": {
        "id": "Agj0qI6QkTfy"
      },
      "source": [
        "if True:\n",
        "print('yes')\n",
        "else:\n",
        "    print('No')"
      ],
      "execution_count": null,
      "outputs": []
    },
    {
      "cell_type": "code",
      "metadata": {
        "id": "t8XzVdKMkTfz"
      },
      "source": [
        "if True: # Condition - a < b ----> True\n",
        "    print('yes')"
      ],
      "execution_count": null,
      "outputs": []
    },
    {
      "cell_type": "code",
      "metadata": {
        "id": "a_wYLyEnkTf0"
      },
      "source": [
        "if True : print('yes')\n",
        "else : print('No')"
      ],
      "execution_count": null,
      "outputs": []
    },
    {
      "cell_type": "code",
      "metadata": {
        "id": "kkOQfN1bkTf1"
      },
      "source": [
        "if True:\n",
        "    print('yes')\n",
        "else:\n",
        "    print('No')"
      ],
      "execution_count": null,
      "outputs": []
    },
    {
      "cell_type": "code",
      "metadata": {
        "id": "rhJToJSfkTf1"
      },
      "source": [
        "if False: # Conditional ---> a < b --->  False\n",
        "    print('yes')\n",
        "else:\n",
        "    print('No')"
      ],
      "execution_count": null,
      "outputs": []
    },
    {
      "cell_type": "markdown",
      "metadata": {
        "id": "UQtOp3vnkTf3"
      },
      "source": [
        "#### Recap"
      ]
    },
    {
      "cell_type": "code",
      "metadata": {
        "id": "-sRuWjRHkTf3"
      },
      "source": [
        "7 % 4 # Remainder"
      ],
      "execution_count": null,
      "outputs": []
    },
    {
      "cell_type": "code",
      "metadata": {
        "id": "Ij-XviCmkTf4"
      },
      "source": [
        "11 % 2"
      ],
      "execution_count": null,
      "outputs": []
    },
    {
      "cell_type": "code",
      "metadata": {
        "id": "DVKIaeQVkTf5"
      },
      "source": [
        "10 % 2 "
      ],
      "execution_count": null,
      "outputs": []
    },
    {
      "cell_type": "code",
      "metadata": {
        "id": "gPxzABk9kTf5"
      },
      "source": [
        "1 == 0"
      ],
      "execution_count": null,
      "outputs": []
    },
    {
      "cell_type": "code",
      "metadata": {
        "id": "k_fGZ7UPkTf6"
      },
      "source": [
        "a = 10\n",
        "a % 2 == 0"
      ],
      "execution_count": null,
      "outputs": []
    },
    {
      "cell_type": "code",
      "metadata": {
        "id": "SR_z-sQ5kTf7"
      },
      "source": [
        "a = 10\n",
        "if a % 2 == 0:\n",
        "    print('Even')"
      ],
      "execution_count": null,
      "outputs": []
    },
    {
      "cell_type": "code",
      "metadata": {
        "id": "ep8yCsB2kTf8"
      },
      "source": [
        "a = 11\n",
        "a % 2 == 0"
      ],
      "execution_count": null,
      "outputs": []
    },
    {
      "cell_type": "code",
      "metadata": {
        "id": "dtizj5u6kTf8"
      },
      "source": [
        "a = 11\n",
        "if a % 2 == 0:\n",
        "    print('Even')"
      ],
      "execution_count": null,
      "outputs": []
    },
    {
      "cell_type": "code",
      "metadata": {
        "id": "Is9ZcdRVkTf9"
      },
      "source": [
        "a = 11\n",
        "if a % 2 == 0:\n",
        "    print('Even')\n",
        "else:\n",
        "    print('Odd')"
      ],
      "execution_count": null,
      "outputs": []
    },
    {
      "cell_type": "code",
      "metadata": {
        "id": "9qVkfXcpkTf9"
      },
      "source": [
        "a = input('Enter a value')\n",
        "type(a)"
      ],
      "execution_count": null,
      "outputs": []
    },
    {
      "cell_type": "code",
      "metadata": {
        "id": "OyOOKb-FkTf-"
      },
      "source": [
        "a = input('Enter a value')\n",
        "if a % 2 == 0:\n",
        "    print('Even')\n",
        "else:\n",
        "    print('Odd')"
      ],
      "execution_count": null,
      "outputs": []
    },
    {
      "cell_type": "code",
      "metadata": {
        "id": "6NgDHUkIkTf_"
      },
      "source": [
        "a = int(input('Enter a value'))\n",
        "if a % 2 == 0:\n",
        "    print('Even')\n",
        "else:\n",
        "    print('Odd')"
      ],
      "execution_count": null,
      "outputs": []
    },
    {
      "cell_type": "code",
      "metadata": {
        "id": "HZcUa566kTgA"
      },
      "source": [
        "a"
      ],
      "execution_count": null,
      "outputs": []
    },
    {
      "cell_type": "code",
      "metadata": {
        "id": "XaV1fFN2kTgC"
      },
      "source": [
        "type(a)"
      ],
      "execution_count": null,
      "outputs": []
    },
    {
      "cell_type": "code",
      "metadata": {
        "id": "wYyV7_QOkTgD"
      },
      "source": [
        "a = 'string'\n",
        "if a == 'String':\n",
        "    print('It is a string')\n",
        "elif a == 'int':\n",
        "    print('It is an int')\n",
        "elif a == 'float':\n",
        "    print('It is a float')\n",
        "elif a == 'list':\n",
        "    print('It is a list')"
      ],
      "execution_count": null,
      "outputs": []
    },
    {
      "cell_type": "code",
      "metadata": {
        "id": "HPlNo3unkTgE"
      },
      "source": [
        "a = 'string'\n",
        "if a == 'String':\n",
        "    print('It is a string')\n",
        "elif a == 'int':\n",
        "    print('It is an int')\n",
        "elif a == 'float':\n",
        "    print('It is a float')\n",
        "elif a == 'list':\n",
        "    print('It is a list')\n",
        "else:\n",
        "    print('It is not in a required format')"
      ],
      "execution_count": null,
      "outputs": []
    },
    {
      "cell_type": "code",
      "metadata": {
        "id": "Esi_IXqRkTgF"
      },
      "source": [
        "a = 'string'\n",
        "if a == 'string':\n",
        "    print('It is a string')\n",
        "elif a == 'int':\n",
        "    print('It is an int')\n",
        "elif a == 'float':\n",
        "    print('It is a float')\n",
        "elif a == 'list':\n",
        "    print('It is a list')\n",
        "else:\n",
        "    print('It is not in a required format')"
      ],
      "execution_count": null,
      "outputs": []
    },
    {
      "cell_type": "code",
      "metadata": {
        "id": "og6t_hpAkTgF"
      },
      "source": [
        "a,b = 10,55\n",
        "a,b"
      ],
      "execution_count": null,
      "outputs": []
    },
    {
      "cell_type": "code",
      "metadata": {
        "id": "otqqMfokkTgG"
      },
      "source": [
        "# a = int(input('Enter a value'))\n",
        "# b = int(input('Enter a value'))\n",
        "if a > b:\n",
        "    print('A is G')\n",
        "else:\n",
        "    print('B is G')"
      ],
      "execution_count": null,
      "outputs": []
    },
    {
      "cell_type": "markdown",
      "metadata": {
        "id": "LQKe9ZR6kTgJ"
      },
      "source": [
        "# in operator"
      ]
    },
    {
      "cell_type": "code",
      "metadata": {
        "id": "vZ0BbUGSkTgJ"
      },
      "source": [
        "a = [1,2,3,4]"
      ],
      "execution_count": null,
      "outputs": []
    },
    {
      "cell_type": "code",
      "metadata": {
        "id": "y4bnbC2DkTgK"
      },
      "source": [
        "5 in a # [1,2,3,4]"
      ],
      "execution_count": null,
      "outputs": []
    },
    {
      "cell_type": "code",
      "metadata": {
        "id": "UXVdjquMkTgK"
      },
      "source": [
        "3 in a"
      ],
      "execution_count": null,
      "outputs": []
    },
    {
      "cell_type": "code",
      "metadata": {
        "id": "r5J1lSazkTgL"
      },
      "source": [
        "'x' in ['x','y',1,2,3,4]"
      ],
      "execution_count": null,
      "outputs": []
    },
    {
      "cell_type": "code",
      "metadata": {
        "id": "zojWpUvZkTgM"
      },
      "source": [
        "'x' and 4 in ['x','y',1,2,3,4]"
      ],
      "execution_count": null,
      "outputs": []
    },
    {
      "cell_type": "code",
      "metadata": {
        "id": "htPsVbSEkTgM"
      },
      "source": [
        "'x' and 5 in ['x','y',1,2,3,4]"
      ],
      "execution_count": null,
      "outputs": []
    },
    {
      "cell_type": "code",
      "metadata": {
        "id": "AGC9XBYFkTgN"
      },
      "source": [
        "'x' or 4 in ['x','y',1,2,3,4]"
      ],
      "execution_count": null,
      "outputs": []
    },
    {
      "cell_type": "code",
      "metadata": {
        "id": "yFzsKt_gkTgN"
      },
      "source": [
        "'i' in 'string'"
      ],
      "execution_count": null,
      "outputs": []
    },
    {
      "cell_type": "markdown",
      "metadata": {
        "id": "IVYZOa4pkTgP"
      },
      "source": [
        "# Question"
      ]
    },
    {
      "cell_type": "code",
      "metadata": {
        "id": "tDm-RowZkTgP"
      },
      "source": [
        "# Write a Python program to calculate the sum of three given numbers, if the values are less than 100,\n",
        "#print value * 10, else print value * 100\n",
        "\n",
        "# Write a Python program to get a new string from a given string where \"Is\" has been added to the \n",
        "#front. If the given string already begins with \"Is\" then return the string unchanged\n",
        "\n",
        "# Write a Python program to find whether a given number (accept from the user) is even or odd\n",
        "\n",
        "# Write a Python program to check whether a specified value is contained in a group of values\n",
        "#     Hint:\n",
        "#         Use 'in'\n",
        "#     Example : 4 in [12,3,4,5] ---> True\n",
        "    \n",
        "#     Test Data :\n",
        "#     3 -> [1, 5, 8, 3] : True\n",
        "#     -1 -> [1, 5, 8, 3] : False\n",
        "\n",
        "# Write a python program that return greatest of 3 numbers\n",
        "#     Inputs:\n",
        "#         a = 200\n",
        "#         b = 768\n",
        "#         c = 555\n",
        "#     Expected Output:\n",
        "#         B is greater\n",
        "\n",
        "# a = 'string', check the data type of the variable 'a', if it is string print 'string' else print 'No'"
      ],
      "execution_count": null,
      "outputs": []
    },
    {
      "cell_type": "code",
      "metadata": {
        "id": "jIkJZcj1kTgP"
      },
      "source": [
        "# Write a Python program to calculate the sum of three given numbers, if the values are less than 100,\n",
        "#print value * 10, else print value * 100\n",
        "a,b,c = 10,20,40\n",
        "d = a + b + c\n",
        "if d < 100:\n",
        "    print('The value is', d * 10)\n",
        "else:\n",
        "    print(d * 100)"
      ],
      "execution_count": null,
      "outputs": []
    },
    {
      "cell_type": "code",
      "metadata": {
        "id": "KpcqID1wkTgQ"
      },
      "source": [
        "# Write a Python program to get a new string from a given string where \"Is\" has been added to the \n",
        "#front. If the given string already begins with \"Is\" then return the string unchanged\n",
        "\n",
        "a = 'empty'\n",
        "if a[0] == 'i' and a[1] == 's':\n",
        "    print(a)\n",
        "else:\n",
        "    print('is' + a)"
      ],
      "execution_count": null,
      "outputs": []
    },
    {
      "cell_type": "code",
      "metadata": {
        "id": "zMbRpft5kTgR"
      },
      "source": [
        "# Write a Python program to find whether a given number (accept from the user) is even or odd\n",
        "a = int(input())\n",
        "if a % 2 == 0:\n",
        "    print('Even')\n",
        "else:\n",
        "    print('Odd')"
      ],
      "execution_count": null,
      "outputs": []
    },
    {
      "cell_type": "code",
      "metadata": {
        "id": "KQAKEwjZkTgS"
      },
      "source": [
        "# Write a Python program to check whether a specified value is contained in a group of values\n",
        "#     Hint:\n",
        "#         Use 'in'\n",
        "#     Example : 4 in [12,3,4,5] ---> True\n",
        "    \n",
        "#     Test Data :\n",
        "#     3 -> [1, 5, 8, 3] : True\n",
        "#     -1 -> [1, 5, 8, 3] : False\n",
        "\n",
        "3 in [1,2,3,4]"
      ],
      "execution_count": null,
      "outputs": []
    },
    {
      "cell_type": "code",
      "metadata": {
        "id": "Eus3XS8-kTgS"
      },
      "source": [
        "# Write a python program that return greatest of 3 numbers\n",
        "#     Inputs:\n",
        "#         a = 200\n",
        "#         b = 768\n",
        "#         c = 555\n",
        "#     Expected Output:\n",
        "#         B is greater\n",
        "\n",
        "a,b,c = 100,20,3\n",
        "\n",
        "if a > b and a > c: # If a is greater than both b and c, a is greater\n",
        "    print(a)\n",
        "elif b > a and b > c:\n",
        "    print(b)\n",
        "else:\n",
        "    print(c)"
      ],
      "execution_count": null,
      "outputs": []
    },
    {
      "cell_type": "code",
      "metadata": {
        "id": "UNrZNeXikTgT"
      },
      "source": [
        "# a = 'string', check the data type of the variable 'a', if it is string print 'string' else print 'No'\n",
        "a = 'string'\n",
        "if type(a) == str:\n",
        "    print('Yes')\n",
        "else:\n",
        "    print('No')"
      ],
      "execution_count": null,
      "outputs": []
    },
    {
      "cell_type": "markdown",
      "metadata": {
        "id": "5aJK5SqekTgT"
      },
      "source": [
        "# Looping"
      ]
    },
    {
      "cell_type": "code",
      "metadata": {
        "id": "gvG_xCnEkTgT"
      },
      "source": [
        "a = 10\n",
        "if a % 2 == 0:\n",
        "    print('even')\n",
        "else:\n",
        "    print('odd')"
      ],
      "execution_count": null,
      "outputs": []
    },
    {
      "cell_type": "code",
      "metadata": {
        "id": "-YFK2pJfkTgU"
      },
      "source": [
        "a = [10,20,30,40,44,55,17,98]"
      ],
      "execution_count": null,
      "outputs": []
    },
    {
      "cell_type": "code",
      "metadata": {
        "id": "rP4auVWYkTgV"
      },
      "source": [
        "# for item in object:\n",
        "#     body of loop\n",
        "\n",
        "# item ----> user defined temporary variable"
      ],
      "execution_count": null,
      "outputs": []
    },
    {
      "cell_type": "code",
      "metadata": {
        "id": "cfkK2lPgkTgW"
      },
      "source": [
        "a = [1,2,3,4]\n",
        "for i in a: # [1,2,3,4]\n",
        "    if i % 2 == 0:\n",
        "        print(i,'Even')\n",
        "    else:\n",
        "        print(i,'Odd')"
      ],
      "execution_count": null,
      "outputs": []
    },
    {
      "cell_type": "code",
      "metadata": {
        "id": "7B1LBQjQkTgX"
      },
      "source": [
        "for i in 'hello':\n",
        "    print(i)"
      ],
      "execution_count": null,
      "outputs": []
    },
    {
      "cell_type": "code",
      "metadata": {
        "id": "cqKJAxaFkTgZ"
      },
      "source": [
        "for i in 'hello world':\n",
        "    print(i)"
      ],
      "execution_count": null,
      "outputs": []
    },
    {
      "cell_type": "code",
      "metadata": {
        "id": "tzlgK6wwkTgZ"
      },
      "source": [
        "for i in 10:\n",
        "    print(i)"
      ],
      "execution_count": null,
      "outputs": []
    },
    {
      "cell_type": "code",
      "metadata": {
        "id": "MRoCRYzZkTga"
      },
      "source": [
        "d = {'a' : 1, 'b' : 2, 'c' : 3}"
      ],
      "execution_count": null,
      "outputs": []
    },
    {
      "cell_type": "code",
      "metadata": {
        "id": "9RGcW0ZikTgb"
      },
      "source": [
        "d"
      ],
      "execution_count": null,
      "outputs": []
    },
    {
      "cell_type": "code",
      "metadata": {
        "id": "blfX1_0YkTgb"
      },
      "source": [
        "for i in d:\n",
        "    print(i)\n",
        "#keys"
      ],
      "execution_count": null,
      "outputs": []
    },
    {
      "cell_type": "code",
      "metadata": {
        "id": "e48E8MZkkTgc"
      },
      "source": [
        "for i in d.keys():\n",
        "    print(i)"
      ],
      "execution_count": null,
      "outputs": []
    },
    {
      "cell_type": "code",
      "metadata": {
        "id": "DhfDA-j2kTgd"
      },
      "source": [
        "for i in d.values():\n",
        "    print(i)"
      ],
      "execution_count": null,
      "outputs": []
    },
    {
      "cell_type": "code",
      "metadata": {
        "id": "Reg5Lry1kTge"
      },
      "source": [
        "d"
      ],
      "execution_count": null,
      "outputs": []
    },
    {
      "cell_type": "code",
      "metadata": {
        "id": "ozSPJcQqkTgf"
      },
      "source": [
        "d.items()"
      ],
      "execution_count": null,
      "outputs": []
    },
    {
      "cell_type": "code",
      "metadata": {
        "id": "dh1lI89ykTgg"
      },
      "source": [
        "for i in d.items(): # a,1   b,2   c,3\n",
        "    print(i)"
      ],
      "execution_count": null,
      "outputs": []
    },
    {
      "cell_type": "code",
      "metadata": {
        "id": "ajFP1MqGkTgh"
      },
      "source": [
        "for i,j in d.items(): # a,1   b,2   c,3\n",
        "    print(i)\n",
        "    print(j)"
      ],
      "execution_count": null,
      "outputs": []
    },
    {
      "cell_type": "code",
      "metadata": {
        "id": "R_mOV5X2kTgh"
      },
      "source": [
        "for i,j,k in d.items(): # a,1   b,2   c,3\n",
        "    print(i)\n",
        "    print(j)\n",
        "    print(k)"
      ],
      "execution_count": null,
      "outputs": []
    },
    {
      "cell_type": "code",
      "metadata": {
        "id": "22NjdDNPkTgq"
      },
      "source": [
        "a = "
      ],
      "execution_count": null,
      "outputs": []
    },
    {
      "cell_type": "code",
      "metadata": {
        "id": "M0CoHhBekTgs"
      },
      "source": [
        "a = 10\n",
        "b = 20\n",
        "z"
      ],
      "execution_count": null,
      "outputs": []
    },
    {
      "cell_type": "code",
      "metadata": {
        "id": "jUzjPkHKkTgs"
      },
      "source": [
        "for i in (1,2,3,4,5,6,7):\n",
        "    print(i * i)"
      ],
      "execution_count": null,
      "outputs": []
    },
    {
      "cell_type": "code",
      "metadata": {
        "id": "M2HKK_BYkTgu"
      },
      "source": [
        "a = [1,2,3,4,5,6,7]\n",
        "sum(a)"
      ],
      "execution_count": null,
      "outputs": []
    },
    {
      "cell_type": "code",
      "metadata": {
        "id": "52cjjI70kTgv"
      },
      "source": [
        "a = [1,2,3,4,5,6,7]\n",
        "count = 0\n",
        "for i in a:\n",
        "    count = count + i # count += i\n",
        "# count = 0 + 1 = 1\n",
        "# count = 1 + 2 = 3\n",
        "# count = 3 + 3 = 6\n",
        "# count = 6 + 4 = 10\n",
        "count"
      ],
      "execution_count": null,
      "outputs": []
    },
    {
      "cell_type": "markdown",
      "metadata": {
        "id": "EYa_qHBbkTgx"
      },
      "source": [
        "# Range"
      ]
    },
    {
      "cell_type": "code",
      "metadata": {
        "id": "U3_P6H79kTgx"
      },
      "source": [
        "# range(start index, end index, step)"
      ],
      "execution_count": null,
      "outputs": []
    },
    {
      "cell_type": "code",
      "metadata": {
        "id": "G6LsrUerkTgy"
      },
      "source": [
        "range(10) # 0,1,2,3,4,5,6,7,8,9"
      ],
      "execution_count": null,
      "outputs": []
    },
    {
      "cell_type": "code",
      "metadata": {
        "id": "uWcHWASckTgy"
      },
      "source": [
        "list(range(10))"
      ],
      "execution_count": null,
      "outputs": []
    },
    {
      "cell_type": "code",
      "metadata": {
        "id": "fffWWDbOkTgz"
      },
      "source": [
        "list(range(0,10))"
      ],
      "execution_count": null,
      "outputs": []
    },
    {
      "cell_type": "code",
      "metadata": {
        "id": "8YV2mS5XkTg0"
      },
      "source": [
        "tuple(range(0,10))"
      ],
      "execution_count": null,
      "outputs": []
    },
    {
      "cell_type": "code",
      "metadata": {
        "id": "e_y8_yuCkTg4"
      },
      "source": [
        "list(range(5,10))"
      ],
      "execution_count": null,
      "outputs": []
    },
    {
      "cell_type": "code",
      "metadata": {
        "id": "N83wwwCykTg8"
      },
      "source": [
        "list(range(0,10,2))"
      ],
      "execution_count": null,
      "outputs": []
    },
    {
      "cell_type": "code",
      "metadata": {
        "id": "FCjDAKm0kTg8"
      },
      "source": [
        "list(range(0,10,3))"
      ],
      "execution_count": null,
      "outputs": []
    },
    {
      "cell_type": "code",
      "metadata": {
        "id": "QSc1XN-xkThA"
      },
      "source": [
        "1 # Write a python program that takes in range of values from 0 to 10. \n",
        "#print all the values\n",
        "2 # Write a python program that takes in range of values from 0 to 10. \n",
        "#print all even values\n",
        "3 # Write a python program that takes in range of values from 0 to 10. \n",
        "#print all odd values\n",
        "4 # Write a python program that takes in a alphanumeric variable and \n",
        "#print only the digits in it\n",
        "#     Hint:\n",
        "#         Use 'isdigit()' in condition part of IF STATEMENT \n",
        "#     Input:\n",
        "#         a = 'ais1324'\n",
        "#     Expected Output:\n",
        "#         1324\n",
        "5 # Write a python program that takes in a alphanumeric variable and print only the alphabets in it\n",
        "#     Hint:\n",
        "#         Use 'isalpha()' in condition part of IF STATEMENT \n",
        "#     Input:\n",
        "#         a = 'ais1324'\n",
        "#     Expected Output:\n",
        "#         ais\n",
        "6 # a = ['aba', 'bab', 'India', 'America', 'Hi', 'Hello']\n",
        "# Using the above list, check if the length of each word is > 2 and \n",
        "#first charcter and last character are same\n",
        "# If the above two conditions are satisfied, then print that word \n",
        "#else print the first character of the word."
      ],
      "execution_count": null,
      "outputs": []
    },
    {
      "cell_type": "code",
      "metadata": {
        "id": "RLyMAxwokThB"
      },
      "source": [
        "1 # Write a python program that takes in range of values from 0 to 10. \n",
        "#print all the values\n",
        "for i in range(10):\n",
        "    print(i)"
      ],
      "execution_count": null,
      "outputs": []
    },
    {
      "cell_type": "code",
      "metadata": {
        "id": "fr2j9hHBkThC"
      },
      "source": [
        "2 # Write a python program that takes in range of values from 0 to 10. \n",
        "#print all even values\n",
        "for i in range(0,10):\n",
        "    if i % 2 == 0:\n",
        "        print(i)"
      ],
      "execution_count": null,
      "outputs": []
    },
    {
      "cell_type": "code",
      "metadata": {
        "id": "n2GighiEkThE"
      },
      "source": [
        "3 # Write a python program that takes in range of values from 0 to 10. \n",
        "#print all odd values\n",
        "for i in range(0,10):\n",
        "    if i % 2 != 0:\n",
        "        print(i)"
      ],
      "execution_count": null,
      "outputs": []
    },
    {
      "cell_type": "code",
      "metadata": {
        "id": "RFhBPABXkThE"
      },
      "source": [
        "4 # Write a python program that takes in a alphanumeric variable and \n",
        "#print only the digits in it\n",
        "#     Hint:\n",
        "#         Use 'isdigit()' in condition part of IF STATEMENT \n",
        "#     Input:\n",
        "#         a = 'ais1324'\n",
        "#     Expected Output:\n",
        "#         1324\n",
        "a = 'ais1324'\n",
        "for i in a:\n",
        "    if i.isdigit():\n",
        "        print(i)"
      ],
      "execution_count": null,
      "outputs": []
    },
    {
      "cell_type": "code",
      "metadata": {
        "id": "DR6KlJUPkThF"
      },
      "source": [
        "5 # Write a python program that takes in a alphanumeric variable and print only the alphabets in it\n",
        "#     Hint:\n",
        "#         Use 'isalpha()' in condition part of IF STATEMENT \n",
        "#     Input:\n",
        "#         a = 'ais1324'\n",
        "#     Expected Output:\n",
        "#         ais\n",
        "a = 'ais1324'\n",
        "for i in a:\n",
        "    if i.isalpha():\n",
        "        print(i)"
      ],
      "execution_count": null,
      "outputs": []
    },
    {
      "cell_type": "code",
      "metadata": {
        "id": "bX8TiExykThG"
      },
      "source": [
        "6 # a = ['aba', 'bab', 'India', 'America', 'Hi', 'Hello']\n",
        "# Using the above list, check if the length of each word is > 2 and \n",
        "#first charcter and last character are same\n",
        "# If the above two conditions are satisfied, then print that word \n",
        "#else print the first character of the word.\n",
        "a = ['aba', 'bab', 'India', 'America', 'Hi', 'Hello']\n",
        "for i in a:\n",
        "    if len(i) > 2 and i[0] == i[-1]:\n",
        "        print(i)\n",
        "    else:\n",
        "        print(i[0])"
      ],
      "execution_count": null,
      "outputs": []
    },
    {
      "cell_type": "markdown",
      "metadata": {
        "id": "QQZ1Wf0ZkThG"
      },
      "source": [
        "# While"
      ]
    },
    {
      "cell_type": "code",
      "metadata": {
        "id": "Eesmq7fQkThH"
      },
      "source": [
        "# while condition:\n",
        "#     Body of loop\n",
        "\n",
        "# As long as the condition remains True, the loop will be executed\n",
        "# Once the condition becomes False, it will exit the loop"
      ],
      "execution_count": null,
      "outputs": []
    },
    {
      "cell_type": "code",
      "metadata": {
        "id": "cqSeXyRJkThH"
      },
      "source": [
        "a = 0\n",
        "while a < 3:\n",
        "    print(a)\n",
        "    a = a + 1"
      ],
      "execution_count": null,
      "outputs": []
    },
    {
      "cell_type": "code",
      "metadata": {
        "id": "JhMQ1IujkThI"
      },
      "source": [
        "a = 0\n",
        "while a < 3:\n",
        "    print(a)\n",
        "    a = a + 1\n",
        "else: # Optional\n",
        "    print('All Done')"
      ],
      "execution_count": null,
      "outputs": []
    },
    {
      "cell_type": "markdown",
      "metadata": {
        "id": "_T8mEp0_kThI"
      },
      "source": [
        "# break, continue, pass"
      ]
    },
    {
      "cell_type": "code",
      "metadata": {
        "id": "B8IjoTMpkThI"
      },
      "source": [
        "a = 0\n",
        "while a < 3:\n",
        "    print(a)\n",
        "    a = a + 1\n",
        "    if a == 3:\n",
        "        print('A is 3')\n",
        "        break # Once it encounter the break statement it will exit the loop\n",
        "              # Execution will be terminated\n",
        "    else:\n",
        "        print('Continuing...')\n",
        "           \n",
        "# 0 < 3 --- T\n",
        "# 0\n",
        "# 0 + 1 = 1\n",
        "# 1 == 3 --- F\n",
        "# Continuing...\n",
        "\n",
        "# 1 < 3 --- T\n",
        "# 1\n",
        "# 1 + 1 = 2\n",
        "# 2 == 3 --- F\n",
        "# Continuing...\n",
        "        \n",
        "# 2 < 3 --- T\n",
        "# 2\n",
        "# 2 + 1 = 3\n",
        "# 3 == 3 --- T\n",
        "# 'A is 3'"
      ],
      "execution_count": null,
      "outputs": []
    },
    {
      "cell_type": "code",
      "metadata": {
        "id": "DWYy6sLskThJ"
      },
      "source": [
        "a = 0\n",
        "while a < 3:\n",
        "    break\n",
        "    print(a)\n",
        "    a = a + 1\n",
        "    if a == 3:\n",
        "        print('A is 3')\n",
        "        break # Once it encounter the break statement it will exit the loop\n",
        "              # Execution will be terminated\n",
        "    else:\n",
        "        print('Continuing...')"
      ],
      "execution_count": null,
      "outputs": []
    },
    {
      "cell_type": "code",
      "metadata": {
        "id": "80pHxUKskThM"
      },
      "source": [
        "for i in 'hello':\n",
        "    if i == 'h':\n",
        "        continue\n",
        "    print('current char', i)"
      ],
      "execution_count": null,
      "outputs": []
    },
    {
      "cell_type": "code",
      "metadata": {
        "id": "-wsRDvXVkThN"
      },
      "source": [
        "for i in range(10): # [0,1,2,3,4,5,6,7,8,9]\n",
        "    print(i * i)\n",
        "    break"
      ],
      "execution_count": null,
      "outputs": []
    },
    {
      "cell_type": "code",
      "metadata": {
        "id": "AK8osp8VkThO"
      },
      "source": [
        "for i in range(10):\n",
        "    print(i * i)\n",
        "    if i == 5:\n",
        "        print('I is 5')\n",
        "        break\n",
        "        \n",
        "# [0,1,2,3,4,5,6,7,8,9]\n",
        "# 0\n",
        "# 0 == 5 ---> F\n",
        "# 1\n",
        "# 1 == 5 ---> F\n",
        "# 4\n",
        "# 2 == 5 ----> F\n",
        "# 9\n",
        "# 3 == 5 ---> F\n",
        "# 16\n",
        "# 4 == 5 ---> F\n",
        "# 25\n",
        "# 5 == 5 \n",
        "# I is 5\n",
        "# Exit"
      ],
      "execution_count": null,
      "outputs": []
    },
    {
      "cell_type": "code",
      "metadata": {
        "id": "-0J7T8LwkThS"
      },
      "source": [
        "a = 0\n",
        "while a < 3:\n",
        "    print(a)\n",
        "    a = a + 1\n",
        "    if a == 3:\n",
        "        print('A is 3')\n",
        "        break\n",
        "    else:\n",
        "        print('Continuing...')\n",
        "        continue# Skips the current iteration and moves to the next iteration"
      ],
      "execution_count": null,
      "outputs": []
    },
    {
      "cell_type": "code",
      "metadata": {
        "id": "hJu1a1h-kThT"
      },
      "source": [
        "a = 10\n",
        "if a % 2 == 0:\n",
        "    "
      ],
      "execution_count": null,
      "outputs": []
    },
    {
      "cell_type": "code",
      "metadata": {
        "id": "b3qa_J8HkThU"
      },
      "source": [
        "count = 0\n",
        "for i in range(10): # [0,1,2,3,4,5,6,7,8,9]\n",
        "    if i < 3:\n",
        "        pass # Skipping statement, it does nothing at all\n",
        "    else:\n",
        "        count += i # count = count + i\n",
        "count"
      ],
      "execution_count": null,
      "outputs": []
    },
    {
      "cell_type": "code",
      "metadata": {
        "scrolled": true,
        "id": "jg0lzNZCkThV"
      },
      "source": [
        "# This goes into an infinite loop\n",
        "\n",
        "# while True:\n",
        "#     print('Yes')"
      ],
      "execution_count": null,
      "outputs": []
    },
    {
      "cell_type": "code",
      "metadata": {
        "id": "e_NmnCkHkThV"
      },
      "source": [
        "# This goes into an infinite loop\n",
        "\n",
        "# a = 1\n",
        "# while a > 0:\n",
        "#     print(a)\n",
        "#     a = a + 1"
      ],
      "execution_count": null,
      "outputs": []
    },
    {
      "cell_type": "markdown",
      "metadata": {
        "id": "WSElt7p5kThW"
      },
      "source": [
        "# List Comprehension"
      ]
    },
    {
      "cell_type": "code",
      "metadata": {
        "id": "vhUESe2qkThW",
        "outputId": "f3d25b2c-6fbc-427c-ad3d-d8fc059fe800"
      },
      "source": [
        "for i in range(3): # [0,1,2]\n",
        "    print(i)"
      ],
      "execution_count": null,
      "outputs": [
        {
          "output_type": "stream",
          "text": [
            "0\n",
            "1\n",
            "2\n"
          ],
          "name": "stdout"
        }
      ]
    },
    {
      "cell_type": "code",
      "metadata": {
        "id": "JDMixfbakThX",
        "outputId": "4665ec35-cbb9-4224-94f7-3eb5c5500540"
      },
      "source": [
        "[i for i in range(3)]"
      ],
      "execution_count": null,
      "outputs": [
        {
          "output_type": "execute_result",
          "data": {
            "text/plain": [
              "[0, 1, 2]"
            ]
          },
          "metadata": {
            "tags": []
          },
          "execution_count": 2
        }
      ]
    },
    {
      "cell_type": "code",
      "metadata": {
        "id": "M1iLfTxVkThY",
        "outputId": "3063ef62-8742-49de-f924-59cfad9014d7"
      },
      "source": [
        "a = []\n",
        "for i in range(11):\n",
        "    a.append(i * i)\n",
        "a"
      ],
      "execution_count": null,
      "outputs": [
        {
          "output_type": "execute_result",
          "data": {
            "text/plain": [
              "[0, 1, 4, 9, 16, 25, 36, 49, 64, 81, 100]"
            ]
          },
          "metadata": {
            "tags": []
          },
          "execution_count": 3
        }
      ]
    },
    {
      "cell_type": "code",
      "metadata": {
        "id": "fVMmCnO7kThZ",
        "outputId": "426e644c-33a5-452d-ebf6-86e792ac22e9"
      },
      "source": [
        "b = [i * i for i in range(11)]\n",
        "b"
      ],
      "execution_count": null,
      "outputs": [
        {
          "output_type": "execute_result",
          "data": {
            "text/plain": [
              "[0, 1, 4, 9, 16, 25, 36, 49, 64, 81, 100]"
            ]
          },
          "metadata": {
            "tags": []
          },
          "execution_count": 4
        }
      ]
    },
    {
      "cell_type": "code",
      "metadata": {
        "id": "FeLfm_K6kThZ",
        "outputId": "dba2ae90-88ef-43f5-f4bf-86e7a050d967"
      },
      "source": [
        "a = [1,2,3,4,5]\n",
        "for i in a:\n",
        "    if i % 2 == 0:\n",
        "        print(i)"
      ],
      "execution_count": null,
      "outputs": [
        {
          "output_type": "stream",
          "text": [
            "2\n",
            "4\n"
          ],
          "name": "stdout"
        }
      ]
    },
    {
      "cell_type": "code",
      "metadata": {
        "id": "Uq8wzX4PkTha",
        "outputId": "f524831b-e567-4277-a5db-f0590250bc7b"
      },
      "source": [
        "[i for i in a if i % 2 == 0]"
      ],
      "execution_count": null,
      "outputs": [
        {
          "output_type": "execute_result",
          "data": {
            "text/plain": [
              "[2, 4]"
            ]
          },
          "metadata": {
            "tags": []
          },
          "execution_count": 6
        }
      ]
    },
    {
      "cell_type": "code",
      "metadata": {
        "id": "wjW09xiUkThc",
        "outputId": "ecccc1f5-ff8c-4844-e1b0-9b335db5bdb5"
      },
      "source": [
        "a = [1,2,3,4,5]\n",
        "for i in a:\n",
        "    if i % 2 == 0:\n",
        "        print(i)\n",
        "    else:\n",
        "        print('odd')"
      ],
      "execution_count": null,
      "outputs": [
        {
          "output_type": "stream",
          "text": [
            "odd\n",
            "2\n",
            "odd\n",
            "4\n",
            "odd\n"
          ],
          "name": "stdout"
        }
      ]
    },
    {
      "cell_type": "code",
      "metadata": {
        "id": "vbnekAFGkThd",
        "outputId": "4e3420a3-d8d6-475d-80b4-18dd55fe0ab3"
      },
      "source": [
        "[i if i % 2 == 0 else 'odd' for i in a]"
      ],
      "execution_count": null,
      "outputs": [
        {
          "output_type": "execute_result",
          "data": {
            "text/plain": [
              "['odd', 2, 'odd', 4, 'odd']"
            ]
          },
          "metadata": {
            "tags": []
          },
          "execution_count": 8
        }
      ]
    },
    {
      "cell_type": "code",
      "metadata": {
        "id": "ewMS2EnLkThe"
      },
      "source": [
        "# for loop and if statement ---> [(ouput) (for loop) (if statement)]\n",
        "# for loop, if and else ---> [(o/p of if) (if statement) (else) (o/p of else) (for loop)]"
      ],
      "execution_count": null,
      "outputs": []
    },
    {
      "cell_type": "code",
      "metadata": {
        "id": "T7VojIXAkThf",
        "outputId": "ed85dda5-351c-42bc-a319-ce537fb1f0f2"
      },
      "source": [
        "a,b,c, = 10,20,30\n",
        "if a > b and a > c:\n",
        "    print(a)\n",
        "elif b > a and  b > c:\n",
        "    print(b)\n",
        "else:\n",
        "    print(c)"
      ],
      "execution_count": null,
      "outputs": [
        {
          "output_type": "stream",
          "text": [
            "30\n"
          ],
          "name": "stdout"
        }
      ]
    },
    {
      "cell_type": "code",
      "metadata": {
        "id": "kt6BsZ59kThg",
        "outputId": "bdc70c59-daac-47ec-8cf0-ca1945b5251d"
      },
      "source": [
        "[a if a > b and a > c else(b if b > a and b > c else c)]"
      ],
      "execution_count": null,
      "outputs": [
        {
          "output_type": "execute_result",
          "data": {
            "text/plain": [
              "[30]"
            ]
          },
          "metadata": {
            "tags": []
          },
          "execution_count": 10
        }
      ]
    },
    {
      "cell_type": "code",
      "metadata": {
        "id": "4-875gtVkThh"
      },
      "source": [
        "# a = [[1,2,3,8,7,6,5,4,3,2,3],[4,5,6,45,96,124,34,5]]\n",
        "# Required output ---> [1,2,3,8,7,6,5,4,3,2,3,4,5,6,45,96,124,34,5]\n",
        "\n",
        "# Hints:\n",
        "# Create an empty list \n",
        "# use nested for loop(for inside for) to add values to the empty list"
      ],
      "execution_count": null,
      "outputs": []
    },
    {
      "cell_type": "code",
      "metadata": {
        "id": "W0bhJeelkThj"
      },
      "source": [
        "# Try the above question using list comprehension"
      ],
      "execution_count": null,
      "outputs": []
    },
    {
      "cell_type": "code",
      "metadata": {
        "id": "v8BOSSW4kThk"
      },
      "source": [
        "a = [1,2,3,4,5,5,4,3,4,5,4,3,2,1,2,3,3,4,5,4,3,2,1,2,3,43,4]\n",
        "# Empty dict\n",
        "# loop\n",
        "# 1 : 3, 2 : 5, ......."
      ],
      "execution_count": null,
      "outputs": []
    },
    {
      "cell_type": "code",
      "metadata": {
        "id": "hjE8r242kThl",
        "outputId": "5c5b4d8f-4ea7-478d-a7b7-99e09864611f"
      },
      "source": [
        "a = [[1,2,3],[4,5,6]]\n",
        "for i in a: # [1,2,3],[4,5,6]\n",
        "    for j in i: # [1,2,3]\n",
        "        print(j)"
      ],
      "execution_count": null,
      "outputs": [
        {
          "output_type": "stream",
          "text": [
            "1\n",
            "2\n",
            "3\n",
            "4\n",
            "5\n",
            "6\n"
          ],
          "name": "stdout"
        }
      ]
    },
    {
      "cell_type": "code",
      "metadata": {
        "id": "9kNmwSAmkThr",
        "outputId": "c7e75cbb-b1b8-4911-9512-b1e5357730f9"
      },
      "source": [
        "[j for i in a for j in i]"
      ],
      "execution_count": null,
      "outputs": [
        {
          "output_type": "execute_result",
          "data": {
            "text/plain": [
              "[1, 2, 3, 4, 5, 6]"
            ]
          },
          "metadata": {
            "tags": []
          },
          "execution_count": 12
        }
      ]
    },
    {
      "cell_type": "code",
      "metadata": {
        "id": "1SMjDvuckTht"
      },
      "source": [
        "a = [1,2,3,4,5,5,4,3,4,5,4,3,2,1,2,3,3,4,5,4,3,2,1,2,3,43,4]\n",
        "# Empty dict\n",
        "# loop\n",
        "# 1 : 3, 2 : 5, .......\n",
        "a.count(2)"
      ],
      "execution_count": null,
      "outputs": []
    },
    {
      "cell_type": "code",
      "metadata": {
        "id": "_rCgcJwskThu"
      },
      "source": [
        "d = {}\n",
        "for i in a:\n",
        "    d[i] = a.count(i)\n",
        "d"
      ],
      "execution_count": null,
      "outputs": []
    },
    {
      "cell_type": "code",
      "metadata": {
        "id": "6VaeWhbFkThu"
      },
      "source": [
        "d = {}\n",
        "for i in a:\n",
        "    if i in d.keys():\n",
        "        d[i] = d[i] + 1\n",
        "    else:\n",
        "        d[i] = 1\n",
        "d"
      ],
      "execution_count": null,
      "outputs": []
    },
    {
      "cell_type": "code",
      "metadata": {
        "id": "jCK6tQYVkThv"
      },
      "source": [
        "# 1. Convert Celsius to Fahrenheit using list comprehension\n",
        "# celsius = [0,10,20.1,34.5]\n",
        "# celcius to fahrenheit formula = (9/5) * temp_value + 32\n",
        "\n",
        "# 2. words = ['Liam','Noah','William','James','Logan','Benjamin','Mason','Elijah','Oliver','Jacob','Lucas',\\\n",
        "#          'Michael','Alexander','Ethan','Daniel','Matthew','Aiden','Henry','Joseph','Jackson','Samuel','Sebastian',\\\n",
        "#          'David','Carter','Wyatt','Jayden','John','Owen','Dylan','Luke','Gabriel','Anthony','Isaac','Grayson','Jack',\\\n",
        "#          'Julian','Levi','Christopher','Joshua','Andrew','Lincoln','Mateo','Ryan','Jaxon','Nathan','Aaron','Isaiah','Thomas',\\\n",
        "#          'Charles','Caleb','Josiah','Christian','Hunter','Eli','Jonathan','Connor','Landon','Adrian','Asher','Cameron','Leo',\\\n",
        "#          'Theodore','Jeremiah','Hudson','Robert','Easton','Nolan','Nicholas','Ezra','Colton','Angel','Brayden','Jordan','Dominic',\\\n",
        "#          'Austin','Ian','Adam','Elias','Jaxson','Greyson','Jose','Ezekiel','Carso','Evan','Maverick','Bryson','Jace','Cooper','Xavier'\\\n",
        "#          ,'Parker','Roman','Jason','Santiago','Chase','Sawyer','Gavin','Leonardo','Kayden','Ayden','Jameson']\n",
        "# Get the words that starts with 'A' in the above variable using list comprehension\n",
        "\n",
        "# 3. a = 'ais123'\n",
        "# print only the digits using list comprehension\n",
        "\n",
        "# 4. a = 'ais123'\n",
        "# print only the alphabets using list comprehension\n",
        "\n",
        "# 5. a = [[1,3,2], [4,6,5]]\n",
        "# Required output [1,2,3,4,5,6] - using list comprehension"
      ],
      "execution_count": null,
      "outputs": []
    },
    {
      "cell_type": "code",
      "metadata": {
        "id": "lFwtG8kpkThv"
      },
      "source": [
        "# 1. Convert Celsius to Fahrenheit using list comprehension\n",
        "# celsius = [0,10,20.1,34.5]\n",
        "# celcius to fahrenheit formula = (9/5) * temp_value + 32\n",
        "celsius = [0,10,20.1,34.5]\n",
        "[(9/5) * i + 32 for i in celsius]"
      ],
      "execution_count": null,
      "outputs": []
    },
    {
      "cell_type": "code",
      "metadata": {
        "id": "WApY7FyPkThw"
      },
      "source": [
        "words = ['Liam','Noah','William','James','Logan','Benjamin','Mason','Elijah','Oliver','Jacob','Lucas',\\\n",
        "         'Michael','Alexander','Ethan','Daniel','Matthew','Aiden','Henry','Joseph','Jackson','Samuel','Sebastian',\\\n",
        "         'David','Carter','Wyatt','Jayden','John','Owen','Dylan','Luke','Gabriel','Anthony','Isaac','Grayson','Jack',\\\n",
        "         'Julian','Levi','Christopher','Joshua','Andrew','Lincoln','Mateo','Ryan','Jaxon','Nathan','Aaron','Isaiah','Thomas',\\\n",
        "         'Charles','Caleb','Josiah','Christian','Hunter','Eli','Jonathan','Connor','Landon','Adrian','Asher','Cameron','Leo',\\\n",
        "         'Theodore','Jeremiah','Hudson','Robert','Easton','Nolan','Nicholas','Ezra','Colton','Angel','Brayden','Jordan','Dominic',\\\n",
        "         'Austin','Ian','Adam','Elias','Jaxson','Greyson','Jose','Ezekiel','Carso','Evan','Maverick','Bryson','Jace','Cooper','Xavier'\\\n",
        "         ,'Parker','Roman','Jason','Santiago','Chase','Sawyer','Gavin','Leonardo','Kayden','Ayden','Jameson']\n",
        "[i for i in words if i.startswith('A')]"
      ],
      "execution_count": null,
      "outputs": []
    },
    {
      "cell_type": "code",
      "metadata": {
        "id": "m36iFFFQkThw"
      },
      "source": [
        "a = 'ais123'\n",
        "# print only the digits using list comprehension\n",
        "[i for i in a if i.isdigit()]"
      ],
      "execution_count": null,
      "outputs": []
    },
    {
      "cell_type": "code",
      "metadata": {
        "id": "hOxFqX0WkThx"
      },
      "source": [
        "[i for i in a if i.isalpha()]"
      ],
      "execution_count": null,
      "outputs": []
    },
    {
      "cell_type": "code",
      "metadata": {
        "id": "-R8UXNjlkThz"
      },
      "source": [
        "a = [[1,3,2], [4,6,5]]\n",
        "[j for i in a for j in sorted(i)]"
      ],
      "execution_count": null,
      "outputs": []
    },
    {
      "cell_type": "markdown",
      "metadata": {
        "id": "3j7NSddAkThz"
      },
      "source": [
        "# Function"
      ]
    },
    {
      "cell_type": "code",
      "metadata": {
        "id": "9lKqh45VkTh0"
      },
      "source": [
        "a = 10\n",
        "if a % 2 == 0:\n",
        "    print('Even')"
      ],
      "execution_count": null,
      "outputs": []
    },
    {
      "cell_type": "code",
      "metadata": {
        "id": "IHVimVG9kTh5"
      },
      "source": [
        "a = [11,21,13,14,52]\n",
        "for i in a :\n",
        "    if i % 2 == 0:\n",
        "        print(i, 'Even')"
      ],
      "execution_count": null,
      "outputs": []
    },
    {
      "cell_type": "code",
      "metadata": {
        "id": "VJO_4rlSkTh6"
      },
      "source": [
        "# def user_defined_name(parameter1, parameter2, ....):\n",
        "#     Docstring - Documentation string\n",
        "#     '''\n",
        "#     What input the function take\n",
        "#     What operation it performs\n",
        "#     what will be the optput\n",
        "#     '''\n",
        "#     Body of function"
      ],
      "execution_count": null,
      "outputs": []
    },
    {
      "cell_type": "code",
      "metadata": {
        "id": "w_R9loWrkTh6"
      },
      "source": [
        "def greet():\n",
        "    '''\n",
        "    The function does not take any paramter\n",
        "    when called, it prints GM\n",
        "    '''\n",
        "    print('GM')"
      ],
      "execution_count": null,
      "outputs": []
    },
    {
      "cell_type": "code",
      "metadata": {
        "id": "59yInA-4kTh8"
      },
      "source": [
        "greet()"
      ],
      "execution_count": null,
      "outputs": []
    },
    {
      "cell_type": "code",
      "metadata": {
        "id": "Y5xgaJgckTh9"
      },
      "source": [
        "greet()"
      ],
      "execution_count": null,
      "outputs": []
    },
    {
      "cell_type": "code",
      "metadata": {
        "id": "Zqc6YhNOkTh9"
      },
      "source": [
        "greet()"
      ],
      "execution_count": null,
      "outputs": []
    },
    {
      "cell_type": "code",
      "metadata": {
        "id": "8zPbRwodkTh-"
      },
      "source": [
        "def greet(name):\n",
        "    '''\n",
        "    The function takes one paramter, which is a string\n",
        "    when called, it return GM + name\n",
        "    '''\n",
        "    print('GM' + name)"
      ],
      "execution_count": null,
      "outputs": []
    },
    {
      "cell_type": "code",
      "metadata": {
        "id": "fZaSVERNkTh-"
      },
      "source": [
        "greet('Sid')"
      ],
      "execution_count": null,
      "outputs": []
    },
    {
      "cell_type": "code",
      "metadata": {
        "id": "bPBI1KackTh_"
      },
      "source": [
        "def greet(name):\n",
        "    '''\n",
        "    The function takes one paramter, which is a string\n",
        "    when called, it return GM + name\n",
        "    '''\n",
        "    print('GM' + ' ' + name)"
      ],
      "execution_count": null,
      "outputs": []
    },
    {
      "cell_type": "code",
      "metadata": {
        "id": "OgbtEJa5kTiA"
      },
      "source": [
        "greet('Sri')"
      ],
      "execution_count": null,
      "outputs": []
    },
    {
      "cell_type": "code",
      "metadata": {
        "id": "fhSb9KaykTiB"
      },
      "source": [
        "greet('Sid')"
      ],
      "execution_count": null,
      "outputs": []
    },
    {
      "cell_type": "code",
      "metadata": {
        "id": "naK_xhREkTiC"
      },
      "source": [
        "greet()"
      ],
      "execution_count": null,
      "outputs": []
    },
    {
      "cell_type": "code",
      "metadata": {
        "id": "zYQ2RHnokTiC"
      },
      "source": [
        "def add(a,b):\n",
        "    print(a + b)"
      ],
      "execution_count": null,
      "outputs": []
    },
    {
      "cell_type": "code",
      "metadata": {
        "id": "PqgAPMPGkTiD"
      },
      "source": [
        "add(10,20)"
      ],
      "execution_count": null,
      "outputs": []
    },
    {
      "cell_type": "code",
      "metadata": {
        "id": "yv11SVEZkTiE"
      },
      "source": [
        "add(10,34)"
      ],
      "execution_count": null,
      "outputs": []
    },
    {
      "cell_type": "code",
      "metadata": {
        "id": "3PmkPnNJkTiF"
      },
      "source": [
        "add(10,20,30)"
      ],
      "execution_count": null,
      "outputs": []
    },
    {
      "cell_type": "code",
      "metadata": {
        "id": "wJSo_M5lkTiF"
      },
      "source": [
        "# Write a Python program to calculate the sum of three given numbers, if the values are less than 100,\n",
        "#print value * 10, else print value * 100 using function\n",
        "\n",
        "# Write a Python program to get a new string from a given string where \"Is\" has been added to the \n",
        "#front. If the given string already begins with \"Is\" then return the string unchanged using function\n",
        "\n",
        "# Write a Python program to find whether a given number is even or odd \n",
        "# using function\n",
        "\n",
        "# Write a python program that return greatest of 3 numbers using function\n",
        "#     Inputs:\n",
        "#         a = 200\n",
        "#         b = 768\n",
        "#         c = 555\n",
        "#     Expected Output:\n",
        "#         B is greater\n",
        "\n",
        "# a = 'string', check the data type of the variable 'a', if it is string print 'string' \n",
        "# else print 'No' using function"
      ],
      "execution_count": null,
      "outputs": []
    },
    {
      "cell_type": "code",
      "metadata": {
        "id": "mq-I1s0fkTiG"
      },
      "source": [
        "def add(a,b):\n",
        "    print(a + b)"
      ],
      "execution_count": null,
      "outputs": []
    },
    {
      "cell_type": "code",
      "metadata": {
        "id": "Vo8x-dxLkTiH"
      },
      "source": [
        "def sub(a,b):\n",
        "    return(a - b)"
      ],
      "execution_count": null,
      "outputs": []
    },
    {
      "cell_type": "code",
      "metadata": {
        "id": "ynnYws-lkTiI"
      },
      "source": [
        "add(10,20)"
      ],
      "execution_count": null,
      "outputs": []
    },
    {
      "cell_type": "code",
      "metadata": {
        "id": "lGNILgKIkTiI"
      },
      "source": [
        "sub(30,55)"
      ],
      "execution_count": null,
      "outputs": []
    },
    {
      "cell_type": "code",
      "metadata": {
        "id": "jg3GsML5kTiJ"
      },
      "source": [
        "a = 10\n",
        "b = 20"
      ],
      "execution_count": null,
      "outputs": []
    },
    {
      "cell_type": "code",
      "metadata": {
        "id": "dD5G2BodkTiJ"
      },
      "source": [
        "a,b"
      ],
      "execution_count": null,
      "outputs": []
    },
    {
      "cell_type": "code",
      "metadata": {
        "id": "MpytU0B_kTiK"
      },
      "source": [
        "a1 = add(10,20) # print\n",
        "b1 = sub(55,95) # return"
      ],
      "execution_count": null,
      "outputs": []
    },
    {
      "cell_type": "code",
      "metadata": {
        "id": "gle54_X4kTiK"
      },
      "source": [
        "a1,b1"
      ],
      "execution_count": null,
      "outputs": []
    },
    {
      "cell_type": "code",
      "metadata": {
        "id": "fjRW7sTjkTiL"
      },
      "source": [
        "# 1,2,3,4 ---> 4 parameters\n",
        "# [1,2,3,4] ---> 1 parameter"
      ],
      "execution_count": null,
      "outputs": []
    },
    {
      "cell_type": "code",
      "metadata": {
        "id": "UuyDSm7MkTiL"
      },
      "source": [
        "def add(a):\n",
        "    count = 0\n",
        "    for i in a:\n",
        "        count += i # count = count + i\n",
        "        print(count)\n",
        "    return count"
      ],
      "execution_count": null,
      "outputs": []
    },
    {
      "cell_type": "code",
      "metadata": {
        "id": "ALbrnj2TkTiM"
      },
      "source": [
        "add([1,2,3])"
      ],
      "execution_count": null,
      "outputs": []
    },
    {
      "cell_type": "code",
      "metadata": {
        "id": "kKWI3fOykTiS"
      },
      "source": [
        "sum_ = add([1,2,3,4,5,6,7,6,5,3,2,1,3,5,6,5,34,2,1,3,5,6,4,100])\n",
        "sum_"
      ],
      "execution_count": null,
      "outputs": []
    },
    {
      "cell_type": "code",
      "metadata": {
        "id": "9c4ih4LhkTiT"
      },
      "source": [
        "# 1 Write a function that takes in  alphanumeric values and print only the digits in it\n",
        "\n",
        "# 2 Write a function that takes in a alphanumeric values and print only the alphabets in it\n",
        "\n",
        "# 3 a = ['aba', 'bab', 'India', 'America', 'Hi', 'Hello']\n",
        "# Using the above list, check if the length of each word is > 2 and \n",
        "#first charcter and last character are same\n",
        "# If the above two conditions are satisfied, then print that word \n",
        "#else print the first character of the word"
      ],
      "execution_count": null,
      "outputs": []
    },
    {
      "cell_type": "markdown",
      "metadata": {
        "id": "Xy4xw-VhkTiT"
      },
      "source": [
        "# Local Variable and Global Variable"
      ]
    },
    {
      "cell_type": "code",
      "metadata": {
        "id": "jZgOrR_ckTiT"
      },
      "source": [
        "a = 10"
      ],
      "execution_count": null,
      "outputs": []
    },
    {
      "cell_type": "code",
      "metadata": {
        "id": "1UoZr0ulkTiU"
      },
      "source": [
        "a"
      ],
      "execution_count": null,
      "outputs": []
    },
    {
      "cell_type": "code",
      "metadata": {
        "id": "8lRqSf5GkTiV"
      },
      "source": [
        "def square():\n",
        "    return a * a"
      ],
      "execution_count": null,
      "outputs": []
    },
    {
      "cell_type": "code",
      "metadata": {
        "id": "QFmIfIKBkTiX"
      },
      "source": [
        "square()"
      ],
      "execution_count": null,
      "outputs": []
    },
    {
      "cell_type": "code",
      "metadata": {
        "id": "djQcv5aokTiY"
      },
      "source": [
        "a"
      ],
      "execution_count": null,
      "outputs": []
    },
    {
      "cell_type": "code",
      "metadata": {
        "id": "uHZLDd0DkTiZ"
      },
      "source": [
        "def square():\n",
        "    a = 20\n",
        "    f = 30\n",
        "    return a * a * f"
      ],
      "execution_count": null,
      "outputs": []
    },
    {
      "cell_type": "code",
      "metadata": {
        "id": "NXa43N75kTia"
      },
      "source": [
        "square()"
      ],
      "execution_count": null,
      "outputs": []
    },
    {
      "cell_type": "code",
      "metadata": {
        "id": "NA_0FRwXkTic"
      },
      "source": [
        "a"
      ],
      "execution_count": null,
      "outputs": []
    },
    {
      "cell_type": "code",
      "metadata": {
        "id": "oIjPbSEckTid"
      },
      "source": [
        "f"
      ],
      "execution_count": null,
      "outputs": []
    },
    {
      "cell_type": "code",
      "metadata": {
        "id": "bCSVmeL4kTid"
      },
      "source": [
        "a"
      ],
      "execution_count": null,
      "outputs": []
    },
    {
      "cell_type": "code",
      "metadata": {
        "id": "LAerHG0nkTih"
      },
      "source": [
        "def square():\n",
        "    a = a + 10\n",
        "    return a * a"
      ],
      "execution_count": null,
      "outputs": []
    },
    {
      "cell_type": "code",
      "metadata": {
        "id": "4XUp-Vf-kTih"
      },
      "source": [
        "val = square()\n",
        "val"
      ],
      "execution_count": null,
      "outputs": []
    },
    {
      "cell_type": "code",
      "metadata": {
        "id": "Nyc14ZLTkTii"
      },
      "source": [
        "a"
      ],
      "execution_count": null,
      "outputs": []
    },
    {
      "cell_type": "code",
      "metadata": {
        "id": "6tn_UOpHkTij"
      },
      "source": [
        "def square():\n",
        "    global a\n",
        "    a = a + 10 # Permanent change\n",
        "    return a * a"
      ],
      "execution_count": null,
      "outputs": []
    },
    {
      "cell_type": "code",
      "metadata": {
        "id": "QTv6WxKekTik"
      },
      "source": [
        "square()"
      ],
      "execution_count": null,
      "outputs": []
    },
    {
      "cell_type": "code",
      "metadata": {
        "id": "oE0JWEI8kTil"
      },
      "source": [
        "a"
      ],
      "execution_count": null,
      "outputs": []
    },
    {
      "cell_type": "code",
      "metadata": {
        "id": "Hh63-bhWkTil"
      },
      "source": [
        "a = 10\n",
        "a"
      ],
      "execution_count": null,
      "outputs": []
    },
    {
      "cell_type": "code",
      "metadata": {
        "id": "iHf2vaMpkTin"
      },
      "source": [
        "def square():\n",
        "    global a\n",
        "    a = 60 \n",
        "    a = a + 10\n",
        "    return a * a"
      ],
      "execution_count": null,
      "outputs": []
    },
    {
      "cell_type": "code",
      "metadata": {
        "id": "KwHvNUjVkTin"
      },
      "source": [
        "square()"
      ],
      "execution_count": null,
      "outputs": []
    },
    {
      "cell_type": "code",
      "metadata": {
        "id": "rwNtBcT3kTio"
      },
      "source": [
        "a"
      ],
      "execution_count": null,
      "outputs": []
    },
    {
      "cell_type": "markdown",
      "metadata": {
        "id": "E51gt4UKkTip"
      },
      "source": [
        "# `*args` and `**kwargs`\n",
        "\n",
        "Work with Python long enough, and eventually you will encounter `*args` and `**kwargs`. These strange terms show up as parameters in function definitions. What do they do? Let's review a simple function:"
      ]
    },
    {
      "cell_type": "code",
      "metadata": {
        "id": "UtHT_kFNkTip"
      },
      "source": [
        "sum((10,20))"
      ],
      "execution_count": null,
      "outputs": []
    },
    {
      "cell_type": "code",
      "metadata": {
        "id": "xFzGZykwkTiq"
      },
      "source": [
        "def sum_(a,b):\n",
        "    return sum((a,b))"
      ],
      "execution_count": null,
      "outputs": []
    },
    {
      "cell_type": "code",
      "metadata": {
        "id": "jeDISqRJkTir"
      },
      "source": [
        "sum_(40,60)"
      ],
      "execution_count": null,
      "outputs": []
    },
    {
      "cell_type": "code",
      "metadata": {
        "id": "r3_qVDZUkTir"
      },
      "source": [
        "sum_(20,20,25)"
      ],
      "execution_count": null,
      "outputs": []
    },
    {
      "cell_type": "markdown",
      "metadata": {
        "id": "U2wf9MmUkTis"
      },
      "source": [
        "Obviously this is not a very efficient solution, and that's where `*args` comes in.\n",
        "\n",
        "## `*args`\n",
        "\n",
        "When a function parameter starts with an asterisk, it allows for an *arbitrary number* of arguments, and the function takes them in as a tuple of values. Rewriting the above function:"
      ]
    },
    {
      "cell_type": "code",
      "metadata": {
        "id": "AcPdIICdkTis"
      },
      "source": [
        "# *args ---> aruguments - Any number of parameters\n",
        "# **kwargs ---> keyword arguments\n",
        "\n",
        "# *a, **a"
      ],
      "execution_count": null,
      "outputs": []
    },
    {
      "cell_type": "code",
      "metadata": {
        "id": "I6_arw_MkTit"
      },
      "source": [
        "def myfunc(*args):\n",
        "    return sum((args))"
      ],
      "execution_count": null,
      "outputs": []
    },
    {
      "cell_type": "code",
      "metadata": {
        "id": "Uwig9YH0kTiv"
      },
      "source": [
        "myfunc(40,20,30,25,55,55,66,87,90)"
      ],
      "execution_count": null,
      "outputs": []
    },
    {
      "cell_type": "code",
      "metadata": {
        "id": "s7Ow5yj7kTiw"
      },
      "source": [
        "myfunc(12)"
      ],
      "execution_count": null,
      "outputs": []
    },
    {
      "cell_type": "code",
      "metadata": {
        "id": "11191ry9kTiw"
      },
      "source": [
        "myfunc(1,2,3,4)"
      ],
      "execution_count": null,
      "outputs": []
    },
    {
      "cell_type": "code",
      "metadata": {
        "id": "dQvK_boXkTix"
      },
      "source": [
        "myfunc()"
      ],
      "execution_count": null,
      "outputs": []
    },
    {
      "cell_type": "markdown",
      "metadata": {
        "id": "9neThD6PkTi1"
      },
      "source": [
        "Notice how passing the keyword \"args\" into the `sum()` function did the same thing as a tuple of arguments.\n",
        "\n",
        "It is worth noting that the word \"args\" is itself arbitrary - any word will do so long as it's preceded by an asterisk. To demonstrate this:"
      ]
    },
    {
      "cell_type": "code",
      "metadata": {
        "id": "pqsRi4svkTi2"
      },
      "source": [
        "def myfunc(*a): # It is always a best practice to stick to *args\n",
        "    return sum(a)\n",
        "\n",
        "myfunc(40,60,20)"
      ],
      "execution_count": null,
      "outputs": []
    },
    {
      "cell_type": "code",
      "metadata": {
        "id": "jksjVyAWkTi5"
      },
      "source": [
        "def myfunc(*1): # It is always a best practice to stick to *args\n",
        "    return sum(1)\n",
        "\n",
        "myfunc(40,60,20)"
      ],
      "execution_count": null,
      "outputs": []
    },
    {
      "cell_type": "markdown",
      "metadata": {
        "id": "67IUqKSnkTi6"
      },
      "source": [
        "## `**kwargs`\n",
        "\n",
        "Similarly, Python offers a way to handle arbitrary numbers of *keyworded* arguments. Instead of creating a tuple of values, `**kwargs` builds a dictionary of key/value pairs. For example:"
      ]
    },
    {
      "cell_type": "code",
      "metadata": {
        "id": "4psMfoBRkTi6"
      },
      "source": [
        "def sub(a,b = 20):\n",
        "    return (b - a)"
      ],
      "execution_count": null,
      "outputs": []
    },
    {
      "cell_type": "code",
      "metadata": {
        "id": "Zr0iTwAzkTi6"
      },
      "source": [
        "sub(10)"
      ],
      "execution_count": null,
      "outputs": []
    },
    {
      "cell_type": "code",
      "metadata": {
        "id": "wdMsp4BYkTi7"
      },
      "source": [
        "sub(100, 2)"
      ],
      "execution_count": null,
      "outputs": []
    },
    {
      "cell_type": "code",
      "metadata": {
        "id": "y6nZm1A4kTi7"
      },
      "source": [
        "d = {'a' : 1, 'b' : 2}\n",
        "if 'd' in d:\n",
        "    print('yes')\n",
        "else:\n",
        "    print('No')"
      ],
      "execution_count": null,
      "outputs": []
    },
    {
      "cell_type": "code",
      "metadata": {
        "id": "2dEbAb3dkTi8"
      },
      "source": [
        "d['b']"
      ],
      "execution_count": null,
      "outputs": []
    },
    {
      "cell_type": "code",
      "metadata": {
        "id": "Fagx22NJkTi8"
      },
      "source": [
        "kwargs['fruit']"
      ],
      "execution_count": null,
      "outputs": []
    },
    {
      "cell_type": "code",
      "metadata": {
        "id": "RJisXhnekTi9"
      },
      "source": [
        "print('My name is {}'.format('Sid'))"
      ],
      "execution_count": null,
      "outputs": []
    },
    {
      "cell_type": "code",
      "metadata": {
        "id": "4YxLmcAUkTi_"
      },
      "source": [
        "def myfunc(**kwargs):\n",
        "    if 'fruits' in kwargs:\n",
        "#         print('My name is {}'.format('Sid'))\n",
        "        print(f\"My favorite fruit is {kwargs['fruits']}\") \n",
        "        # review String Formatting(f is the .format()) if this syntax is unfamiliar\n",
        "    else:\n",
        "        print(\"I don't like fruit\")"
      ],
      "execution_count": null,
      "outputs": []
    },
    {
      "cell_type": "code",
      "metadata": {
        "id": "csl10cinkTjA"
      },
      "source": [
        "myfunc(fruit = 'apple', fruits = 'jack fruit')"
      ],
      "execution_count": null,
      "outputs": []
    },
    {
      "cell_type": "code",
      "metadata": {
        "id": "QtRLOOFIkTjB"
      },
      "source": [
        "myfunc()"
      ],
      "execution_count": null,
      "outputs": []
    },
    {
      "cell_type": "code",
      "metadata": {
        "id": "63VHePsGkTjC"
      },
      "source": [
        "5 in [1,2,3]"
      ],
      "execution_count": null,
      "outputs": []
    },
    {
      "cell_type": "markdown",
      "metadata": {
        "id": "PHT3jlm2kTjC"
      },
      "source": [
        "## `*args` and `**kwargs` combined\n",
        "\n",
        "You can pass `*args` and `**kwargs` into the same function, but `*args` have to appear before `**kwargs`"
      ]
    },
    {
      "cell_type": "code",
      "metadata": {
        "id": "Ug5cMtOukTjC"
      },
      "source": [
        "def myfunc(*args, **kwargs):\n",
        "    if 'fruit' and 'juice' in kwargs:\n",
        "        print(f\"I like {' and '.join(args)} and my favorite fruit is {kwargs['fruit']}\")\n",
        "        print(f\"May I have some {kwargs['juice']} juice?\")\n",
        "    else:\n",
        "        pass"
      ],
      "execution_count": null,
      "outputs": []
    },
    {
      "cell_type": "code",
      "metadata": {
        "id": "2B49gVC1kTjD"
      },
      "source": [
        "myfunc('eggs','spam',fruit = 10,juice = 'orange')"
      ],
      "execution_count": null,
      "outputs": []
    },
    {
      "cell_type": "code",
      "metadata": {
        "id": "lCb8LB7LkTjE"
      },
      "source": [
        "print('My name is {}'.format('Sid'))"
      ],
      "execution_count": null,
      "outputs": []
    },
    {
      "cell_type": "markdown",
      "metadata": {
        "id": "l6c_FKWUkTjE"
      },
      "source": [
        "Placing keyworded arguments ahead of positional arguments raises an exception:"
      ]
    },
    {
      "cell_type": "code",
      "metadata": {
        "id": "n_bYjYLMkTjE"
      },
      "source": [
        "myfunc(fruit='cherries',juice='orange','eggs','spam')"
      ],
      "execution_count": null,
      "outputs": []
    },
    {
      "cell_type": "code",
      "metadata": {
        "id": "IsnIscIMkTjF"
      },
      "source": [
        "def myfunc(**kwargs,*args): # The syntax is in such a way that first *args should be passed.\n",
        "    if 'fruit' and 'juice' in kwargs:\n",
        "        print(f\"I like {' and '.join(args)} and my favorite fruit is {kwargs['fruit']}\")\n",
        "        print(f\"May I have some {kwargs['juice']} juice?\")\n",
        "    else:\n",
        "        pass\n",
        "        \n",
        "myfunc('eggs','spam',fruit=10,juice='orange')"
      ],
      "execution_count": null,
      "outputs": []
    },
    {
      "cell_type": "code",
      "metadata": {
        "id": "-FMxcKE8kTjG"
      },
      "source": [
        "def func(**kwargs, *args):\n",
        "    pass"
      ],
      "execution_count": null,
      "outputs": []
    },
    {
      "cell_type": "markdown",
      "metadata": {
        "id": "LBDe9a66kTjG"
      },
      "source": [
        "As with \"args\", you can use any name you'd like for keyworded arguments - \"kwargs\" is just a popular convention.\n",
        "\n",
        "That's it! Now you should understand how `*args` and `**kwargs` provide the flexibilty to work with arbitrary numbers of arguments!"
      ]
    },
    {
      "cell_type": "code",
      "metadata": {
        "id": "TC43fPPbkTjG"
      },
      "source": [
        "1 in [1,2,3]"
      ],
      "execution_count": null,
      "outputs": []
    },
    {
      "cell_type": "code",
      "metadata": {
        "id": "CA0v7LcQkTjH"
      },
      "source": [
        "for i in range(100,105):\n",
        "    print(i)"
      ],
      "execution_count": null,
      "outputs": []
    },
    {
      "cell_type": "code",
      "metadata": {
        "id": "LG_gjoawkTjH"
      },
      "source": [
        "for i in enumerate(range(100,105)):\n",
        "    print(i)"
      ],
      "execution_count": null,
      "outputs": []
    },
    {
      "cell_type": "code",
      "metadata": {
        "id": "d2d_Ol2hkTjI"
      },
      "source": [
        "a = [1,2,3,4,5]\n",
        "for i, j in enumerate(a):\n",
        "    print(a[i])\n",
        "#     print(j)"
      ],
      "execution_count": null,
      "outputs": []
    },
    {
      "cell_type": "code",
      "metadata": {
        "id": "ty3yBjt-kTjI"
      },
      "source": [
        "# Common:\n",
        "\n",
        "# https://www.techbeamers.com/python-programming-questions-list-tuple-dictionary/\n",
        "# https://www.datacamp.com/community/tutorials/18-most-common-python-list-questions-learn-python\n",
        "\n",
        "# List:\n",
        "\n",
        "# https://www.w3resource.com/python-exercises/list/\n",
        "# https://www.geeksforgeeks.org/python-list/\n",
        "\n",
        "# create a empty list and append values using iteration\n",
        "# Create a list and access elements in it\n",
        "# Create a list and remove elements from list\n",
        "# Create a list and slice elements in it\n",
        "# Write a Python program to sum all the items in a list using function\n",
        "# Write a Python program to multiplies all the items in a list using function\n",
        "# Get the largest number from a list using function\n",
        "# Count the number of strings where the string length is 2 or more and \n",
        "#the first and last character are same from a given list of strings\n",
        "# Remove duplicates from a list\n",
        "# Check a list is empty or not\n",
        "# Difference between the two lists\n",
        "# Access the index of a list - use enumerate function\n",
        "# Get the frequency of the elements in a list\n",
        "# Count the number of elements in a list within a specified range\n",
        "\n",
        "# Dictionary:\n",
        "\n",
        "# https://www.geeksforgeeks.org/python-dictionary/\n",
        "# https://www.w3resource.com/python-exercises/dictionary/\n",
        "\n",
        "# Create a nested dictionary\n",
        "# Create a dict, add elements to it, add set of values to a key,\n",
        "# Update existing Key's Value, Adding Nested Key value to Dictionary\n",
        "# Create a dict with keys and values, access key 1, access using GET function\n",
        "# Create a nested dict with keys and values, delete key 2, \n",
        "# delete a key from nested dict, ue POP function, delete entire dict \n",
        "# Check a dictionary is empty or not\n",
        "# Add a key to a dictionary\n",
        "# Check if a given key already exists in a dictionary\n",
        "# Iterate over dictionaries using for loops\n",
        "# Sum all the items in a dictionary\n",
        "# Multiply all the items in a dictionary\n",
        "# Remove a key from a dictionary\n",
        "# Get the maximum and minimum value in a dictionary\n",
        "# Find the highest 3 values in a dictionary\n",
        "# Sort a list alphabetically in a dictionary\n",
        "\n",
        "# Tuple:\n",
        "\n",
        "# https://www.geeksforgeeks.org/tuples-in-python/\n",
        "# https://www.w3resource.com/python-exercises/tuple/"
      ],
      "execution_count": null,
      "outputs": []
    },
    {
      "cell_type": "code",
      "metadata": {
        "id": "KJHWs5DVkTjJ"
      },
      "source": [
        "# create a empty list and append values using iteration\n",
        "a = []\n",
        "for i in range(1,10):\n",
        "    a.append(i)\n",
        "# Create a list and access elements in it\n",
        "a[0]\n",
        "# Create a list and remove elements from list\n",
        "a.pop(1) or a.remove(3) or del a[1]\n",
        "# Create a list and slice elements in it\n",
        "a[3:8]\n",
        "# Write a Python program to sum all the items in a list using function\n",
        "def sum_(a):\n",
        "    count = 0\n",
        "    for i in a:\n",
        "        count = count + i\n",
        "    return count\n",
        "# Write a Python program to multiplies all the items in a list using function\n",
        "def mul(a):\n",
        "    count = 1\n",
        "    for i in a:\n",
        "        count = count * i\n",
        "    return count\n",
        "# Get the largest number from a list using function\n",
        "def greatest(a):\n",
        "    val = a[0]\n",
        "    for i in a:\n",
        "        if i > val:\n",
        "            val = i\n",
        "        else:\n",
        "            pass\n",
        "    return val\n",
        "\n",
        "a = [1,2,13,4,5]\n",
        "a.sort(reverse = True)\n",
        "\n",
        "# Count the number of strings where the string length is 2 or more and \n",
        "#the first and last character are same from a given list of strings\n",
        "# Remove duplicates from a list\n",
        "a = [1,2,13,4,5,1,2,3,21,2,3,4,2,11,2,3,4,3,2,1,2,3,4,5]\n",
        "b = []\n",
        "for i in a:\n",
        "    if i in b:\n",
        "        pass\n",
        "    else:\n",
        "        b.append(i)\n",
        "b\n",
        "# Check a list is empty or not\n",
        "a = []\n",
        "if len(a) == 0:\n",
        "    print('List is empty')\n",
        "else:\n",
        "    print('List is not empty')\n",
        "# Difference between the two lists\n",
        "a = [1,2,3,4,5]\n",
        "b = [1,2,3]\n",
        "set(a) - set(b)\n",
        "# Access the index of a list - use enumerate function\n",
        "a = [1,2,3,4,5]\n",
        "for i, j in enumerate(a):\n",
        "    print(a[i])\n",
        "# Get the frequency of the elements in a list\n",
        "a = [1,2,3,4,3,2,1,2,3,4,54,10,6,8,8,6,5,3,1,1,3,4,6,7,9,8,6,5,3,12]\n",
        "d = {}\n",
        "for i in a:\n",
        "    d[i] = a.count(i)\n",
        "d\n",
        "# Count the number of elements in a list within a specified range\n",
        "len(a[3:10])"
      ],
      "execution_count": null,
      "outputs": []
    },
    {
      "cell_type": "code",
      "metadata": {
        "id": "n4hTIaECkTjK"
      },
      "source": [
        ""
      ],
      "execution_count": null,
      "outputs": []
    },
    {
      "cell_type": "code",
      "metadata": {
        "id": "fDA_MsBgkTjK"
      },
      "source": [
        "a[0]"
      ],
      "execution_count": null,
      "outputs": []
    },
    {
      "cell_type": "markdown",
      "metadata": {
        "id": "3yxsBf4qkTjL"
      },
      "source": [
        "# Lambda Expression"
      ]
    },
    {
      "cell_type": "code",
      "metadata": {
        "id": "WS4CfEntkTjL"
      },
      "source": [
        "def square(n):\n",
        "    return n * n"
      ],
      "execution_count": null,
      "outputs": []
    },
    {
      "cell_type": "code",
      "metadata": {
        "id": "_n6qcvmBkTjN",
        "outputId": "97093382-89a2-4b04-c2bd-81d08066f02b"
      },
      "source": [
        "square(10)"
      ],
      "execution_count": null,
      "outputs": [
        {
          "output_type": "execute_result",
          "data": {
            "text/plain": [
              "100"
            ]
          },
          "metadata": {
            "tags": []
          },
          "execution_count": 14
        }
      ]
    },
    {
      "cell_type": "code",
      "metadata": {
        "id": "XaiCo1jPkTjO",
        "outputId": "048df1e3-0065-43cc-a541-5b6f5f6e4ea6"
      },
      "source": [
        "square(20)"
      ],
      "execution_count": null,
      "outputs": [
        {
          "output_type": "execute_result",
          "data": {
            "text/plain": [
              "400"
            ]
          },
          "metadata": {
            "tags": []
          },
          "execution_count": 15
        }
      ]
    },
    {
      "cell_type": "code",
      "metadata": {
        "id": "eOeeLSbdkTjQ"
      },
      "source": [
        "# lambda variable_name : expression(operation to be performed)"
      ],
      "execution_count": null,
      "outputs": []
    },
    {
      "cell_type": "code",
      "metadata": {
        "id": "K3yK1bFtkTjQ"
      },
      "source": [
        "def square(n):\n",
        "    return n * n"
      ],
      "execution_count": null,
      "outputs": []
    },
    {
      "cell_type": "code",
      "metadata": {
        "id": "N-giFpDakTjR"
      },
      "source": [
        "g = lambda n : n * n"
      ],
      "execution_count": null,
      "outputs": []
    },
    {
      "cell_type": "code",
      "metadata": {
        "id": "x5TwkdpRkTjR",
        "outputId": "a6d59e4a-103f-47be-aac1-1a2f80168f16"
      },
      "source": [
        "square(10)"
      ],
      "execution_count": null,
      "outputs": [
        {
          "output_type": "execute_result",
          "data": {
            "text/plain": [
              "100"
            ]
          },
          "metadata": {
            "tags": []
          },
          "execution_count": 17
        }
      ]
    },
    {
      "cell_type": "code",
      "metadata": {
        "id": "gqTf6jTBkTjS",
        "outputId": "3a9d05a9-309b-44f7-cb74-8f4309a476e7"
      },
      "source": [
        "g(7)"
      ],
      "execution_count": null,
      "outputs": [
        {
          "output_type": "execute_result",
          "data": {
            "text/plain": [
              "49"
            ]
          },
          "metadata": {
            "tags": []
          },
          "execution_count": 18
        }
      ]
    },
    {
      "cell_type": "code",
      "metadata": {
        "id": "gDZypTYmkTjT",
        "outputId": "cdf56f82-9076-4ae1-ea97-0f5721187c76"
      },
      "source": [
        "g(10)"
      ],
      "execution_count": null,
      "outputs": [
        {
          "output_type": "execute_result",
          "data": {
            "text/plain": [
              "100"
            ]
          },
          "metadata": {
            "tags": []
          },
          "execution_count": 19
        }
      ]
    },
    {
      "cell_type": "code",
      "metadata": {
        "id": "hFEZ8kLJkTjT",
        "outputId": "8965773c-e7e1-40c4-ea58-3bb6aa9df729"
      },
      "source": [
        "square(10,20)"
      ],
      "execution_count": null,
      "outputs": [
        {
          "output_type": "error",
          "ename": "TypeError",
          "evalue": "square() takes 1 positional argument but 2 were given",
          "traceback": [
            "\u001b[1;31m---------------------------------------------------------------------------\u001b[0m",
            "\u001b[1;31mTypeError\u001b[0m                                 Traceback (most recent call last)",
            "\u001b[1;32m<ipython-input-20-808457a429c5>\u001b[0m in \u001b[0;36m<module>\u001b[1;34m\u001b[0m\n\u001b[1;32m----> 1\u001b[1;33m \u001b[0msquare\u001b[0m\u001b[1;33m(\u001b[0m\u001b[1;36m10\u001b[0m\u001b[1;33m,\u001b[0m\u001b[1;36m20\u001b[0m\u001b[1;33m)\u001b[0m\u001b[1;33m\u001b[0m\u001b[1;33m\u001b[0m\u001b[0m\n\u001b[0m",
            "\u001b[1;31mTypeError\u001b[0m: square() takes 1 positional argument but 2 were given"
          ]
        }
      ]
    },
    {
      "cell_type": "markdown",
      "metadata": {
        "id": "CEsI9W20kTjU"
      },
      "source": [
        "# map, filter, reduce"
      ]
    },
    {
      "cell_type": "code",
      "metadata": {
        "id": "JscdOHzLkuD8"
      },
      "source": [
        ""
      ],
      "execution_count": null,
      "outputs": []
    },
    {
      "cell_type": "code",
      "metadata": {
        "id": "eUsHKa1PkTjU"
      },
      "source": [
        "# map(function, values)"
      ],
      "execution_count": null,
      "outputs": []
    },
    {
      "cell_type": "code",
      "metadata": {
        "id": "xygxFEyskTjU",
        "outputId": "dfeca03a-5e61-409d-8eb3-844fc8b16762"
      },
      "source": [
        "square(10)"
      ],
      "execution_count": null,
      "outputs": [
        {
          "output_type": "execute_result",
          "data": {
            "text/plain": [
              "100"
            ]
          },
          "metadata": {
            "tags": []
          },
          "execution_count": 21
        }
      ]
    },
    {
      "cell_type": "code",
      "metadata": {
        "id": "PGtXQkuAkTjV",
        "outputId": "34dffabe-6081-4c83-e9c6-218457de7cba"
      },
      "source": [
        "square(10,20)"
      ],
      "execution_count": null,
      "outputs": [
        {
          "output_type": "error",
          "ename": "TypeError",
          "evalue": "square() takes 1 positional argument but 2 were given",
          "traceback": [
            "\u001b[1;31m---------------------------------------------------------------------------\u001b[0m",
            "\u001b[1;31mTypeError\u001b[0m                                 Traceback (most recent call last)",
            "\u001b[1;32m<ipython-input-22-808457a429c5>\u001b[0m in \u001b[0;36m<module>\u001b[1;34m\u001b[0m\n\u001b[1;32m----> 1\u001b[1;33m \u001b[0msquare\u001b[0m\u001b[1;33m(\u001b[0m\u001b[1;36m10\u001b[0m\u001b[1;33m,\u001b[0m\u001b[1;36m20\u001b[0m\u001b[1;33m)\u001b[0m\u001b[1;33m\u001b[0m\u001b[1;33m\u001b[0m\u001b[0m\n\u001b[0m",
            "\u001b[1;31mTypeError\u001b[0m: square() takes 1 positional argument but 2 were given"
          ]
        }
      ]
    },
    {
      "cell_type": "code",
      "metadata": {
        "id": "JJGlXdRJkTjW",
        "outputId": "51690065-5bb3-4b2d-cc9c-39f2cc5a104c"
      },
      "source": [
        "list(map(square, [1,2,3,4,5,6,7,8,9,10]))"
      ],
      "execution_count": null,
      "outputs": [
        {
          "output_type": "execute_result",
          "data": {
            "text/plain": [
              "[1, 4, 9, 16, 25, 36, 49, 64, 81, 100]"
            ]
          },
          "metadata": {
            "tags": []
          },
          "execution_count": 23
        }
      ]
    },
    {
      "cell_type": "code",
      "metadata": {
        "id": "utZb9GDJkTjX",
        "outputId": "ecd92fb4-26e2-4d94-d1a5-55725e6d2afd"
      },
      "source": [
        "a = [1,2,3,4,5,6,7,8,9,10]\n",
        "list(map(square, a))"
      ],
      "execution_count": null,
      "outputs": [
        {
          "output_type": "execute_result",
          "data": {
            "text/plain": [
              "[1, 4, 9, 16, 25, 36, 49, 64, 81, 100]"
            ]
          },
          "metadata": {
            "tags": []
          },
          "execution_count": 24
        }
      ]
    },
    {
      "cell_type": "code",
      "metadata": {
        "id": "w5FAP-6gkTjY",
        "outputId": "2f058933-59c3-44ae-c38c-3b183efc0564"
      },
      "source": [
        "list(map(lambda x : x * x, a))"
      ],
      "execution_count": null,
      "outputs": [
        {
          "output_type": "execute_result",
          "data": {
            "text/plain": [
              "[1, 4, 9, 16, 25, 36, 49, 64, 81, 100]"
            ]
          },
          "metadata": {
            "tags": []
          },
          "execution_count": 25
        }
      ]
    },
    {
      "cell_type": "code",
      "metadata": {
        "id": "sV7B6T9GkTjZ",
        "outputId": "46960061-d30a-4d2f-f16f-2c08528a8b82"
      },
      "source": [
        "list(map(lambda x : x * x, [1,2,3,4,5,6,7,8,9,10]))"
      ],
      "execution_count": null,
      "outputs": [
        {
          "output_type": "execute_result",
          "data": {
            "text/plain": [
              "[1, 4, 9, 16, 25, 36, 49, 64, 81, 100]"
            ]
          },
          "metadata": {
            "tags": []
          },
          "execution_count": 26
        }
      ]
    },
    {
      "cell_type": "code",
      "metadata": {
        "id": "d35IHbxEkTjZ"
      },
      "source": [
        "def square1(n):\n",
        "    print( n * n)"
      ],
      "execution_count": null,
      "outputs": []
    },
    {
      "cell_type": "code",
      "metadata": {
        "id": "iQP77wOxkTja"
      },
      "source": [
        "a = [1,2,3,4,5,6,7,8,9,10]\n",
        "list(map(square1, a))"
      ],
      "execution_count": null,
      "outputs": []
    },
    {
      "cell_type": "code",
      "metadata": {
        "id": "BVnI272MkTja"
      },
      "source": [
        "# filter(function, values)"
      ],
      "execution_count": null,
      "outputs": []
    },
    {
      "cell_type": "code",
      "metadata": {
        "id": "1XPukbi_kTjb"
      },
      "source": [
        "def o_e(n):\n",
        "    for i in n:\n",
        "        if i % 2 == 0:\n",
        "            print(i)"
      ],
      "execution_count": null,
      "outputs": []
    },
    {
      "cell_type": "code",
      "metadata": {
        "id": "qbkAv86zkTjb",
        "outputId": "4121c3ac-bb71-4fd9-cfe3-da7bffe9702a"
      },
      "source": [
        "o_e([1,2,3,4,5,6,7,8,9,10])"
      ],
      "execution_count": null,
      "outputs": [
        {
          "output_type": "stream",
          "text": [
            "2\n",
            "4\n",
            "6\n",
            "8\n",
            "10\n"
          ],
          "name": "stdout"
        }
      ]
    },
    {
      "cell_type": "code",
      "metadata": {
        "id": "QJqatrBikTjc",
        "outputId": "dc8c5a6c-d720-4797-8e67-8c91aebbc0a8"
      },
      "source": [
        "list(filter(o_e,[1,2,3,4,5,6,7,8,9,10]))"
      ],
      "execution_count": null,
      "outputs": [
        {
          "output_type": "error",
          "ename": "TypeError",
          "evalue": "'int' object is not iterable",
          "traceback": [
            "\u001b[1;31m---------------------------------------------------------------------------\u001b[0m",
            "\u001b[1;31mTypeError\u001b[0m                                 Traceback (most recent call last)",
            "\u001b[1;32m<ipython-input-29-4aa6aa23e542>\u001b[0m in \u001b[0;36m<module>\u001b[1;34m\u001b[0m\n\u001b[1;32m----> 1\u001b[1;33m \u001b[0mlist\u001b[0m\u001b[1;33m(\u001b[0m\u001b[0mfilter\u001b[0m\u001b[1;33m(\u001b[0m\u001b[0mo_e\u001b[0m\u001b[1;33m,\u001b[0m\u001b[1;33m[\u001b[0m\u001b[1;36m1\u001b[0m\u001b[1;33m,\u001b[0m\u001b[1;36m2\u001b[0m\u001b[1;33m,\u001b[0m\u001b[1;36m3\u001b[0m\u001b[1;33m,\u001b[0m\u001b[1;36m4\u001b[0m\u001b[1;33m,\u001b[0m\u001b[1;36m5\u001b[0m\u001b[1;33m,\u001b[0m\u001b[1;36m6\u001b[0m\u001b[1;33m,\u001b[0m\u001b[1;36m7\u001b[0m\u001b[1;33m,\u001b[0m\u001b[1;36m8\u001b[0m\u001b[1;33m,\u001b[0m\u001b[1;36m9\u001b[0m\u001b[1;33m,\u001b[0m\u001b[1;36m10\u001b[0m\u001b[1;33m]\u001b[0m\u001b[1;33m)\u001b[0m\u001b[1;33m)\u001b[0m\u001b[1;33m\u001b[0m\u001b[1;33m\u001b[0m\u001b[0m\n\u001b[0m",
            "\u001b[1;32m<ipython-input-27-49ecb35997ea>\u001b[0m in \u001b[0;36mo_e\u001b[1;34m(n)\u001b[0m\n\u001b[0;32m      1\u001b[0m \u001b[1;32mdef\u001b[0m \u001b[0mo_e\u001b[0m\u001b[1;33m(\u001b[0m\u001b[0mn\u001b[0m\u001b[1;33m)\u001b[0m\u001b[1;33m:\u001b[0m\u001b[1;33m\u001b[0m\u001b[1;33m\u001b[0m\u001b[0m\n\u001b[1;32m----> 2\u001b[1;33m     \u001b[1;32mfor\u001b[0m \u001b[0mi\u001b[0m \u001b[1;32min\u001b[0m \u001b[0mn\u001b[0m\u001b[1;33m:\u001b[0m\u001b[1;33m\u001b[0m\u001b[1;33m\u001b[0m\u001b[0m\n\u001b[0m\u001b[0;32m      3\u001b[0m         \u001b[1;32mif\u001b[0m \u001b[0mi\u001b[0m \u001b[1;33m%\u001b[0m \u001b[1;36m2\u001b[0m \u001b[1;33m==\u001b[0m \u001b[1;36m0\u001b[0m\u001b[1;33m:\u001b[0m\u001b[1;33m\u001b[0m\u001b[1;33m\u001b[0m\u001b[0m\n\u001b[0;32m      4\u001b[0m             \u001b[0mprint\u001b[0m\u001b[1;33m(\u001b[0m\u001b[0mi\u001b[0m\u001b[1;33m)\u001b[0m\u001b[1;33m\u001b[0m\u001b[1;33m\u001b[0m\u001b[0m\n",
            "\u001b[1;31mTypeError\u001b[0m: 'int' object is not iterable"
          ]
        }
      ]
    },
    {
      "cell_type": "code",
      "metadata": {
        "id": "dN2G9mwekTjd"
      },
      "source": [
        "def o_e(i):\n",
        "#     for i in n:\n",
        "    if i % 2 == 0:\n",
        "        return(i)"
      ],
      "execution_count": null,
      "outputs": []
    },
    {
      "cell_type": "code",
      "metadata": {
        "id": "aNOXoCeekTjd",
        "outputId": "6b35d232-d9f1-4750-be0f-1a7f03d7581c"
      },
      "source": [
        "list(filter(o_e,[1,2,3,4,5,6,7,8,9,10]))"
      ],
      "execution_count": null,
      "outputs": [
        {
          "output_type": "execute_result",
          "data": {
            "text/plain": [
              "[2, 4, 6, 8, 10]"
            ]
          },
          "metadata": {
            "tags": []
          },
          "execution_count": 31
        }
      ]
    },
    {
      "cell_type": "code",
      "metadata": {
        "id": "cCrfL7h5kTje"
      },
      "source": [
        "def o_e(i):\n",
        "#     for i in n:\n",
        "    if i % 2 == 0:\n",
        "        return(i)\n",
        "    else:\n",
        "        return('odd')"
      ],
      "execution_count": null,
      "outputs": []
    },
    {
      "cell_type": "code",
      "metadata": {
        "id": "kp5msm1lkTjf",
        "outputId": "6c287922-1c5c-4860-db98-d6320b3fb3c0"
      },
      "source": [
        "list(filter(o_e,[1,2,3,4,5,6,7,8,9,10]))"
      ],
      "execution_count": null,
      "outputs": [
        {
          "output_type": "execute_result",
          "data": {
            "text/plain": [
              "[1, 2, 3, 4, 5, 6, 7, 8, 9, 10]"
            ]
          },
          "metadata": {
            "tags": []
          },
          "execution_count": 33
        }
      ]
    },
    {
      "cell_type": "code",
      "metadata": {
        "id": "sTeiSYs1kTjg",
        "outputId": "3d767953-c97b-48bf-fe19-4e119ce06466"
      },
      "source": [
        "list(map(o_e,[1,2,3,4,5,6,7,8,9,10]))"
      ],
      "execution_count": null,
      "outputs": [
        {
          "output_type": "execute_result",
          "data": {
            "text/plain": [
              "['odd', 2, 'odd', 4, 'odd', 6, 'odd', 8, 'odd', 10]"
            ]
          },
          "metadata": {
            "tags": []
          },
          "execution_count": 34
        }
      ]
    },
    {
      "cell_type": "code",
      "metadata": {
        "id": "ovcXqBr6kTjh",
        "outputId": "dd9adad2-3dee-48fe-e073-a2a7ea6edf64"
      },
      "source": [
        "list(filter(lambda x : x % 2 == 0, [1,2,3,4,5,6,7,8,9,10]))"
      ],
      "execution_count": null,
      "outputs": [
        {
          "output_type": "execute_result",
          "data": {
            "text/plain": [
              "[2, 4, 6, 8, 10]"
            ]
          },
          "metadata": {
            "tags": []
          },
          "execution_count": 35
        }
      ]
    },
    {
      "cell_type": "code",
      "metadata": {
        "id": "TNRk6OmnkTji"
      },
      "source": [
        "def o_e(i):\n",
        "#     for i in n:\n",
        "    if i % 2 == 0:\n",
        "        return(i)\n",
        "    else:\n",
        "        return('odd')"
      ],
      "execution_count": null,
      "outputs": []
    },
    {
      "cell_type": "code",
      "metadata": {
        "id": "fCxtttGskTjj"
      },
      "source": [
        "list(filter(o_e,[1,2,3,4,5,6,7,8,9,10]))"
      ],
      "execution_count": null,
      "outputs": []
    },
    {
      "cell_type": "code",
      "metadata": {
        "id": "iMb4IElmkTjo"
      },
      "source": [
        "list(map(o_e,[1,2,3,4,5,6,7,8,9,10]))"
      ],
      "execution_count": null,
      "outputs": []
    },
    {
      "cell_type": "code",
      "metadata": {
        "id": "-lwOExLkkTjp"
      },
      "source": [
        "# reduce(function, values)"
      ],
      "execution_count": null,
      "outputs": []
    },
    {
      "cell_type": "code",
      "metadata": {
        "id": "3zKlmfGJkTjp"
      },
      "source": [
        "from functools import reduce\n",
        "# from a package called functools we are importing a function called reduce"
      ],
      "execution_count": null,
      "outputs": []
    },
    {
      "cell_type": "code",
      "metadata": {
        "id": "tFfO8xuekTjq"
      },
      "source": [
        "a = [1,2,3,4,5]"
      ],
      "execution_count": null,
      "outputs": []
    },
    {
      "cell_type": "code",
      "metadata": {
        "id": "n8ojhbg1kTjr",
        "outputId": "bdda4bfe-01fe-4b80-bb83-383ffb793e4a"
      },
      "source": [
        "count = 0\n",
        "for i in a:\n",
        "    count += i\n",
        "count\n",
        "\n",
        "# 0 + 1 = 1\n",
        "# 1 + 2 = 3\n",
        "# 3 + 3 = 6\n",
        "# 6 + 4 = 10\n",
        "# 10 + 5 = 15"
      ],
      "execution_count": null,
      "outputs": [
        {
          "output_type": "execute_result",
          "data": {
            "text/plain": [
              "15"
            ]
          },
          "metadata": {
            "tags": []
          },
          "execution_count": 3
        }
      ]
    },
    {
      "cell_type": "code",
      "metadata": {
        "id": "fk56tgofkTjs",
        "outputId": "c3052606-0ab4-4523-a633-be9237a55ee9"
      },
      "source": [
        "reduce(lambda x, y : x + y, a)\n",
        "# 1 2 3 4 5\n",
        "# 3 3 4 5 \n",
        "# 6 4 5 \n",
        "# 10 5\n",
        "# 15"
      ],
      "execution_count": null,
      "outputs": [
        {
          "output_type": "execute_result",
          "data": {
            "text/plain": [
              "15"
            ]
          },
          "metadata": {
            "tags": []
          },
          "execution_count": 38
        }
      ]
    },
    {
      "cell_type": "code",
      "metadata": {
        "id": "Go-VcaO0kTjt"
      },
      "source": [
        "4 ** 0.5"
      ],
      "execution_count": null,
      "outputs": []
    },
    {
      "cell_type": "code",
      "metadata": {
        "id": "1HAr1oU9kTju"
      },
      "source": [
        "# numbers = [1, 2, 3] add 1 to each value using lambda expression and list comprehension\n",
        "# Write a Python code using lambda expression to illustrate cube of a number\n",
        "# Write a Python code using lambda expression to get only the odd number of the below values\n",
        "    # li = [5, 7, 22, 97, 54, 62, 77, 23, 73, 61]\n",
        "# Write a Python code using lambda expression to get the square root of the below values\n",
        "    # li = [5, 7, 22, 97, 54, 62, 77, 23, 73, 61]\n",
        "# Write a Python code using lambda expression to find intersection of two arrays using lambda expression\n",
        "    # arr1 = [1, 3, 4, 5, 7] \n",
        "    # arr2 = [2, 3, 5, 6]\n",
        "# Function to rearrange positive and negative elements\n",
        "    # arr = [12, 11, -13, -5, 6, -7, 5, -3, -6] \n",
        "    # Expected output [-13, -5, -7, -3, -6, 12, 11, 6, 5]\n",
        "# Write a Python program to count the even in a given array of integers using Lambda\n",
        "# Write a Python program to add two given lists using map and lambda.\n",
        "#     Original list:\n",
        "#     [1, 2, 3]\n",
        "#     [4, 5, 6]\n",
        "#     Result: after adding two list\n",
        "#     [5, 7, 9]\n",
        "# Write a Python program to find numbers divisible by nineteen or thirteen using Lambda\n",
        "#      Orginal list:19, 65, 57, 39, 152, 190\n",
        "#     [19, 65, 57, 39, 152, 639, 121, 44, 90, 190]\n",
        "#     Numbers of the above list divisible by nineteen or thirteen:\n",
        "#     [19, 65, 57, 39, 152, 190]\n",
        "# Write a Python program to find palindromes in a given list of strings using Lambda.\n",
        "#     Orginal list of strings:\n",
        "#     \n",
        "#     List of palindromes:\n",
        "#     ['php', 'aaa']"
      ],
      "execution_count": null,
      "outputs": []
    },
    {
      "cell_type": "code",
      "metadata": {
        "id": "AqG0D5o2kwFb",
        "outputId": "cf45cd18-418a-45bd-d814-0e9c91d927ba",
        "colab": {
          "base_uri": "https://localhost:8080/",
          "height": 34
        }
      },
      "source": [
        "numbers = [1, 2, 3]\n",
        "list(map(lambda num : num ** 3, numbers))"
      ],
      "execution_count": null,
      "outputs": [
        {
          "output_type": "execute_result",
          "data": {
            "text/plain": [
              "[1, 8, 27]"
            ]
          },
          "metadata": {
            "tags": []
          },
          "execution_count": 4
        }
      ]
    },
    {
      "cell_type": "code",
      "metadata": {
        "id": "LYGY_KVMlsT8",
        "outputId": "053c5a1b-8572-4e87-9db0-ddcd72f1e522",
        "colab": {
          "base_uri": "https://localhost:8080/",
          "height": 34
        }
      },
      "source": [
        "i = [5, 7, 22, 97, 54, 62, 77, 23, 73, 61]\n",
        "list(filter(lambda x : x % 2 != 0, i))"
      ],
      "execution_count": null,
      "outputs": [
        {
          "output_type": "execute_result",
          "data": {
            "text/plain": [
              "[5, 7, 97, 77, 23, 73, 61]"
            ]
          },
          "metadata": {
            "tags": []
          },
          "execution_count": 5
        }
      ]
    },
    {
      "cell_type": "code",
      "metadata": {
        "id": "b9rn1gISmRSI",
        "outputId": "51244783-bd29-4bc9-9901-02045a01ed9f",
        "colab": {
          "base_uri": "https://localhost:8080/",
          "height": 34
        }
      },
      "source": [
        "# Write a Python code using lambda expression to get the square root of the below values\n",
        "li = [5, 7, 22, 97, 54, 62, 77, 23, 73, 61]\n",
        "list(map(lambda num : num * .5, li))"
      ],
      "execution_count": null,
      "outputs": [
        {
          "output_type": "execute_result",
          "data": {
            "text/plain": [
              "[2.5, 3.5, 11.0, 48.5, 27.0, 31.0, 38.5, 11.5, 36.5, 30.5]"
            ]
          },
          "metadata": {
            "tags": []
          },
          "execution_count": 8
        }
      ]
    },
    {
      "cell_type": "code",
      "metadata": {
        "id": "GTaCVg93mgPp",
        "outputId": "32a4ab01-442f-4ebf-95b6-ed686556b06f",
        "colab": {
          "base_uri": "https://localhost:8080/",
          "height": 34
        }
      },
      "source": [
        "#Write a Python code using lambda expression to find intersection of two arrays using lambda expression\n",
        "arr1 = [1, 3, 4, 5, 7] \n",
        "arr2 = [2, 3, 5, 6]\n",
        "list(filter(lambda x : x in arr1, arr2))"
      ],
      "execution_count": null,
      "outputs": [
        {
          "output_type": "execute_result",
          "data": {
            "text/plain": [
              "[3, 5]"
            ]
          },
          "metadata": {
            "tags": []
          },
          "execution_count": 17
        }
      ]
    },
    {
      "cell_type": "code",
      "metadata": {
        "id": "eupNdRYFpGEQ"
      },
      "source": [
        ""
      ],
      "execution_count": null,
      "outputs": []
    },
    {
      "cell_type": "code",
      "metadata": {
        "id": "KV6Ls8EjpGnN",
        "outputId": "fbb18d2d-496e-4ed4-94ef-242943f066c7",
        "colab": {
          "base_uri": "https://localhost:8080/",
          "height": 34
        }
      },
      "source": [
        "# Function to rearrange positive and negative elements\n",
        "arr = [12, 11, -13, -5, 6, -7, 5, -3, -6] \n",
        "    #Expected output [-13, -5, -7, -3, -6, 12, 11, 6, 5]\n",
        "[i for i in arr if i < 0] + [i for i in arr if i > 0]\n"
      ],
      "execution_count": null,
      "outputs": [
        {
          "output_type": "execute_result",
          "data": {
            "text/plain": [
              "[-13, -7, -6, -5, -3, 5, 6, 11, 12]"
            ]
          },
          "metadata": {
            "tags": []
          },
          "execution_count": 22
        }
      ]
    },
    {
      "cell_type": "code",
      "metadata": {
        "id": "u01v5gAWqm2b",
        "outputId": "f7cab760-ad11-47b6-b154-140fb3116788",
        "colab": {
          "base_uri": "https://localhost:8080/",
          "height": 34
        }
      },
      "source": [
        "# Write a Python program to count the even in a given array of integers using Lambda\n",
        "i = [5, 7, 22, 97, 54, 62, 77, 23, 73, 61]\n",
        "len(list(filter(lambda x : x % 2 == 0, i)))"
      ],
      "execution_count": null,
      "outputs": [
        {
          "output_type": "execute_result",
          "data": {
            "text/plain": [
              "3"
            ]
          },
          "metadata": {
            "tags": []
          },
          "execution_count": 25
        }
      ]
    },
    {
      "cell_type": "code",
      "metadata": {
        "id": "W2qYZgxwrUsO",
        "outputId": "5e48ab53-ba5c-4aa6-a0a8-94cc682ea471",
        "colab": {
          "base_uri": "https://localhost:8080/",
          "height": 34
        }
      },
      "source": [
        "# Write a Python program to add two given lists using map and lambda.\n",
        "#     Original list:\n",
        "#     [1, 2, 3]\n",
        "#     [4, 5, 6]\n",
        "#     Result: after adding two list\n",
        "#     [5, 7, 9]\n",
        "x = [1, 2, 3]\n",
        "y = [4, 5, 6]\n",
        "list(map(lambda a, b : a + b, x, y))"
      ],
      "execution_count": null,
      "outputs": [
        {
          "output_type": "execute_result",
          "data": {
            "text/plain": [
              "[5, 7, 9]"
            ]
          },
          "metadata": {
            "tags": []
          },
          "execution_count": 5
        }
      ]
    },
    {
      "cell_type": "code",
      "metadata": {
        "id": "-kZp6WjWLkK4",
        "outputId": "c49e861e-9ce0-4d1b-cf75-c7887dda29a9",
        "colab": {
          "base_uri": "https://localhost:8080/",
          "height": 34
        }
      },
      "source": [
        "# Write a Python program to find numbers divisible by nineteen or thirteen using Lambda\n",
        "#      Orginal list:19, 65, 57, 39, 152, 190\n",
        "#     [19, 65, 57, 39, 152, 639, 121, 44, 90, 190]\n",
        "#     Numbers of the above list divisible by nineteen or thirteen:\n",
        "#     [19, 65, 57, 39, 152, 190]\n",
        "y = [19, 65, 57, 39, 152, 639, 121, 44, 90, 190]\n",
        "list(filter(lambda x : (x % 19 == 0 or x % 18 == 0), y))"
      ],
      "execution_count": null,
      "outputs": [
        {
          "output_type": "execute_result",
          "data": {
            "text/plain": [
              "[19, 57, 152, 90, 190]"
            ]
          },
          "metadata": {
            "tags": []
          },
          "execution_count": 2
        }
      ]
    },
    {
      "cell_type": "code",
      "metadata": {
        "id": "1tKGNwnRUWPM",
        "outputId": "b5a41ab7-5de9-41b3-b260-a7259310ff53",
        "colab": {
          "base_uri": "https://localhost:8080/",
          "height": 34
        }
      },
      "source": [
        "# Write a Python program to find palindromes in a given list of strings using Lambda.\n",
        "#     Orginal list of strings:\n",
        "#     \n",
        "#     List of palindromes:\n",
        "#     ['php', 'aaa']\n",
        "\n",
        "x = ['php', 'aaa', 'arun']\n",
        "list(filter(lambda x : x[0] == x[-1], x)) "
      ],
      "execution_count": null,
      "outputs": [
        {
          "output_type": "execute_result",
          "data": {
            "text/plain": [
              "['php', 'aaa']"
            ]
          },
          "metadata": {
            "tags": []
          },
          "execution_count": 10
        }
      ]
    }
  ]
}