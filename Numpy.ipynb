{
  "nbformat": 4,
  "nbformat_minor": 0,
  "metadata": {
    "kernelspec": {
      "display_name": "Python 3",
      "language": "python",
      "name": "python3"
    },
    "language_info": {
      "codemirror_mode": {
        "name": "ipython",
        "version": 3
      },
      "file_extension": ".py",
      "mimetype": "text/x-python",
      "name": "python",
      "nbconvert_exporter": "python",
      "pygments_lexer": "ipython3",
      "version": "3.7.6"
    },
    "colab": {
      "name": "Numpy.ipynb",
      "provenance": [],
      "include_colab_link": true
    }
  },
  "cells": [
    {
      "cell_type": "markdown",
      "metadata": {
        "id": "view-in-github",
        "colab_type": "text"
      },
      "source": [
        "<a href=\"https://colab.research.google.com/github/arunharan/python_class/blob/master/Numpy.ipynb\" target=\"_parent\"><img src=\"https://colab.research.google.com/assets/colab-badge.svg\" alt=\"Open In Colab\"/></a>"
      ]
    },
    {
      "cell_type": "markdown",
      "metadata": {
        "id": "7lNANsUCOOYj"
      },
      "source": [
        "<h1 style=\"font-size:50px;color:gray;\"><center>Introduction to Numpy</center></h1>\n",
        "\n",
        "![](http://m.memegen.com/o6i6hi.jpg)\n",
        "\n",
        "# [RESOURCE](https://fgnt.github.io/python_crashkurs_doc/include/numpy.html)"
      ]
    },
    {
      "cell_type": "markdown",
      "metadata": {
        "id": "e0rNNBEDOOYk"
      },
      "source": [
        "------------\n",
        "\n",
        "![](https://bids.berkeley.edu/sites/default/files/styles/400x225/public/projects/numpy_project_page.jpg?itok=flrdydei)\n",
        "\n",
        "\n",
        "# What is Numpy?\n",
        "---\n",
        "\n",
        "NumPy is a general-purpose array-processing package which provides a high-performance, homogenous, multidimensional array object, and tools for working with these arrays.\n",
        "\n",
        "It is the fundamental package for scientific computing with Python. It contains among other things:\n",
        "- a powerful N-dimensional array object\n",
        "- sophisticated (broadcasting) functions\n",
        "- tools for integrating C/C++ and Fortran code\n",
        "- useful linear algebra, Fourier transform, and random number capabilities\n",
        "\n",
        "Besides its obvious scientific uses, NumPy can also be used as an efficient multi-dimensional container of generic data.\n",
        "Arbitrary data-types can be defined. This allows NumPy to seamlessly and speedily integrate with a wide variety of databases."
      ]
    },
    {
      "cell_type": "markdown",
      "metadata": {
        "id": "2DUk5NsYOOYl"
      },
      "source": [
        "-----------\n",
        "\n",
        "# Python Lists vs. Numpy Arrays\n",
        "![](https://memegenerator.net/img/instances/400x/74259368.jpg)\n",
        "\n",
        "- **Size** - Numpy data structures take up less space\n",
        "    ## Storing List\n",
        "<img height=500 width=500 src=\"https://webcourses.ucf.edu/courses/1249560/files/64324060/download?wrap=1\">\n",
        "\n",
        "    ## Storing Array\n",
        "<img height=500 width=500 src=\"https://webcourses.ucf.edu/courses/1249560/files/64324040/download?wrap=1\">\n",
        "\n",
        "- **Performance** - they have a need for speed and are faster than lists\n",
        "\n",
        "- **Functionality** - SciPy and NumPy have optimized functions such as linear algebra operations built-in."
      ]
    },
    {
      "cell_type": "markdown",
      "metadata": {
        "id": "b3n7QpcWOOYm"
      },
      "source": [
        "# Installation\n",
        "\n",
        "```\n",
        "pip install numpy\n",
        "```"
      ]
    },
    {
      "cell_type": "markdown",
      "metadata": {
        "id": "isMWdO0iOOYn"
      },
      "source": [
        "# Numpy Arrays\n",
        "\n",
        "---\n",
        "NumPy’s main object is the homogeneous multidimensional array.\n",
        "- It is a table of elements (usually numbers), all of the same type, indexed by a tuple of positive integers.\n",
        "- In NumPy dimensions are called *axes*. The number of axes is *rank*.\n",
        "- NumPy’s array class is called **ndarray**. It is also known by the alias **array**. \n",
        "\n",
        "![](http://community.datacamp.com.s3.amazonaws.com/community/production/ckeditor_assets/pictures/332/content_arrays-axes.png)\n",
        "\n",
        "![](https://i.stack.imgur.com/gj5ue.jpg)\n",
        "\n",
        "For example:\n",
        "```python\n",
        "[[ 1, 2, 3],\n",
        " [ 4, 2, 5]]\n",
        "```  \n",
        "This array has:\n",
        "- rank = 2 (as it is 2-dimensional or it has 2 axes)\n",
        "- first dimension(axis) length = 2, second dimension has length = 3.\n",
        "- overall shape can be expressed as: (2, 3)"
      ]
    },
    {
      "cell_type": "code",
      "metadata": {
        "id": "XJdjvR-YOOYn"
      },
      "source": [
        "# !pip install numpy"
      ],
      "execution_count": null,
      "outputs": []
    },
    {
      "cell_type": "code",
      "metadata": {
        "id": "RYPJBRfvOOYs"
      },
      "source": [
        "import numpy as np"
      ],
      "execution_count": null,
      "outputs": []
    },
    {
      "cell_type": "code",
      "metadata": {
        "id": "NPOSz-aVOOYv",
        "outputId": "55e4cf09-fed8-45cf-b08c-bce5ef3bf818"
      },
      "source": [
        "list_ = [[1, 2, 3],\n",
        "       [4, 5, 6],[4,5,6]]\n",
        "list_"
      ],
      "execution_count": null,
      "outputs": [
        {
          "output_type": "execute_result",
          "data": {
            "text/plain": [
              "[[1, 2, 3], [4, 5, 6], [4, 5, 6]]"
            ]
          },
          "metadata": {
            "tags": []
          },
          "execution_count": 2
        }
      ]
    },
    {
      "cell_type": "code",
      "metadata": {
        "id": "ofIWWAwBOOYz",
        "outputId": "2122095d-c535-4a23-bd58-383bacbd73cc"
      },
      "source": [
        "type(list_)"
      ],
      "execution_count": null,
      "outputs": [
        {
          "output_type": "execute_result",
          "data": {
            "text/plain": [
              "list"
            ]
          },
          "metadata": {
            "tags": []
          },
          "execution_count": 3
        }
      ]
    },
    {
      "cell_type": "code",
      "metadata": {
        "id": "VZvvkmUmOOY5"
      },
      "source": [
        "arr = np.array(list_)"
      ],
      "execution_count": null,
      "outputs": []
    },
    {
      "cell_type": "code",
      "metadata": {
        "id": "Y07bAFZOOOY8",
        "outputId": "df4cc55e-74cf-4250-a44d-14862d336ab7"
      },
      "source": [
        "arr"
      ],
      "execution_count": null,
      "outputs": [
        {
          "output_type": "execute_result",
          "data": {
            "text/plain": [
              "array([[1, 2, 3],\n",
              "       [4, 5, 6],\n",
              "       [4, 5, 6]])"
            ]
          },
          "metadata": {
            "tags": []
          },
          "execution_count": 5
        }
      ]
    },
    {
      "cell_type": "code",
      "metadata": {
        "id": "zE5BxejPOOY_",
        "outputId": "6cefe878-7d35-4fa9-afae-1f851560c4c0"
      },
      "source": [
        "type(arr)"
      ],
      "execution_count": null,
      "outputs": [
        {
          "output_type": "execute_result",
          "data": {
            "text/plain": [
              "numpy.ndarray"
            ]
          },
          "metadata": {
            "tags": []
          },
          "execution_count": 6
        }
      ]
    },
    {
      "cell_type": "code",
      "metadata": {
        "id": "uRXok-39OOZC",
        "outputId": "01eb8b16-b60e-41bf-ac2c-33fc691f65c7"
      },
      "source": [
        "arr.dtype"
      ],
      "execution_count": null,
      "outputs": [
        {
          "output_type": "execute_result",
          "data": {
            "text/plain": [
              "dtype('int32')"
            ]
          },
          "metadata": {
            "tags": []
          },
          "execution_count": 8
        }
      ]
    },
    {
      "cell_type": "code",
      "metadata": {
        "id": "Y6wFAsUgOOZF",
        "outputId": "ffdd472a-c959-4097-a3c4-09cf65367443"
      },
      "source": [
        "arr.ndim"
      ],
      "execution_count": null,
      "outputs": [
        {
          "output_type": "execute_result",
          "data": {
            "text/plain": [
              "2"
            ]
          },
          "metadata": {
            "tags": []
          },
          "execution_count": 7
        }
      ]
    },
    {
      "cell_type": "code",
      "metadata": {
        "id": "f0rTeXL3OOZI"
      },
      "source": [
        "arr = np.array([1,3])"
      ],
      "execution_count": null,
      "outputs": []
    },
    {
      "cell_type": "code",
      "metadata": {
        "id": "2wG3lLcbOOZL",
        "outputId": "58c23879-35b2-4cdb-ca99-02d1e6e44227"
      },
      "source": [
        "arr.ndim"
      ],
      "execution_count": null,
      "outputs": [
        {
          "output_type": "execute_result",
          "data": {
            "text/plain": [
              "1"
            ]
          },
          "metadata": {
            "tags": []
          },
          "execution_count": 10
        }
      ]
    },
    {
      "cell_type": "code",
      "metadata": {
        "id": "BPtBkzKgOOZN"
      },
      "source": [
        "arr = np.array(list_)"
      ],
      "execution_count": null,
      "outputs": []
    },
    {
      "cell_type": "code",
      "metadata": {
        "id": "6TgW8VZeOOZQ",
        "outputId": "06ce7744-c698-4b4b-d147-76869f2215d9"
      },
      "source": [
        "arr"
      ],
      "execution_count": null,
      "outputs": [
        {
          "output_type": "execute_result",
          "data": {
            "text/plain": [
              "array([[1, 2, 3],\n",
              "       [4, 5, 6],\n",
              "       [4, 5, 6]])"
            ]
          },
          "metadata": {
            "tags": []
          },
          "execution_count": 12
        }
      ]
    },
    {
      "cell_type": "code",
      "metadata": {
        "id": "9J8qBxPuOOZT",
        "outputId": "0dc9a211-ac34-4e85-9220-6f5e19297ef1"
      },
      "source": [
        "arr.shape"
      ],
      "execution_count": null,
      "outputs": [
        {
          "output_type": "execute_result",
          "data": {
            "text/plain": [
              "(3, 3)"
            ]
          },
          "metadata": {
            "tags": []
          },
          "execution_count": 13
        }
      ]
    },
    {
      "cell_type": "code",
      "metadata": {
        "id": "PsWngdFqOOZV",
        "outputId": "0685bb28-be2c-4c72-ab61-d45cac0dcd0f"
      },
      "source": [
        "ar = np.array([[1,2,3]])\n",
        "ar"
      ],
      "execution_count": null,
      "outputs": [
        {
          "output_type": "execute_result",
          "data": {
            "text/plain": [
              "array([[1, 2, 3]])"
            ]
          },
          "metadata": {
            "tags": []
          },
          "execution_count": 14
        }
      ]
    },
    {
      "cell_type": "code",
      "metadata": {
        "id": "A2W9jw4zOOZY",
        "outputId": "b7869583-36c6-4bf4-e18a-dd51cc245d2b"
      },
      "source": [
        "ar.ndim"
      ],
      "execution_count": null,
      "outputs": [
        {
          "output_type": "execute_result",
          "data": {
            "text/plain": [
              "2"
            ]
          },
          "metadata": {
            "tags": []
          },
          "execution_count": 15
        }
      ]
    },
    {
      "cell_type": "code",
      "metadata": {
        "id": "wC-MIDHkOOZb",
        "outputId": "62a5005d-ef21-4e07-c98d-ba9e7e1e9a43"
      },
      "source": [
        "type(ar)"
      ],
      "execution_count": null,
      "outputs": [
        {
          "output_type": "execute_result",
          "data": {
            "text/plain": [
              "numpy.ndarray"
            ]
          },
          "metadata": {
            "tags": []
          },
          "execution_count": 16
        }
      ]
    },
    {
      "cell_type": "code",
      "metadata": {
        "id": "OqbBCg4kOOZd",
        "outputId": "6452dcf8-a8e4-4f2e-e9ee-1a6c03ff8431"
      },
      "source": [
        "type(np.array([[1,2,3],[4,5,6]]))"
      ],
      "execution_count": null,
      "outputs": [
        {
          "output_type": "execute_result",
          "data": {
            "text/plain": [
              "numpy.ndarray"
            ]
          },
          "metadata": {
            "tags": []
          },
          "execution_count": 17
        }
      ]
    },
    {
      "cell_type": "code",
      "metadata": {
        "id": "jq81yjqWOOZg"
      },
      "source": [
        "arr = np.array(list_)"
      ],
      "execution_count": null,
      "outputs": []
    },
    {
      "cell_type": "code",
      "metadata": {
        "id": "iIVyk2pXOOZi",
        "outputId": "e3249514-5da2-4a1d-8682-72c9862e056a"
      },
      "source": [
        "arr"
      ],
      "execution_count": null,
      "outputs": [
        {
          "output_type": "execute_result",
          "data": {
            "text/plain": [
              "array([[1, 2, 3],\n",
              "       [4, 5, 6],\n",
              "       [4, 5, 6]])"
            ]
          },
          "metadata": {
            "tags": []
          },
          "execution_count": 19
        }
      ]
    },
    {
      "cell_type": "code",
      "metadata": {
        "id": "tLaEqdBQOOZl",
        "outputId": "a712dc4f-e727-41f9-8e98-1ad253302a28"
      },
      "source": [
        "arr.T # Transpose"
      ],
      "execution_count": null,
      "outputs": [
        {
          "output_type": "execute_result",
          "data": {
            "text/plain": [
              "array([[1, 4, 4],\n",
              "       [2, 5, 5],\n",
              "       [3, 6, 6]])"
            ]
          },
          "metadata": {
            "tags": []
          },
          "execution_count": 20
        }
      ]
    },
    {
      "cell_type": "code",
      "metadata": {
        "id": "Kcp8_HRcOOZo",
        "outputId": "98bec987-f4ee-4440-b87c-8638c697921b"
      },
      "source": [
        "arr"
      ],
      "execution_count": null,
      "outputs": [
        {
          "output_type": "execute_result",
          "data": {
            "text/plain": [
              "array([[1, 2, 3],\n",
              "       [4, 5, 6],\n",
              "       [4, 5, 6]])"
            ]
          },
          "metadata": {
            "tags": []
          },
          "execution_count": 21
        }
      ]
    },
    {
      "cell_type": "code",
      "metadata": {
        "id": "KL1B6BHcOOZr",
        "outputId": "743c1699-8785-4484-ce84-687ef2fb965e"
      },
      "source": [
        "arr = arr.T\n",
        "arr"
      ],
      "execution_count": null,
      "outputs": [
        {
          "output_type": "execute_result",
          "data": {
            "text/plain": [
              "array([[1, 4, 4],\n",
              "       [2, 5, 5],\n",
              "       [3, 6, 6]])"
            ]
          },
          "metadata": {
            "tags": []
          },
          "execution_count": 22
        }
      ]
    },
    {
      "cell_type": "markdown",
      "metadata": {
        "id": "mVbj99YKOOZu"
      },
      "source": [
        "## Array Creation\n",
        "---\n",
        "There are various ways to create arrays in NumPy.\n",
        "\n",
        "- For example, you can create an array from a regular Python **list** or **tuple** using the **array** function. The type of the resulting array is deduced from the type of the elements in the sequences."
      ]
    },
    {
      "cell_type": "code",
      "metadata": {
        "id": "leYnV_vSOOZv"
      },
      "source": [
        "mylist = [[1,2,3],\n",
        "         [4,5,6]]"
      ],
      "execution_count": null,
      "outputs": []
    },
    {
      "cell_type": "code",
      "metadata": {
        "id": "nWKm3WkZOOZx"
      },
      "source": [
        "arr = np.array(mylist)"
      ],
      "execution_count": null,
      "outputs": []
    },
    {
      "cell_type": "code",
      "metadata": {
        "id": "QUHdgpNNOOZ3",
        "outputId": "5a1a272c-f4e1-4398-8018-0293135d4e47"
      },
      "source": [
        "arr"
      ],
      "execution_count": null,
      "outputs": [
        {
          "output_type": "execute_result",
          "data": {
            "text/plain": [
              "array([[1, 2, 3],\n",
              "       [4, 5, 6]])"
            ]
          },
          "metadata": {
            "tags": []
          },
          "execution_count": 25
        }
      ]
    },
    {
      "cell_type": "markdown",
      "metadata": {
        "id": "zW55-BzAOOZ6"
      },
      "source": [
        "- Often, the elements of an array are originally unknown, but its size is known. Hence, NumPy offers several functions to create arrays with **initial placeholder content**. These minimize the necessity of growing arrays, an expensive operation. **For example:** np.zeros, np.ones, np.full, np.empty, np.random.random, np.random.randint etc."
      ]
    },
    {
      "cell_type": "code",
      "metadata": {
        "id": "pvLBHM-zOOZ7",
        "outputId": "ed550822-20a2-41ba-9650-9fe22c500f10"
      },
      "source": [
        "np.zeros((3,3))"
      ],
      "execution_count": null,
      "outputs": [
        {
          "output_type": "execute_result",
          "data": {
            "text/plain": [
              "array([[0., 0., 0.],\n",
              "       [0., 0., 0.],\n",
              "       [0., 0., 0.]])"
            ]
          },
          "metadata": {
            "tags": []
          },
          "execution_count": 26
        }
      ]
    },
    {
      "cell_type": "code",
      "metadata": {
        "id": "voBXig7TOOZ9"
      },
      "source": [
        "arr = np.zeros((4,4), dtype='int')"
      ],
      "execution_count": null,
      "outputs": []
    },
    {
      "cell_type": "code",
      "metadata": {
        "id": "GXWYWpQSOOaA",
        "outputId": "32b28f57-72ab-4f75-9a77-74edce3a23d4"
      },
      "source": [
        "arr"
      ],
      "execution_count": null,
      "outputs": [
        {
          "output_type": "execute_result",
          "data": {
            "text/plain": [
              "array([[0, 0, 0, 0],\n",
              "       [0, 0, 0, 0],\n",
              "       [0, 0, 0, 0],\n",
              "       [0, 0, 0, 0]])"
            ]
          },
          "metadata": {
            "tags": []
          },
          "execution_count": 28
        }
      ]
    },
    {
      "cell_type": "code",
      "metadata": {
        "id": "5pVe6CG1OOaD",
        "outputId": "4ded2180-8bc2-4541-f17a-d33b395b8db7"
      },
      "source": [
        "arr.dtype"
      ],
      "execution_count": null,
      "outputs": [
        {
          "output_type": "execute_result",
          "data": {
            "text/plain": [
              "dtype('int32')"
            ]
          },
          "metadata": {
            "tags": []
          },
          "execution_count": 29
        }
      ]
    },
    {
      "cell_type": "code",
      "metadata": {
        "id": "9CfIV7epOOaF",
        "outputId": "9729b534-8c31-452c-f542-11fdcffa66fc"
      },
      "source": [
        "np.ones((3,2))"
      ],
      "execution_count": null,
      "outputs": [
        {
          "output_type": "execute_result",
          "data": {
            "text/plain": [
              "array([[1., 1.],\n",
              "       [1., 1.],\n",
              "       [1., 1.]])"
            ]
          },
          "metadata": {
            "tags": []
          },
          "execution_count": 29
        }
      ]
    },
    {
      "cell_type": "code",
      "metadata": {
        "id": "5QVaNZ4rOOaH",
        "outputId": "8cb7d19f-529f-4314-96ad-3761c1a0dfd3"
      },
      "source": [
        "a = np.full((3,3), 4)\n",
        "a"
      ],
      "execution_count": null,
      "outputs": [
        {
          "output_type": "execute_result",
          "data": {
            "text/plain": [
              "array([[4, 4, 4],\n",
              "       [4, 4, 4],\n",
              "       [4, 4, 4]])"
            ]
          },
          "metadata": {
            "tags": []
          },
          "execution_count": 30
        }
      ]
    },
    {
      "cell_type": "code",
      "metadata": {
        "id": "yDEP51hUOOaK",
        "outputId": "5937c833-9fd6-4f35-ef27-73a391c11eb1"
      },
      "source": [
        "a.ndim"
      ],
      "execution_count": null,
      "outputs": [
        {
          "output_type": "execute_result",
          "data": {
            "text/plain": [
              "2"
            ]
          },
          "metadata": {
            "tags": []
          },
          "execution_count": 31
        }
      ]
    },
    {
      "cell_type": "code",
      "metadata": {
        "id": "xV1eeI6-OOaM",
        "outputId": "151b6d65-08bf-4025-8192-a3774cfb4c4b"
      },
      "source": [
        "np.random.rand(2,3) # > 0 and < 1"
      ],
      "execution_count": null,
      "outputs": [
        {
          "output_type": "execute_result",
          "data": {
            "text/plain": [
              "array([[0.6351925 , 0.0395462 , 0.7615884 ],\n",
              "       [0.66342731, 0.61650664, 0.34412386]])"
            ]
          },
          "metadata": {
            "tags": []
          },
          "execution_count": 32
        }
      ]
    },
    {
      "cell_type": "code",
      "metadata": {
        "id": "LEDDZw8hOOaO",
        "outputId": "71398edf-0f35-4ad1-eb2c-364eccdd8cad"
      },
      "source": [
        "np.random.randn()"
      ],
      "execution_count": null,
      "outputs": [
        {
          "output_type": "execute_result",
          "data": {
            "text/plain": [
              "-0.5107189512838626"
            ]
          },
          "metadata": {
            "tags": []
          },
          "execution_count": 33
        }
      ]
    },
    {
      "cell_type": "code",
      "metadata": {
        "id": "Hng7DDcCOOaQ",
        "outputId": "112e625b-623b-4ef6-9c9f-1332cc5d990b"
      },
      "source": [
        "np.random.randint(100) # any one value which is < 100 "
      ],
      "execution_count": null,
      "outputs": [
        {
          "output_type": "execute_result",
          "data": {
            "text/plain": [
              "51"
            ]
          },
          "metadata": {
            "tags": []
          },
          "execution_count": 33
        }
      ]
    },
    {
      "cell_type": "code",
      "metadata": {
        "id": "FVTDSylSOOaT",
        "outputId": "29afa3aa-8cfd-4ab8-db50-cf65d696eba7"
      },
      "source": [
        "np.random.randint(150, size=(2, 4))"
      ],
      "execution_count": null,
      "outputs": [
        {
          "output_type": "execute_result",
          "data": {
            "text/plain": [
              "array([[ 49,  95,  43, 127],\n",
              "       [145, 122,   9,  92]])"
            ]
          },
          "metadata": {
            "tags": []
          },
          "execution_count": 34
        }
      ]
    },
    {
      "cell_type": "code",
      "metadata": {
        "id": "_ndYr2vmOOaW",
        "outputId": "4f95aa63-22b0-4036-8954-4392bb8ed8cd"
      },
      "source": [
        "np.random.randn(2, 10)"
      ],
      "execution_count": null,
      "outputs": [
        {
          "output_type": "execute_result",
          "data": {
            "text/plain": [
              "array([[ 0.23729902,  0.60853326, -0.13880599,  1.33321309, -1.39090283,\n",
              "         0.49175239, -0.42826326,  1.63563417, -1.1047834 ,  0.06752515],\n",
              "       [-0.02486655,  0.39164238, -1.30033578, -0.82689281, -1.44816779,\n",
              "        -0.5612042 ,  0.59355662, -1.84480234, -0.9757103 ,  0.53236089]])"
            ]
          },
          "metadata": {
            "tags": []
          },
          "execution_count": 36
        }
      ]
    },
    {
      "cell_type": "code",
      "metadata": {
        "id": "MjhCjnWWOOaY",
        "outputId": "12c9aa0e-edb6-4837-f349-a12137d1cdaf"
      },
      "source": [
        "np.random.randn(1)"
      ],
      "execution_count": null,
      "outputs": [
        {
          "output_type": "execute_result",
          "data": {
            "text/plain": [
              "array([-1.98694079])"
            ]
          },
          "metadata": {
            "tags": []
          },
          "execution_count": 37
        }
      ]
    },
    {
      "cell_type": "code",
      "metadata": {
        "id": "wSqE-VRJOOac",
        "outputId": "ef0ea9fc-fc78-4ecb-b3ae-3f83cb7bdfa2"
      },
      "source": [
        "np.random.rand()"
      ],
      "execution_count": null,
      "outputs": [
        {
          "output_type": "execute_result",
          "data": {
            "text/plain": [
              "0.9971488123657978"
            ]
          },
          "metadata": {
            "tags": []
          },
          "execution_count": 38
        }
      ]
    },
    {
      "cell_type": "markdown",
      "metadata": {
        "id": "dmARVN0QOOag"
      },
      "source": [
        "- To create sequences of numbers, NumPy provides a function analogous to range that returns arrays instead of lists.\n",
        "   - **arange:** returns evenly spaced values within a given interval. **step** size is specified.\n",
        "   - **linspace:** returns evenly spaced values within a given interval. **num** no. of elements are returned."
      ]
    },
    {
      "cell_type": "code",
      "metadata": {
        "id": "RDBJCdPMOOag",
        "outputId": "f2d39dd9-7a0e-4f2e-f5a6-73e686f1229a"
      },
      "source": [
        "range(1,10)"
      ],
      "execution_count": null,
      "outputs": [
        {
          "output_type": "execute_result",
          "data": {
            "text/plain": [
              "range(1, 10)"
            ]
          },
          "metadata": {
            "tags": []
          },
          "execution_count": 35
        }
      ]
    },
    {
      "cell_type": "code",
      "metadata": {
        "id": "70xbh1lVOOaj",
        "outputId": "75b000fe-d2fa-4248-84e3-aef1a087ce3a"
      },
      "source": [
        "list(range(1,10))"
      ],
      "execution_count": null,
      "outputs": [
        {
          "output_type": "execute_result",
          "data": {
            "text/plain": [
              "[1, 2, 3, 4, 5, 6, 7, 8, 9]"
            ]
          },
          "metadata": {
            "tags": []
          },
          "execution_count": 36
        }
      ]
    },
    {
      "cell_type": "code",
      "metadata": {
        "id": "UPJ20gC-OOan",
        "outputId": "badae983-2225-4890-95a9-1d5c63b1fbda"
      },
      "source": [
        "list(range(1,10,3))"
      ],
      "execution_count": null,
      "outputs": [
        {
          "output_type": "execute_result",
          "data": {
            "text/plain": [
              "[1, 4, 7]"
            ]
          },
          "metadata": {
            "tags": []
          },
          "execution_count": 37
        }
      ]
    },
    {
      "cell_type": "code",
      "metadata": {
        "id": "Q7IG9ifKOOaq",
        "outputId": "a713bee7-c983-493c-d971-2d4b2e25a4b0"
      },
      "source": [
        "list(range(1,10,0.5))"
      ],
      "execution_count": null,
      "outputs": [
        {
          "output_type": "error",
          "ename": "TypeError",
          "evalue": "'float' object cannot be interpreted as an integer",
          "traceback": [
            "\u001b[1;31m---------------------------------------------------------------------------\u001b[0m",
            "\u001b[1;31mTypeError\u001b[0m                                 Traceback (most recent call last)",
            "\u001b[1;32m<ipython-input-38-f1f7eabb3ef9>\u001b[0m in \u001b[0;36m<module>\u001b[1;34m\u001b[0m\n\u001b[1;32m----> 1\u001b[1;33m \u001b[0mlist\u001b[0m\u001b[1;33m(\u001b[0m\u001b[0mrange\u001b[0m\u001b[1;33m(\u001b[0m\u001b[1;36m1\u001b[0m\u001b[1;33m,\u001b[0m\u001b[1;36m10\u001b[0m\u001b[1;33m,\u001b[0m\u001b[1;36m0.5\u001b[0m\u001b[1;33m)\u001b[0m\u001b[1;33m)\u001b[0m\u001b[1;33m\u001b[0m\u001b[1;33m\u001b[0m\u001b[0m\n\u001b[0m",
            "\u001b[1;31mTypeError\u001b[0m: 'float' object cannot be interpreted as an integer"
          ]
        }
      ]
    },
    {
      "cell_type": "code",
      "metadata": {
        "id": "COoSiKGwOOas",
        "outputId": "e8b58d14-3298-46d7-c7d4-336af266737f"
      },
      "source": [
        "list(range(10))"
      ],
      "execution_count": null,
      "outputs": [
        {
          "output_type": "execute_result",
          "data": {
            "text/plain": [
              "[0, 1, 2, 3, 4, 5, 6, 7, 8, 9]"
            ]
          },
          "metadata": {
            "tags": []
          },
          "execution_count": 39
        }
      ]
    },
    {
      "cell_type": "code",
      "metadata": {
        "id": "O1PJ8EISOOau",
        "outputId": "e9fe5a1b-67ba-4f60-8814-8b137f1da5c2"
      },
      "source": [
        "np.arange(10)"
      ],
      "execution_count": null,
      "outputs": [
        {
          "output_type": "execute_result",
          "data": {
            "text/plain": [
              "array([0, 1, 2, 3, 4, 5, 6, 7, 8, 9])"
            ]
          },
          "metadata": {
            "tags": []
          },
          "execution_count": 40
        }
      ]
    },
    {
      "cell_type": "code",
      "metadata": {
        "id": "GZuFdZA_OOax",
        "outputId": "ebe84959-9cd5-4463-baa3-9d85b8b19272"
      },
      "source": [
        "np.arange(1,10,0.5)"
      ],
      "execution_count": null,
      "outputs": [
        {
          "output_type": "execute_result",
          "data": {
            "text/plain": [
              "array([1. , 1.5, 2. , 2.5, 3. , 3.5, 4. , 4.5, 5. , 5.5, 6. , 6.5, 7. ,\n",
              "       7.5, 8. , 8.5, 9. , 9.5])"
            ]
          },
          "metadata": {
            "tags": []
          },
          "execution_count": 41
        }
      ]
    },
    {
      "cell_type": "code",
      "metadata": {
        "id": "HPDuRd0EOOaz",
        "outputId": "04cfd662-b95f-4bb8-fddc-a60a95217cf4"
      },
      "source": [
        "np.arange(1,10,2.55)"
      ],
      "execution_count": null,
      "outputs": [
        {
          "output_type": "execute_result",
          "data": {
            "text/plain": [
              "array([1.  , 3.55, 6.1 , 8.65])"
            ]
          },
          "metadata": {
            "tags": []
          },
          "execution_count": 42
        }
      ]
    },
    {
      "cell_type": "code",
      "metadata": {
        "id": "Zb13ZSM0OOa1",
        "outputId": "7e73bec6-3803-4bc1-9edc-eeacc5df3ce7"
      },
      "source": [
        "np.linspace(5,10,25) # 20 values"
      ],
      "execution_count": null,
      "outputs": [
        {
          "output_type": "execute_result",
          "data": {
            "text/plain": [
              "array([ 5.        ,  5.20833333,  5.41666667,  5.625     ,  5.83333333,\n",
              "        6.04166667,  6.25      ,  6.45833333,  6.66666667,  6.875     ,\n",
              "        7.08333333,  7.29166667,  7.5       ,  7.70833333,  7.91666667,\n",
              "        8.125     ,  8.33333333,  8.54166667,  8.75      ,  8.95833333,\n",
              "        9.16666667,  9.375     ,  9.58333333,  9.79166667, 10.        ])"
            ]
          },
          "metadata": {
            "tags": []
          },
          "execution_count": 44
        }
      ]
    },
    {
      "cell_type": "markdown",
      "metadata": {
        "id": "-8kEFyawOOa4"
      },
      "source": [
        "# Array Reshaping\n",
        "---\n",
        "We can use **reshape** method to reshape an array. Consider an array with shape (a1, a2, a3, ..., aN). We can reshape and convert it into another array with shape (b1, b2, b3, ....., bM). The only required condition is:   \n",
        "\n",
        "*a1 x a2 x a3* .... *x aN = b1 x b2 x b3* .... *x bM*\n",
        "\n",
        "(i.e original size of array remains unchanged.)"
      ]
    },
    {
      "cell_type": "code",
      "metadata": {
        "id": "W4PKZJsDOOa4"
      },
      "source": [
        "arr = np.array([[1,2,3,4,5,6,7,8]])"
      ],
      "execution_count": null,
      "outputs": []
    },
    {
      "cell_type": "code",
      "metadata": {
        "id": "jolqjOnuOOa9",
        "outputId": "8bf11eb5-fd89-4a72-dd29-42b095a1f15e"
      },
      "source": [
        "arr.shape"
      ],
      "execution_count": null,
      "outputs": [
        {
          "output_type": "execute_result",
          "data": {
            "text/plain": [
              "(1, 8)"
            ]
          },
          "metadata": {
            "tags": []
          },
          "execution_count": 44
        }
      ]
    },
    {
      "cell_type": "code",
      "metadata": {
        "id": "wD1M6zbJOObA",
        "outputId": "fb7682ee-4a40-4a86-bbd5-e1f406873977"
      },
      "source": [
        "arr.ndim"
      ],
      "execution_count": null,
      "outputs": [
        {
          "output_type": "execute_result",
          "data": {
            "text/plain": [
              "2"
            ]
          },
          "metadata": {
            "tags": []
          },
          "execution_count": 45
        }
      ]
    },
    {
      "cell_type": "code",
      "metadata": {
        "id": "e-cQDMBdOObC",
        "outputId": "d482e8ea-9277-4330-9e53-31eae0867d37"
      },
      "source": [
        "arr"
      ],
      "execution_count": null,
      "outputs": [
        {
          "output_type": "execute_result",
          "data": {
            "text/plain": [
              "array([[1, 2, 3, 4, 5, 6, 7, 8]])"
            ]
          },
          "metadata": {
            "tags": []
          },
          "execution_count": 48
        }
      ]
    },
    {
      "cell_type": "code",
      "metadata": {
        "id": "xOmTd0-MOObF",
        "outputId": "5038eecf-a0b9-431e-e16d-5059a9fc619c"
      },
      "source": [
        "arr.reshape((2,4))"
      ],
      "execution_count": null,
      "outputs": [
        {
          "output_type": "execute_result",
          "data": {
            "text/plain": [
              "array([[1, 2, 3, 4],\n",
              "       [5, 6, 7, 8]])"
            ]
          },
          "metadata": {
            "tags": []
          },
          "execution_count": 46
        }
      ]
    },
    {
      "cell_type": "code",
      "metadata": {
        "id": "-LTZ8kxLOObH",
        "outputId": "3b41441c-bb7e-4bb8-b12d-0ed52a16404d"
      },
      "source": [
        "arr.reshape((4,2))"
      ],
      "execution_count": null,
      "outputs": [
        {
          "output_type": "execute_result",
          "data": {
            "text/plain": [
              "array([[1, 2],\n",
              "       [3, 4],\n",
              "       [5, 6],\n",
              "       [7, 8]])"
            ]
          },
          "metadata": {
            "tags": []
          },
          "execution_count": 47
        }
      ]
    },
    {
      "cell_type": "code",
      "metadata": {
        "id": "K6-atIXbOObM",
        "outputId": "1181547d-899c-4fa1-c8bc-07fa4fd39b45"
      },
      "source": [
        "arr.reshape((3,3))"
      ],
      "execution_count": null,
      "outputs": [
        {
          "output_type": "error",
          "ename": "ValueError",
          "evalue": "cannot reshape array of size 8 into shape (3,3)",
          "traceback": [
            "\u001b[1;31m---------------------------------------------------------------------------\u001b[0m",
            "\u001b[1;31mValueError\u001b[0m                                Traceback (most recent call last)",
            "\u001b[1;32m<ipython-input-51-8192d7cb9e4d>\u001b[0m in \u001b[0;36m<module>\u001b[1;34m\u001b[0m\n\u001b[1;32m----> 1\u001b[1;33m \u001b[0marr\u001b[0m\u001b[1;33m.\u001b[0m\u001b[0mreshape\u001b[0m\u001b[1;33m(\u001b[0m\u001b[1;33m(\u001b[0m\u001b[1;36m3\u001b[0m\u001b[1;33m,\u001b[0m\u001b[1;36m3\u001b[0m\u001b[1;33m)\u001b[0m\u001b[1;33m)\u001b[0m\u001b[1;33m\u001b[0m\u001b[1;33m\u001b[0m\u001b[0m\n\u001b[0m",
            "\u001b[1;31mValueError\u001b[0m: cannot reshape array of size 8 into shape (3,3)"
          ]
        }
      ]
    },
    {
      "cell_type": "markdown",
      "metadata": {
        "id": "4vzP_2PPOObO"
      },
      "source": [
        "![](https://i.imgur.com/pwkcvrD.png)"
      ]
    },
    {
      "cell_type": "code",
      "metadata": {
        "id": "rp9gnEOsOObP",
        "outputId": "202505a5-9888-4855-f837-9d2cb37ebd40"
      },
      "source": [
        "arr.reshape((4,2))"
      ],
      "execution_count": null,
      "outputs": [
        {
          "output_type": "execute_result",
          "data": {
            "text/plain": [
              "array([[1, 2],\n",
              "       [3, 4],\n",
              "       [5, 6],\n",
              "       [7, 8]])"
            ]
          },
          "metadata": {
            "tags": []
          },
          "execution_count": 48
        }
      ]
    },
    {
      "cell_type": "code",
      "metadata": {
        "id": "LLsFzVMCOObR",
        "outputId": "995d0409-e87f-4baa-9767-1c25b58ac47e"
      },
      "source": [
        "arr.reshape((4,2), order='C')"
      ],
      "execution_count": null,
      "outputs": [
        {
          "output_type": "execute_result",
          "data": {
            "text/plain": [
              "array([[1, 2],\n",
              "       [3, 4],\n",
              "       [5, 6],\n",
              "       [7, 8]])"
            ]
          },
          "metadata": {
            "tags": []
          },
          "execution_count": 49
        }
      ]
    },
    {
      "cell_type": "code",
      "metadata": {
        "id": "9PwAM7AGOObU",
        "outputId": "f1cb6ae3-f42c-4d3d-8619-80223c7d4b7a"
      },
      "source": [
        "arr"
      ],
      "execution_count": null,
      "outputs": [
        {
          "output_type": "execute_result",
          "data": {
            "text/plain": [
              "array([[1, 2, 3, 4, 5, 6, 7, 8]])"
            ]
          },
          "metadata": {
            "tags": []
          },
          "execution_count": 50
        }
      ]
    },
    {
      "cell_type": "code",
      "metadata": {
        "id": "GiCBXGp-OObW",
        "outputId": "a4f40d7d-61f3-4e48-f297-71f116d40030"
      },
      "source": [
        "arr.reshape((4,2))"
      ],
      "execution_count": null,
      "outputs": [
        {
          "output_type": "execute_result",
          "data": {
            "text/plain": [
              "array([[1, 2],\n",
              "       [3, 4],\n",
              "       [5, 6],\n",
              "       [7, 8]])"
            ]
          },
          "metadata": {
            "tags": []
          },
          "execution_count": 51
        }
      ]
    },
    {
      "cell_type": "code",
      "metadata": {
        "id": "3XfBVwqxOOba",
        "outputId": "9e9cff5b-57b2-41ff-e7b0-5b304cf2360f"
      },
      "source": [
        "arr.reshape((4,2), order='F')"
      ],
      "execution_count": null,
      "outputs": [
        {
          "output_type": "execute_result",
          "data": {
            "text/plain": [
              "array([[1, 5],\n",
              "       [2, 6],\n",
              "       [3, 7],\n",
              "       [4, 8]])"
            ]
          },
          "metadata": {
            "tags": []
          },
          "execution_count": 56
        }
      ]
    },
    {
      "cell_type": "code",
      "metadata": {
        "id": "fDI4UNhmOObd",
        "outputId": "a1f439e5-0ac7-4e75-9db6-360b63d967ba"
      },
      "source": [
        "arr.reshape((2,4), order='F')"
      ],
      "execution_count": null,
      "outputs": [
        {
          "output_type": "execute_result",
          "data": {
            "text/plain": [
              "array([[1, 3, 5, 7],\n",
              "       [2, 4, 6, 8]])"
            ]
          },
          "metadata": {
            "tags": []
          },
          "execution_count": 52
        }
      ]
    },
    {
      "cell_type": "code",
      "metadata": {
        "id": "e0AHjgc4OObf",
        "outputId": "46eb4eb2-0204-4f0b-9ea6-a81b3ccb8124"
      },
      "source": [
        "arr.reshape((2,4))"
      ],
      "execution_count": null,
      "outputs": [
        {
          "output_type": "execute_result",
          "data": {
            "text/plain": [
              "array([[1, 2, 3, 4],\n",
              "       [5, 6, 7, 8]])"
            ]
          },
          "metadata": {
            "tags": []
          },
          "execution_count": 62
        }
      ]
    },
    {
      "cell_type": "markdown",
      "metadata": {
        "id": "R-uLFd7kOObh"
      },
      "source": [
        "# Array Flattening\n",
        "---\n",
        "We can use **flatten** method to get a copy of array collapsed into **one dimension**. It accepts *order* argument. Default value is 'C' (for row-major order). Use 'F' for column major order."
      ]
    },
    {
      "cell_type": "code",
      "metadata": {
        "id": "DJ6AeF8YOObh"
      },
      "source": [
        "# faltten ---> mean, median, mode, sum, max, min"
      ],
      "execution_count": null,
      "outputs": []
    },
    {
      "cell_type": "code",
      "metadata": {
        "id": "s2EeJUJ7OObj"
      },
      "source": [
        "arr = np.array([[1, 2, 3], \n",
        "                [4, 5, 6]])"
      ],
      "execution_count": null,
      "outputs": []
    },
    {
      "cell_type": "code",
      "metadata": {
        "id": "5H1mjVAmOObl",
        "outputId": "ed5095fe-585b-499a-add4-bcae17812e88"
      },
      "source": [
        "arr"
      ],
      "execution_count": null,
      "outputs": [
        {
          "output_type": "execute_result",
          "data": {
            "text/plain": [
              "array([[1, 2, 3],\n",
              "       [4, 5, 6]])"
            ]
          },
          "metadata": {
            "tags": []
          },
          "execution_count": 54
        }
      ]
    },
    {
      "cell_type": "code",
      "metadata": {
        "id": "ZZRsj7RrOObm",
        "outputId": "f14ff170-d8b5-45fc-816e-221df88445f7"
      },
      "source": [
        "arr.flatten()"
      ],
      "execution_count": null,
      "outputs": [
        {
          "output_type": "execute_result",
          "data": {
            "text/plain": [
              "array([1, 2, 3, 4, 5, 6])"
            ]
          },
          "metadata": {
            "tags": []
          },
          "execution_count": 55
        }
      ]
    },
    {
      "cell_type": "code",
      "metadata": {
        "id": "V5Q6mX2VOObo",
        "outputId": "af0af0f6-0e19-4a47-f25e-7146f8b2e3b0"
      },
      "source": [
        "arr.sum()"
      ],
      "execution_count": null,
      "outputs": [
        {
          "output_type": "execute_result",
          "data": {
            "text/plain": [
              "21"
            ]
          },
          "metadata": {
            "tags": []
          },
          "execution_count": 56
        }
      ]
    },
    {
      "cell_type": "code",
      "metadata": {
        "id": "YNo8ZOS3OObs",
        "outputId": "08757b84-261d-4a6e-e39b-b4dd9764caca"
      },
      "source": [
        "arr.flatten().sum()"
      ],
      "execution_count": null,
      "outputs": [
        {
          "output_type": "execute_result",
          "data": {
            "text/plain": [
              "21"
            ]
          },
          "metadata": {
            "tags": []
          },
          "execution_count": 57
        }
      ]
    },
    {
      "cell_type": "code",
      "metadata": {
        "id": "OL8fWGV6OObt",
        "outputId": "41956cce-c8b4-45a3-8d9c-7449c5c35dc1"
      },
      "source": [
        "arr.flatten()"
      ],
      "execution_count": null,
      "outputs": [
        {
          "output_type": "execute_result",
          "data": {
            "text/plain": [
              "array([1, 2, 3, 4, 5, 6])"
            ]
          },
          "metadata": {
            "tags": []
          },
          "execution_count": 58
        }
      ]
    },
    {
      "cell_type": "code",
      "metadata": {
        "id": "Zfv5Oe6cOObv",
        "outputId": "517ade33-8dd9-42d2-9b04-513e857cb8ce"
      },
      "source": [
        "arr.ravel()"
      ],
      "execution_count": null,
      "outputs": [
        {
          "output_type": "execute_result",
          "data": {
            "text/plain": [
              "array([1, 2, 3, 4, 5, 6])"
            ]
          },
          "metadata": {
            "tags": []
          },
          "execution_count": 59
        }
      ]
    },
    {
      "cell_type": "code",
      "metadata": {
        "id": "O1hjCiKGOObx",
        "outputId": "57e34b4b-f316-40df-d945-4c8db9ea61f4"
      },
      "source": [
        "arr.flatten().mean()"
      ],
      "execution_count": null,
      "outputs": [
        {
          "output_type": "execute_result",
          "data": {
            "text/plain": [
              "3.5"
            ]
          },
          "metadata": {
            "tags": []
          },
          "execution_count": 60
        }
      ]
    },
    {
      "cell_type": "code",
      "metadata": {
        "id": "pXTJPD-tOOby",
        "outputId": "945cb36e-b53d-43fe-a8f5-7df18c5e1e62"
      },
      "source": [
        "arr.ravel().mean()"
      ],
      "execution_count": null,
      "outputs": [
        {
          "output_type": "execute_result",
          "data": {
            "text/plain": [
              "3.5"
            ]
          },
          "metadata": {
            "tags": []
          },
          "execution_count": 61
        }
      ]
    },
    {
      "cell_type": "markdown",
      "metadata": {
        "id": "WxEVfAE2OOb0"
      },
      "source": [
        "# Array Indexing\n",
        "---\n",
        "Knowing the basics of array indexing is important for analysing and manipulating the array object.\n",
        "NumPy offers many ways to do array indexing.\n",
        "\n",
        "- **Positive tuple indexing**\n"
      ]
    },
    {
      "cell_type": "code",
      "metadata": {
        "id": "4J7yd4xtOOb0"
      },
      "source": [
        "import numpy as np"
      ],
      "execution_count": null,
      "outputs": []
    },
    {
      "cell_type": "code",
      "metadata": {
        "id": "f5iY66_bOOb2"
      },
      "source": [
        "arr = np.array([[-1, 2, 0, 4],\n",
        "                [4, -0.5, 6, 0],\n",
        "                [2.6, 0, 7, 8],\n",
        "                [3, -7, 4, 2.0]])"
      ],
      "execution_count": null,
      "outputs": []
    },
    {
      "cell_type": "code",
      "metadata": {
        "id": "pLRnldxAOOb4"
      },
      "source": [
        "list_ = [[-1, 2, 0, 4],\n",
        "                [4, -0.5, 6, 0],\n",
        "                [2.6, 0, 7, 8],\n",
        "                [3, -7, 4, 2.0]]"
      ],
      "execution_count": null,
      "outputs": []
    },
    {
      "cell_type": "code",
      "metadata": {
        "id": "sYDG2Aq1OOb6",
        "outputId": "ab635f70-519d-40aa-81df-0e04d2aaafd5"
      },
      "source": [
        "list_[2][1]"
      ],
      "execution_count": null,
      "outputs": [
        {
          "output_type": "execute_result",
          "data": {
            "text/plain": [
              "0"
            ]
          },
          "metadata": {
            "tags": []
          },
          "execution_count": 65
        }
      ]
    },
    {
      "cell_type": "code",
      "metadata": {
        "id": "TrtdLHkROOb7",
        "outputId": "111a234f-7443-4d30-ec93-44072de7f5e2"
      },
      "source": [
        "list_[2,1]"
      ],
      "execution_count": null,
      "outputs": [
        {
          "output_type": "error",
          "ename": "TypeError",
          "evalue": "list indices must be integers or slices, not tuple",
          "traceback": [
            "\u001b[1;31m---------------------------------------------------------------------------\u001b[0m",
            "\u001b[1;31mTypeError\u001b[0m                                 Traceback (most recent call last)",
            "\u001b[1;32m<ipython-input-66-185c3849bc2a>\u001b[0m in \u001b[0;36m<module>\u001b[1;34m\u001b[0m\n\u001b[1;32m----> 1\u001b[1;33m \u001b[0mlist_\u001b[0m\u001b[1;33m[\u001b[0m\u001b[1;36m2\u001b[0m\u001b[1;33m,\u001b[0m\u001b[1;36m1\u001b[0m\u001b[1;33m]\u001b[0m\u001b[1;33m\u001b[0m\u001b[1;33m\u001b[0m\u001b[0m\n\u001b[0m",
            "\u001b[1;31mTypeError\u001b[0m: list indices must be integers or slices, not tuple"
          ]
        }
      ]
    },
    {
      "cell_type": "code",
      "metadata": {
        "id": "x-BuY3zzOOb9",
        "outputId": "35311c31-c532-4873-ff53-d8b0d27b55d8"
      },
      "source": [
        "arr"
      ],
      "execution_count": null,
      "outputs": [
        {
          "output_type": "execute_result",
          "data": {
            "text/plain": [
              "array([[-1. ,  2. ,  0. ,  4. ],\n",
              "       [ 4. , -0.5,  6. ,  0. ],\n",
              "       [ 2.6,  0. ,  7. ,  8. ],\n",
              "       [ 3. , -7. ,  4. ,  2. ]])"
            ]
          },
          "metadata": {
            "tags": []
          },
          "execution_count": 67
        }
      ]
    },
    {
      "cell_type": "code",
      "metadata": {
        "id": "xdZoTINNOOb-",
        "outputId": "742c0bfe-a008-4faa-d0c4-71cd8cb91546"
      },
      "source": [
        "arr[2][1]"
      ],
      "execution_count": null,
      "outputs": [
        {
          "output_type": "execute_result",
          "data": {
            "text/plain": [
              "0.0"
            ]
          },
          "metadata": {
            "tags": []
          },
          "execution_count": 68
        }
      ]
    },
    {
      "cell_type": "code",
      "metadata": {
        "id": "Z8ZE8Db8OOcA",
        "outputId": "4ea1133f-21a5-4c9d-9d75-8103c64a2b30"
      },
      "source": [
        "arr[2,1]"
      ],
      "execution_count": null,
      "outputs": [
        {
          "output_type": "execute_result",
          "data": {
            "text/plain": [
              "0.0"
            ]
          },
          "metadata": {
            "tags": []
          },
          "execution_count": 69
        }
      ]
    },
    {
      "cell_type": "code",
      "metadata": {
        "id": "Uj4YItqEOOcD",
        "outputId": "d924bbeb-c061-47f7-8b5a-c36663c9a992"
      },
      "source": [
        "arr.shape"
      ],
      "execution_count": null,
      "outputs": [
        {
          "output_type": "execute_result",
          "data": {
            "text/plain": [
              "(4, 4)"
            ]
          },
          "metadata": {
            "tags": []
          },
          "execution_count": 70
        }
      ]
    },
    {
      "cell_type": "code",
      "metadata": {
        "id": "xIV4fgWDOOcH",
        "outputId": "2e9de16a-332a-43e4-a3e0-24464faf53d2"
      },
      "source": [
        "arr"
      ],
      "execution_count": null,
      "outputs": [
        {
          "output_type": "execute_result",
          "data": {
            "text/plain": [
              "array([[-1. ,  2. ,  0. ,  4. ],\n",
              "       [ 4. , -0.5,  6. ,  0. ],\n",
              "       [ 2.6,  0. ,  7. ,  8. ],\n",
              "       [ 3. , -7. ,  4. ,  2. ]])"
            ]
          },
          "metadata": {
            "tags": []
          },
          "execution_count": 71
        }
      ]
    },
    {
      "cell_type": "code",
      "metadata": {
        "id": "VT4E91zQOOcI",
        "outputId": "71c4f923-67e1-42bc-ae4a-e1fa0a65e02c"
      },
      "source": [
        "arr[3,4]"
      ],
      "execution_count": null,
      "outputs": [
        {
          "output_type": "error",
          "ename": "IndexError",
          "evalue": "index 4 is out of bounds for axis 1 with size 4",
          "traceback": [
            "\u001b[1;31m---------------------------------------------------------------------------\u001b[0m",
            "\u001b[1;31mIndexError\u001b[0m                                Traceback (most recent call last)",
            "\u001b[1;32m<ipython-input-72-0fcf5eb2ed22>\u001b[0m in \u001b[0;36m<module>\u001b[1;34m\u001b[0m\n\u001b[1;32m----> 1\u001b[1;33m \u001b[0marr\u001b[0m\u001b[1;33m[\u001b[0m\u001b[1;36m3\u001b[0m\u001b[1;33m,\u001b[0m\u001b[1;36m4\u001b[0m\u001b[1;33m]\u001b[0m\u001b[1;33m\u001b[0m\u001b[1;33m\u001b[0m\u001b[0m\n\u001b[0m",
            "\u001b[1;31mIndexError\u001b[0m: index 4 is out of bounds for axis 1 with size 4"
          ]
        }
      ]
    },
    {
      "cell_type": "code",
      "metadata": {
        "id": "KSBwRmGfOOcJ",
        "outputId": "11460774-23b0-4940-8e1b-04e5d9d535fd"
      },
      "source": [
        "arr[2][1]"
      ],
      "execution_count": null,
      "outputs": [
        {
          "output_type": "execute_result",
          "data": {
            "text/plain": [
              "0.0"
            ]
          },
          "metadata": {
            "tags": []
          },
          "execution_count": 73
        }
      ]
    },
    {
      "cell_type": "markdown",
      "metadata": {
        "id": "Th7HFc30OOcL"
      },
      "source": [
        "![](https://i.imgur.com/fzoXLq1.png)"
      ]
    },
    {
      "cell_type": "markdown",
      "metadata": {
        "id": "1W2S5dYtOOcL"
      },
      "source": [
        "- **Slicing:** Just like lists in python, NumPy arrays can be sliced. As arrays can be multidimensional, you need to specify a slice for each dimension of the array."
      ]
    },
    {
      "cell_type": "code",
      "metadata": {
        "id": "WKlkCxWkOOcM",
        "outputId": "2eaed0e3-7c3c-4512-b522-6faf59a1dcc6"
      },
      "source": [
        "arr"
      ],
      "execution_count": null,
      "outputs": [
        {
          "output_type": "execute_result",
          "data": {
            "text/plain": [
              "array([[-1. ,  2. ,  0. ,  4. ],\n",
              "       [ 4. , -0.5,  6. ,  0. ],\n",
              "       [ 2.6,  0. ,  7. ,  8. ],\n",
              "       [ 3. , -7. ,  4. ,  2. ]])"
            ]
          },
          "metadata": {
            "tags": []
          },
          "execution_count": 74
        }
      ]
    },
    {
      "cell_type": "code",
      "metadata": {
        "id": "wLRyUTymOOcN",
        "outputId": "fb4b938e-c495-4c54-d62b-21fd9a1d069a"
      },
      "source": [
        "arr[:2,:2]"
      ],
      "execution_count": null,
      "outputs": [
        {
          "output_type": "execute_result",
          "data": {
            "text/plain": [
              "array([[-1. ,  2. ],\n",
              "       [ 4. , -0.5]])"
            ]
          },
          "metadata": {
            "tags": []
          },
          "execution_count": 76
        }
      ]
    },
    {
      "cell_type": "code",
      "metadata": {
        "id": "WTMSGpAuOOcO",
        "outputId": "816a08dd-bde7-4bb5-917a-7e076147caec"
      },
      "source": [
        "arr"
      ],
      "execution_count": null,
      "outputs": [
        {
          "output_type": "execute_result",
          "data": {
            "text/plain": [
              "array([[-1. ,  2. ,  0. ,  4. ],\n",
              "       [ 4. , -0.5,  6. ,  0. ],\n",
              "       [ 2.6,  0. ,  7. ,  8. ],\n",
              "       [ 3. , -7. ,  4. ,  2. ]])"
            ]
          },
          "metadata": {
            "tags": []
          },
          "execution_count": 75
        }
      ]
    },
    {
      "cell_type": "code",
      "metadata": {
        "id": "czu7vGGoOOcP",
        "outputId": "9a5e100d-2b6c-486e-80aa-eca36441104a"
      },
      "source": [
        "arr[:,:2]"
      ],
      "execution_count": null,
      "outputs": [
        {
          "output_type": "execute_result",
          "data": {
            "text/plain": [
              "array([[-1. ,  2. ],\n",
              "       [ 4. , -0.5],\n",
              "       [ 2.6,  0. ],\n",
              "       [ 3. , -7. ]])"
            ]
          },
          "metadata": {
            "tags": []
          },
          "execution_count": 54
        }
      ]
    },
    {
      "cell_type": "code",
      "metadata": {
        "id": "F7JtlAhsOOcQ",
        "outputId": "3e20f8a2-468a-4fd1-acd4-fa09aa3f5ab6"
      },
      "source": [
        "arr"
      ],
      "execution_count": null,
      "outputs": [
        {
          "output_type": "execute_result",
          "data": {
            "text/plain": [
              "array([[-1. ,  2. ,  0. ,  4. ],\n",
              "       [ 4. , -0.5,  6. ,  0. ],\n",
              "       [ 2.6,  0. ,  7. ,  8. ],\n",
              "       [ 3. , -7. ,  4. ,  2. ]])"
            ]
          },
          "metadata": {
            "tags": []
          },
          "execution_count": 76
        }
      ]
    },
    {
      "cell_type": "code",
      "metadata": {
        "id": "9iTaUABrOOcS",
        "outputId": "f06606a2-f71f-4507-9d4e-213fbc268cfd"
      },
      "source": [
        "arr[2:,0:2]"
      ],
      "execution_count": null,
      "outputs": [
        {
          "output_type": "execute_result",
          "data": {
            "text/plain": [
              "array([[ 2.6,  0. ],\n",
              "       [ 3. , -7. ]])"
            ]
          },
          "metadata": {
            "tags": []
          },
          "execution_count": 77
        }
      ]
    },
    {
      "cell_type": "code",
      "metadata": {
        "id": "GufMIdkmOOcV",
        "outputId": "a40466f0-d96f-4d2e-d818-2d7792f2f9cb"
      },
      "source": [
        "arr[2:,2:]"
      ],
      "execution_count": null,
      "outputs": [
        {
          "output_type": "execute_result",
          "data": {
            "text/plain": [
              "array([[7., 8.],\n",
              "       [4., 2.]])"
            ]
          },
          "metadata": {
            "tags": []
          },
          "execution_count": 78
        }
      ]
    },
    {
      "cell_type": "code",
      "metadata": {
        "id": "KzMK7TjXOOcW",
        "outputId": "efb55924-11e0-435c-f77e-d88dd4ec1cb2"
      },
      "source": [
        "arr[2:, 3:]"
      ],
      "execution_count": null,
      "outputs": [
        {
          "output_type": "execute_result",
          "data": {
            "text/plain": [
              "array([[8.],\n",
              "       [2.]])"
            ]
          },
          "metadata": {
            "tags": []
          },
          "execution_count": 79
        }
      ]
    },
    {
      "cell_type": "markdown",
      "metadata": {
        "id": "aFCOe8HnOOcX"
      },
      "source": [
        "![](https://i.imgur.com/Tr6SAwv.png)"
      ]
    },
    {
      "cell_type": "markdown",
      "metadata": {
        "id": "OB20dD3eOOcX"
      },
      "source": [
        "- **Integer array indexing:** In this method, lists are passed for indexing for each dimension. One to one mapping of corresponding elements is done to construct a new arbitrary array."
      ]
    },
    {
      "cell_type": "code",
      "metadata": {
        "id": "Wxx4a9U5OOcX",
        "outputId": "4ec4fd1f-6c65-485c-a486-a8be771f5c08"
      },
      "source": [
        "arr[0,0]"
      ],
      "execution_count": null,
      "outputs": [
        {
          "output_type": "execute_result",
          "data": {
            "text/plain": [
              "-1.0"
            ]
          },
          "metadata": {
            "tags": []
          },
          "execution_count": 80
        }
      ]
    },
    {
      "cell_type": "code",
      "metadata": {
        "id": "ybLk6NKBOOcZ",
        "outputId": "dddf4ea3-ad0c-455e-a6f6-5298b6c9c998"
      },
      "source": [
        "arr[1,1]"
      ],
      "execution_count": null,
      "outputs": [
        {
          "output_type": "execute_result",
          "data": {
            "text/plain": [
              "-0.5"
            ]
          },
          "metadata": {
            "tags": []
          },
          "execution_count": 81
        }
      ]
    },
    {
      "cell_type": "code",
      "metadata": {
        "id": "wDv0wCJvOOcc",
        "outputId": "78b96147-c748-4861-e6db-655cf3583150"
      },
      "source": [
        "arr[2,2]"
      ],
      "execution_count": null,
      "outputs": [
        {
          "output_type": "execute_result",
          "data": {
            "text/plain": [
              "7.0"
            ]
          },
          "metadata": {
            "tags": []
          },
          "execution_count": 82
        }
      ]
    },
    {
      "cell_type": "code",
      "metadata": {
        "id": "cgybjeCROOce",
        "outputId": "c9c6189a-847c-4f64-a223-1fa03355d61e"
      },
      "source": [
        "arr[3,3]"
      ],
      "execution_count": null,
      "outputs": [
        {
          "output_type": "execute_result",
          "data": {
            "text/plain": [
              "2.0"
            ]
          },
          "metadata": {
            "tags": []
          },
          "execution_count": 83
        }
      ]
    },
    {
      "cell_type": "code",
      "metadata": {
        "id": "TuUcZu7FOOcg",
        "outputId": "e0c5f14f-9b77-4b64-d9be-9560789a5c23"
      },
      "source": [
        "arr"
      ],
      "execution_count": null,
      "outputs": [
        {
          "output_type": "execute_result",
          "data": {
            "text/plain": [
              "array([[-1. ,  2. ,  0. ,  4. ],\n",
              "       [ 4. , -0.5,  6. ,  0. ],\n",
              "       [ 2.6,  0. ,  7. ,  8. ],\n",
              "       [ 3. , -7. ,  4. ,  2. ]])"
            ]
          },
          "metadata": {
            "tags": []
          },
          "execution_count": 84
        }
      ]
    },
    {
      "cell_type": "code",
      "metadata": {
        "id": "ijgdLIODOOch",
        "outputId": "d3af6c86-c2df-4f91-ca78-6fab97534df6"
      },
      "source": [
        "arr[[0,1,2,3], [0,1,2,3]]"
      ],
      "execution_count": null,
      "outputs": [
        {
          "output_type": "execute_result",
          "data": {
            "text/plain": [
              "array([-1. , -0.5,  7. ,  2. ])"
            ]
          },
          "metadata": {
            "tags": []
          },
          "execution_count": 81
        }
      ]
    },
    {
      "cell_type": "markdown",
      "metadata": {
        "id": "Nomlt47KOOck"
      },
      "source": [
        "- **Boolean array indexing:** This method is used when we want to pick elements from array which satisfy some condition."
      ]
    },
    {
      "cell_type": "code",
      "metadata": {
        "id": "_eVTZpU_OOck",
        "outputId": "bedbceed-9fe1-4c4a-d26b-0c193cd6e636"
      },
      "source": [
        "arr"
      ],
      "execution_count": null,
      "outputs": [
        {
          "output_type": "execute_result",
          "data": {
            "text/plain": [
              "array([[-1. ,  2. ,  0. ,  4. ],\n",
              "       [ 4. , -0.5,  6. ,  0. ],\n",
              "       [ 2.6,  0. ,  7. ,  8. ],\n",
              "       [ 3. , -7. ,  4. ,  2. ]])"
            ]
          },
          "metadata": {
            "tags": []
          },
          "execution_count": 85
        }
      ]
    },
    {
      "cell_type": "code",
      "metadata": {
        "id": "oxev8XO-OOcl",
        "outputId": "a1bde45f-a3c4-42a8-a911-8144af64b76e"
      },
      "source": [
        "10 > 20"
      ],
      "execution_count": null,
      "outputs": [
        {
          "output_type": "execute_result",
          "data": {
            "text/plain": [
              "False"
            ]
          },
          "metadata": {
            "tags": []
          },
          "execution_count": 86
        }
      ]
    },
    {
      "cell_type": "code",
      "metadata": {
        "id": "puN552xvOOcm",
        "outputId": "224db9d3-2fce-40e0-bf06-88fa39e0f25a"
      },
      "source": [
        "arr"
      ],
      "execution_count": null,
      "outputs": [
        {
          "output_type": "execute_result",
          "data": {
            "text/plain": [
              "array([[-1. ,  2. ,  0. ,  4. ],\n",
              "       [ 4. , -0.5,  6. ,  0. ],\n",
              "       [ 2.6,  0. ,  7. ,  8. ],\n",
              "       [ 3. , -7. ,  4. ,  2. ]])"
            ]
          },
          "metadata": {
            "tags": []
          },
          "execution_count": 87
        }
      ]
    },
    {
      "cell_type": "code",
      "metadata": {
        "id": "qSrX6BoQOOcn",
        "outputId": "6791ba8b-e3bb-47ca-c815-9bd45a827bf6"
      },
      "source": [
        "arr > 0"
      ],
      "execution_count": null,
      "outputs": [
        {
          "output_type": "execute_result",
          "data": {
            "text/plain": [
              "array([[False,  True, False,  True],\n",
              "       [ True, False,  True, False],\n",
              "       [ True, False,  True,  True],\n",
              "       [ True, False,  True,  True]])"
            ]
          },
          "metadata": {
            "tags": []
          },
          "execution_count": 88
        }
      ]
    },
    {
      "cell_type": "code",
      "metadata": {
        "id": "RCnWEdmgOOcp",
        "outputId": "57482944-a2ed-4d38-990b-8c3806eb1952"
      },
      "source": [
        "arr[arr > 0]"
      ],
      "execution_count": null,
      "outputs": [
        {
          "output_type": "execute_result",
          "data": {
            "text/plain": [
              "array([2. , 4. , 4. , 6. , 2.6, 7. , 8. , 3. , 4. , 2. ])"
            ]
          },
          "metadata": {
            "tags": []
          },
          "execution_count": 89
        }
      ]
    },
    {
      "cell_type": "code",
      "metadata": {
        "id": "K4PnbZowOOcq",
        "outputId": "680bacf9-1117-46b3-9a9c-1bb371df854a"
      },
      "source": [
        "arr[0][0]"
      ],
      "execution_count": null,
      "outputs": [
        {
          "output_type": "execute_result",
          "data": {
            "text/plain": [
              "-1.0"
            ]
          },
          "metadata": {
            "tags": []
          },
          "execution_count": 90
        }
      ]
    },
    {
      "cell_type": "code",
      "metadata": {
        "id": "07kwru9pOOcr",
        "outputId": "20f8d60f-84f5-4046-bb84-13fd088ce216"
      },
      "source": [
        "arr[0][0] > 1"
      ],
      "execution_count": null,
      "outputs": [
        {
          "output_type": "execute_result",
          "data": {
            "text/plain": [
              "False"
            ]
          },
          "metadata": {
            "tags": []
          },
          "execution_count": 91
        }
      ]
    },
    {
      "cell_type": "code",
      "metadata": {
        "scrolled": true,
        "id": "CwoW35fGOOct",
        "outputId": "b77af304-4e4a-4fb3-bf80-6bda1fa02b03"
      },
      "source": [
        "arr[arr < 0]"
      ],
      "execution_count": null,
      "outputs": [
        {
          "output_type": "execute_result",
          "data": {
            "text/plain": [
              "array([-1. , -0.5, -7. ])"
            ]
          },
          "metadata": {
            "tags": []
          },
          "execution_count": 92
        }
      ]
    },
    {
      "cell_type": "markdown",
      "metadata": {
        "id": "FW0UlWicOOcy"
      },
      "source": [
        "# Array Operations\n",
        "---\n",
        "Plethora of built-in arithmetic functions are provided in NumPy.\n",
        "\n",
        "- **Elementwise operation:** We can use overloaded arithmetic operators to do element-wise operation on array to create a new array. In case of +=, -=, *= operators, the exsisting array is modified."
      ]
    },
    {
      "cell_type": "code",
      "metadata": {
        "id": "bwQrS09NOOcy"
      },
      "source": [
        "import numpy as np"
      ],
      "execution_count": null,
      "outputs": []
    },
    {
      "cell_type": "code",
      "metadata": {
        "id": "YULa0I15OOcz"
      },
      "source": [
        "arr = np.array([[1,2,3],\n",
        "               [4,5,6]])"
      ],
      "execution_count": null,
      "outputs": []
    },
    {
      "cell_type": "code",
      "metadata": {
        "id": "ORzd0rO8OOc1",
        "outputId": "3579be8b-3ede-4a8d-cf38-802adc9aaaed"
      },
      "source": [
        "arr"
      ],
      "execution_count": null,
      "outputs": [
        {
          "output_type": "execute_result",
          "data": {
            "text/plain": [
              "array([[1, 2, 3],\n",
              "       [4, 5, 6]])"
            ]
          },
          "metadata": {
            "tags": []
          },
          "execution_count": 94
        }
      ]
    },
    {
      "cell_type": "code",
      "metadata": {
        "id": "4IrQwhrmOOc3",
        "outputId": "b22f01eb-5a29-474e-bc24-21a92f0a46ea"
      },
      "source": [
        "arr + 1"
      ],
      "execution_count": null,
      "outputs": [
        {
          "output_type": "execute_result",
          "data": {
            "text/plain": [
              "array([[2, 3, 4],\n",
              "       [5, 6, 7]])"
            ]
          },
          "metadata": {
            "tags": []
          },
          "execution_count": 95
        }
      ]
    },
    {
      "cell_type": "code",
      "metadata": {
        "id": "Mg9zdCzkOOc5",
        "outputId": "a53b53c5-95c3-49db-bd2d-ea8cae67caf4"
      },
      "source": [
        "arr"
      ],
      "execution_count": null,
      "outputs": [
        {
          "output_type": "execute_result",
          "data": {
            "text/plain": [
              "array([[1, 2, 3],\n",
              "       [4, 5, 6]])"
            ]
          },
          "metadata": {
            "tags": []
          },
          "execution_count": 96
        }
      ]
    },
    {
      "cell_type": "code",
      "metadata": {
        "id": "p_Jt85hOOOc6"
      },
      "source": [
        "arr = arr + 1 # arr +=1"
      ],
      "execution_count": null,
      "outputs": []
    },
    {
      "cell_type": "code",
      "metadata": {
        "id": "_BZC9e2mOOc7",
        "outputId": "2f28838d-980f-472c-82f8-ff60c6e6e57f"
      },
      "source": [
        "arr"
      ],
      "execution_count": null,
      "outputs": [
        {
          "output_type": "execute_result",
          "data": {
            "text/plain": [
              "array([[2, 3, 4],\n",
              "       [5, 6, 7]])"
            ]
          },
          "metadata": {
            "tags": []
          },
          "execution_count": 98
        }
      ]
    },
    {
      "cell_type": "code",
      "metadata": {
        "id": "JyXtOEudOOc9",
        "outputId": "ff051343-4254-4434-a06c-67301793830c"
      },
      "source": [
        "arr ** 2"
      ],
      "execution_count": null,
      "outputs": [
        {
          "output_type": "execute_result",
          "data": {
            "text/plain": [
              "array([[ 4,  9, 16],\n",
              "       [25, 36, 49]], dtype=int32)"
            ]
          },
          "metadata": {
            "tags": []
          },
          "execution_count": 99
        }
      ]
    },
    {
      "cell_type": "code",
      "metadata": {
        "id": "GvJGqftMOOc-"
      },
      "source": [
        "arr += 1 # arr = arr + 1"
      ],
      "execution_count": null,
      "outputs": []
    },
    {
      "cell_type": "code",
      "metadata": {
        "id": "QZFW_IqCOOc_",
        "outputId": "3f798fb4-76b9-4078-fe85-1422f5366277"
      },
      "source": [
        "arr"
      ],
      "execution_count": null,
      "outputs": [
        {
          "output_type": "execute_result",
          "data": {
            "text/plain": [
              "array([[3, 4, 5],\n",
              "       [6, 7, 8]])"
            ]
          },
          "metadata": {
            "tags": []
          },
          "execution_count": 101
        }
      ]
    },
    {
      "cell_type": "markdown",
      "metadata": {
        "id": "-YtZA-n9OOdB"
      },
      "source": [
        "- **Unary operators:** Many unary operations are provided as a method of **ndarray** class. This includes sum, min, max, etc. These functions can also be applied row-wise or column-wise by setting an axis parameter.\n"
      ]
    },
    {
      "cell_type": "code",
      "metadata": {
        "id": "gDFlziGdOOdB"
      },
      "source": [
        "arr = np.array([[1,9,3],[7,6,2]])"
      ],
      "execution_count": null,
      "outputs": []
    },
    {
      "cell_type": "code",
      "metadata": {
        "id": "Y0PghV90OOdE",
        "outputId": "c4447a9e-e92f-44d3-cad1-a1df295bc311"
      },
      "source": [
        "arr"
      ],
      "execution_count": null,
      "outputs": [
        {
          "output_type": "execute_result",
          "data": {
            "text/plain": [
              "array([[1, 9, 3],\n",
              "       [7, 6, 2]])"
            ]
          },
          "metadata": {
            "tags": []
          },
          "execution_count": 103
        }
      ]
    },
    {
      "cell_type": "code",
      "metadata": {
        "id": "SxIdn9LmOOdF",
        "outputId": "f83d73c0-bd38-454b-afcb-04cf2c332542"
      },
      "source": [
        "arr.mean()"
      ],
      "execution_count": null,
      "outputs": [
        {
          "output_type": "execute_result",
          "data": {
            "text/plain": [
              "4.666666666666667"
            ]
          },
          "metadata": {
            "tags": []
          },
          "execution_count": 104
        }
      ]
    },
    {
      "cell_type": "code",
      "metadata": {
        "id": "-GHKu1UHOOdH",
        "outputId": "a82fa317-87e7-4d3d-fdfd-bcd6edb17373"
      },
      "source": [
        "arr"
      ],
      "execution_count": null,
      "outputs": [
        {
          "output_type": "execute_result",
          "data": {
            "text/plain": [
              "array([[1, 9, 3],\n",
              "       [7, 6, 2]])"
            ]
          },
          "metadata": {
            "tags": []
          },
          "execution_count": 105
        }
      ]
    },
    {
      "cell_type": "code",
      "metadata": {
        "id": "wkmxSDfVOOdI",
        "outputId": "0ad068f0-325a-4719-d14f-209d6ee93184"
      },
      "source": [
        "arr.sum()"
      ],
      "execution_count": null,
      "outputs": [
        {
          "output_type": "execute_result",
          "data": {
            "text/plain": [
              "28"
            ]
          },
          "metadata": {
            "tags": []
          },
          "execution_count": 106
        }
      ]
    },
    {
      "cell_type": "code",
      "metadata": {
        "id": "cAEJaYs7OOdJ",
        "outputId": "cf7c6dd1-e40a-4cb3-80cd-cab74159192d"
      },
      "source": [
        "arr"
      ],
      "execution_count": null,
      "outputs": [
        {
          "output_type": "execute_result",
          "data": {
            "text/plain": [
              "array([[1, 9, 3],\n",
              "       [7, 6, 2]])"
            ]
          },
          "metadata": {
            "tags": []
          },
          "execution_count": 107
        }
      ]
    },
    {
      "cell_type": "code",
      "metadata": {
        "id": "_ZYZYMnGOOdK",
        "outputId": "03a4b114-131e-4bd2-e48d-37cd86a4b2c2"
      },
      "source": [
        "arr.sum(axis=0)"
      ],
      "execution_count": null,
      "outputs": [
        {
          "output_type": "execute_result",
          "data": {
            "text/plain": [
              "array([ 8, 15,  5])"
            ]
          },
          "metadata": {
            "tags": []
          },
          "execution_count": 106
        }
      ]
    },
    {
      "cell_type": "code",
      "metadata": {
        "id": "CkyxeuMLOOdL",
        "outputId": "3a1d97b6-f9ed-456f-b6f5-f0665281904a"
      },
      "source": [
        "arr.sum(axis=1)"
      ],
      "execution_count": null,
      "outputs": [
        {
          "output_type": "execute_result",
          "data": {
            "text/plain": [
              "array([13, 15])"
            ]
          },
          "metadata": {
            "tags": []
          },
          "execution_count": 109
        }
      ]
    },
    {
      "cell_type": "code",
      "metadata": {
        "id": "KxDxFFvhOOdM",
        "outputId": "6bc43215-a55f-4f8c-af05-3e234db4c5b5"
      },
      "source": [
        "arr"
      ],
      "execution_count": null,
      "outputs": [
        {
          "output_type": "execute_result",
          "data": {
            "text/plain": [
              "array([[1, 9, 3],\n",
              "       [7, 6, 2]])"
            ]
          },
          "metadata": {
            "tags": []
          },
          "execution_count": 110
        }
      ]
    },
    {
      "cell_type": "code",
      "metadata": {
        "id": "Gtbldw6zOOdN",
        "outputId": "628ac794-a8d7-4343-f08f-26bfaefc0588"
      },
      "source": [
        "arr.min(axis=0)"
      ],
      "execution_count": null,
      "outputs": [
        {
          "output_type": "execute_result",
          "data": {
            "text/plain": [
              "array([1, 6, 2])"
            ]
          },
          "metadata": {
            "tags": []
          },
          "execution_count": 111
        }
      ]
    },
    {
      "cell_type": "code",
      "metadata": {
        "id": "o9R5Xn6nOOdO",
        "outputId": "a7baf0ba-0a36-4a84-c78e-2c75fbc62e95"
      },
      "source": [
        "arr.max(axis = 1)"
      ],
      "execution_count": null,
      "outputs": [
        {
          "output_type": "execute_result",
          "data": {
            "text/plain": [
              "array([9, 7])"
            ]
          },
          "metadata": {
            "tags": []
          },
          "execution_count": 112
        }
      ]
    },
    {
      "cell_type": "markdown",
      "metadata": {
        "id": "K5gwOIGBOOdQ"
      },
      "source": [
        "- **Binary operators:** These operations apply on array elementwise and a new array is created. You can use all basic arithmetic operators like +, -, /, *, etc. In case of +=, -=, *= operators, the exsisting array is modified.\n"
      ]
    },
    {
      "cell_type": "code",
      "metadata": {
        "id": "uH8KnGREOOdR"
      },
      "source": [
        "a = np.array([[1,2],\n",
        "             [3,4]])\n",
        "\n",
        "b = np.array([[5,6],\n",
        "             [7,8]])"
      ],
      "execution_count": null,
      "outputs": []
    },
    {
      "cell_type": "code",
      "metadata": {
        "id": "nnnGiAaJOOdU",
        "outputId": "4e8c11ff-ea63-447a-82ed-0d199ff12051"
      },
      "source": [
        "c  = a * b\n",
        "c"
      ],
      "execution_count": null,
      "outputs": [
        {
          "output_type": "execute_result",
          "data": {
            "text/plain": [
              "array([[ 5, 12],\n",
              "       [21, 32]])"
            ]
          },
          "metadata": {
            "tags": []
          },
          "execution_count": 116
        }
      ]
    },
    {
      "cell_type": "markdown",
      "metadata": {
        "id": "5rKz-6vKOOdV"
      },
      "source": [
        "- **Universal functions (ufunc):** NumPy provides familiar mathematical functions such as sin, cos, exp, etc. These functions also operate elementwise on an array, producing an array as output.\n",
        "\n",
        "**Note:** All the operations we did above using overloaded operators can be done using ufuncs like np.add, np.subtract, np.multiply, np.divide, np.sum, etc."
      ]
    },
    {
      "cell_type": "code",
      "metadata": {
        "id": "Rt5-Onn8OOdW",
        "outputId": "db44e64b-054a-48f7-83ab-96111f5b6ea2"
      },
      "source": [
        "arr"
      ],
      "execution_count": null,
      "outputs": [
        {
          "output_type": "execute_result",
          "data": {
            "text/plain": [
              "array([[1, 9, 3],\n",
              "       [7, 6, 2]])"
            ]
          },
          "metadata": {
            "tags": []
          },
          "execution_count": 114
        }
      ]
    },
    {
      "cell_type": "code",
      "metadata": {
        "id": "JzudCDhkOOda",
        "outputId": "95abcc88-d65d-4b5d-a1a5-c758adb3e32c"
      },
      "source": [
        "arr.sum()"
      ],
      "execution_count": null,
      "outputs": [
        {
          "output_type": "execute_result",
          "data": {
            "text/plain": [
              "28"
            ]
          },
          "metadata": {
            "tags": []
          },
          "execution_count": 115
        }
      ]
    },
    {
      "cell_type": "code",
      "metadata": {
        "id": "wnvj8NhTOOdb",
        "outputId": "8e75fb85-08d6-49c1-ccef-3ee35f409b71"
      },
      "source": [
        "a"
      ],
      "execution_count": null,
      "outputs": [
        {
          "output_type": "execute_result",
          "data": {
            "text/plain": [
              "array([[1, 2],\n",
              "       [3, 4]])"
            ]
          },
          "metadata": {
            "tags": []
          },
          "execution_count": 116
        }
      ]
    },
    {
      "cell_type": "code",
      "metadata": {
        "id": "S_IzOkl9OOdc",
        "outputId": "094b1deb-399c-41d2-eaa1-01b57b74df6a"
      },
      "source": [
        "b"
      ],
      "execution_count": null,
      "outputs": [
        {
          "output_type": "execute_result",
          "data": {
            "text/plain": [
              "array([[5, 6],\n",
              "       [7, 8]])"
            ]
          },
          "metadata": {
            "tags": []
          },
          "execution_count": 117
        }
      ]
    },
    {
      "cell_type": "code",
      "metadata": {
        "id": "thEoOFv6OOde",
        "outputId": "a42c1ec2-a4d3-4be7-e8ca-87975765aa93"
      },
      "source": [
        "np.add(a,b)"
      ],
      "execution_count": null,
      "outputs": [
        {
          "output_type": "execute_result",
          "data": {
            "text/plain": [
              "array([[ 6,  8],\n",
              "       [10, 12]])"
            ]
          },
          "metadata": {
            "tags": []
          },
          "execution_count": 118
        }
      ]
    },
    {
      "cell_type": "code",
      "metadata": {
        "id": "qKhlxjTWOOdf",
        "outputId": "f985f470-7397-42c9-b191-a7a97fd72323"
      },
      "source": [
        "np.subtract(a,b)"
      ],
      "execution_count": null,
      "outputs": [
        {
          "output_type": "execute_result",
          "data": {
            "text/plain": [
              "array([[-4, -4],\n",
              "       [-4, -4]])"
            ]
          },
          "metadata": {
            "tags": []
          },
          "execution_count": 119
        }
      ]
    },
    {
      "cell_type": "code",
      "metadata": {
        "id": "viWtpU4SOOdh",
        "outputId": "6df2035a-79bb-4f4a-8634-9fd802be95c6"
      },
      "source": [
        "np.multiply(a,b)"
      ],
      "execution_count": null,
      "outputs": [
        {
          "output_type": "execute_result",
          "data": {
            "text/plain": [
              "array([[ 5, 12],\n",
              "       [21, 32]])"
            ]
          },
          "metadata": {
            "tags": []
          },
          "execution_count": 120
        }
      ]
    },
    {
      "cell_type": "code",
      "metadata": {
        "id": "kSLPIyByOOdm",
        "outputId": "78743d88-c6c5-41e0-eefb-4bb2ca702fc5"
      },
      "source": [
        "np.sin(arr)"
      ],
      "execution_count": null,
      "outputs": [
        {
          "output_type": "execute_result",
          "data": {
            "text/plain": [
              "array([[ 0.84147098,  0.41211849,  0.14112001],\n",
              "       [ 0.6569866 , -0.2794155 ,  0.90929743]])"
            ]
          },
          "metadata": {
            "tags": []
          },
          "execution_count": 121
        }
      ]
    },
    {
      "cell_type": "code",
      "metadata": {
        "id": "PG562uOHOOdo",
        "outputId": "299663dc-44e5-4147-c050-2390e1e0e966"
      },
      "source": [
        "arr"
      ],
      "execution_count": null,
      "outputs": [
        {
          "output_type": "execute_result",
          "data": {
            "text/plain": [
              "array([[1, 9, 3],\n",
              "       [7, 6, 2]])"
            ]
          },
          "metadata": {
            "tags": []
          },
          "execution_count": 122
        }
      ]
    },
    {
      "cell_type": "code",
      "metadata": {
        "id": "tGsJ30RVOOdp",
        "outputId": "48431578-e283-41c0-a66c-93251c084ed4"
      },
      "source": [
        "np.cos(arr)"
      ],
      "execution_count": null,
      "outputs": [
        {
          "output_type": "execute_result",
          "data": {
            "text/plain": [
              "array([[ 0.54030231, -0.91113026, -0.9899925 ],\n",
              "       [ 0.75390225,  0.96017029, -0.41614684]])"
            ]
          },
          "metadata": {
            "tags": []
          },
          "execution_count": 123
        }
      ]
    },
    {
      "cell_type": "code",
      "metadata": {
        "id": "JT0or6USOOdr",
        "outputId": "d18cc064-5649-47ad-e30a-eec0881a31ff"
      },
      "source": [
        "np.exp(arr)"
      ],
      "execution_count": null,
      "outputs": [
        {
          "output_type": "execute_result",
          "data": {
            "text/plain": [
              "array([[2.71828183e+00, 8.10308393e+03, 2.00855369e+01],\n",
              "       [1.09663316e+03, 4.03428793e+02, 7.38905610e+00]])"
            ]
          },
          "metadata": {
            "tags": []
          },
          "execution_count": 124
        }
      ]
    },
    {
      "cell_type": "code",
      "metadata": {
        "id": "MTfqzAYnOOds",
        "outputId": "6df846ed-c852-4109-ea65-d04d08434eac"
      },
      "source": [
        "np.tan(arr)"
      ],
      "execution_count": null,
      "outputs": [
        {
          "output_type": "execute_result",
          "data": {
            "text/plain": [
              "array([[ 1.55740772, -0.45231566, -0.14254654],\n",
              "       [ 0.87144798, -0.29100619, -2.18503986]])"
            ]
          },
          "metadata": {
            "tags": []
          },
          "execution_count": 125
        }
      ]
    },
    {
      "cell_type": "code",
      "metadata": {
        "id": "R-Do6LrvOOdt"
      },
      "source": [
        "a = 1.6463"
      ],
      "execution_count": null,
      "outputs": []
    },
    {
      "cell_type": "code",
      "metadata": {
        "id": "usAhsCHJOOdv",
        "outputId": "edbde7ce-7c9f-48eb-efae-7a8bf87d2bdf"
      },
      "source": [
        "round(a,2)"
      ],
      "execution_count": null,
      "outputs": [
        {
          "output_type": "execute_result",
          "data": {
            "text/plain": [
              "1.65"
            ]
          },
          "metadata": {
            "tags": []
          },
          "execution_count": 127
        }
      ]
    },
    {
      "cell_type": "code",
      "metadata": {
        "id": "gjzX_r7MOOdy",
        "outputId": "868731cd-b4ef-43bd-bdde-effde32d57a4"
      },
      "source": [
        "7 // 4"
      ],
      "execution_count": null,
      "outputs": [
        {
          "output_type": "execute_result",
          "data": {
            "text/plain": [
              "1"
            ]
          },
          "metadata": {
            "tags": []
          },
          "execution_count": 129
        }
      ]
    },
    {
      "cell_type": "code",
      "metadata": {
        "id": "T4ftC9p2OOdz",
        "outputId": "6a331d0d-a4fe-4872-9b12-7e94f2fa954f"
      },
      "source": [
        "np.ceil(a)"
      ],
      "execution_count": null,
      "outputs": [
        {
          "output_type": "execute_result",
          "data": {
            "text/plain": [
              "2.0"
            ]
          },
          "metadata": {
            "tags": []
          },
          "execution_count": 130
        }
      ]
    },
    {
      "cell_type": "code",
      "metadata": {
        "id": "nDA3aWkoOOd1"
      },
      "source": [
        "a = 1.64438"
      ],
      "execution_count": null,
      "outputs": []
    },
    {
      "cell_type": "code",
      "metadata": {
        "id": "871_6y4JOOd2",
        "outputId": "8dcd255a-2aca-4fd9-da97-466bb31aa416"
      },
      "source": [
        "np.ceil(a)"
      ],
      "execution_count": null,
      "outputs": [
        {
          "output_type": "execute_result",
          "data": {
            "text/plain": [
              "2.0"
            ]
          },
          "metadata": {
            "tags": []
          },
          "execution_count": 133
        }
      ]
    },
    {
      "cell_type": "code",
      "metadata": {
        "id": "1__xv9cBOOd4"
      },
      "source": [
        "a = 1.01"
      ],
      "execution_count": null,
      "outputs": []
    },
    {
      "cell_type": "code",
      "metadata": {
        "id": "idvFUAUJOOd7",
        "outputId": "d13818ba-f0e7-43e4-adb2-2088f0ee71d2"
      },
      "source": [
        "np.ceil(a)"
      ],
      "execution_count": null,
      "outputs": [
        {
          "output_type": "execute_result",
          "data": {
            "text/plain": [
              "2.0"
            ]
          },
          "metadata": {
            "tags": []
          },
          "execution_count": 135
        }
      ]
    },
    {
      "cell_type": "code",
      "metadata": {
        "id": "Gh6gRJqGOOd8",
        "outputId": "7e3c9080-80cd-4a10-bbdc-2eac4acb58f7"
      },
      "source": [
        "a = 1.0\n",
        "np.ceil(a)"
      ],
      "execution_count": null,
      "outputs": [
        {
          "output_type": "execute_result",
          "data": {
            "text/plain": [
              "1.0"
            ]
          },
          "metadata": {
            "tags": []
          },
          "execution_count": 133
        }
      ]
    },
    {
      "cell_type": "code",
      "metadata": {
        "id": "fddHx4cEOOd-",
        "outputId": "b570ec58-02ab-41d9-c7a6-a80c44dfeb84"
      },
      "source": [
        "7 / 4"
      ],
      "execution_count": null,
      "outputs": [
        {
          "output_type": "execute_result",
          "data": {
            "text/plain": [
              "1.75"
            ]
          },
          "metadata": {
            "tags": []
          },
          "execution_count": 140
        }
      ]
    },
    {
      "cell_type": "code",
      "metadata": {
        "id": "f_cOjDcSOOd_",
        "outputId": "a8ab5a3e-6c6f-4bba-8fb4-d9173d9973f2"
      },
      "source": [
        "7 // 4 #Floor devision"
      ],
      "execution_count": null,
      "outputs": [
        {
          "output_type": "execute_result",
          "data": {
            "text/plain": [
              "1"
            ]
          },
          "metadata": {
            "tags": []
          },
          "execution_count": 141
        }
      ]
    },
    {
      "cell_type": "markdown",
      "metadata": {
        "id": "rW7-v72HOOeA"
      },
      "source": [
        "# Array Sorting\n",
        "---\n",
        "There is a simple **np.sort** method for sorting NumPy arrays.\n"
      ]
    },
    {
      "cell_type": "code",
      "metadata": {
        "id": "29REqGcSOOeA"
      },
      "source": [
        "a = [1,4,2,4,9,10,2,21,23]"
      ],
      "execution_count": null,
      "outputs": []
    },
    {
      "cell_type": "code",
      "metadata": {
        "id": "XGZTnqNHOOeB",
        "outputId": "17245be1-b017-4064-ae43-9bf3d4496fb8"
      },
      "source": [
        "sorted(a) # temporary change"
      ],
      "execution_count": null,
      "outputs": [
        {
          "output_type": "execute_result",
          "data": {
            "text/plain": [
              "[1, 2, 2, 4, 4, 9, 10, 21, 23]"
            ]
          },
          "metadata": {
            "tags": []
          },
          "execution_count": 137
        }
      ]
    },
    {
      "cell_type": "code",
      "metadata": {
        "id": "nhVQ61JVOOeD",
        "outputId": "f4c33ba7-5366-46de-c45e-937029de4518"
      },
      "source": [
        "a"
      ],
      "execution_count": null,
      "outputs": [
        {
          "output_type": "execute_result",
          "data": {
            "text/plain": [
              "[1, 4, 2, 4, 9, 10, 2, 21, 23]"
            ]
          },
          "metadata": {
            "tags": []
          },
          "execution_count": 138
        }
      ]
    },
    {
      "cell_type": "code",
      "metadata": {
        "id": "qyNC2G96OOeE"
      },
      "source": [
        "a.sort() # Permanent change"
      ],
      "execution_count": null,
      "outputs": []
    },
    {
      "cell_type": "code",
      "metadata": {
        "id": "uBIUjKOIOOeG",
        "outputId": "34c3c808-7f66-485b-e809-259a38033504"
      },
      "source": [
        "a"
      ],
      "execution_count": null,
      "outputs": [
        {
          "output_type": "execute_result",
          "data": {
            "text/plain": [
              "[1, 2, 2, 4, 4, 9, 10, 21, 23]"
            ]
          },
          "metadata": {
            "tags": []
          },
          "execution_count": 140
        }
      ]
    },
    {
      "cell_type": "code",
      "metadata": {
        "id": "gCOaa_AYOOeH"
      },
      "source": [
        "import numpy as np"
      ],
      "execution_count": null,
      "outputs": []
    },
    {
      "cell_type": "code",
      "metadata": {
        "id": "dr_FUZRHOOeI"
      },
      "source": [
        "arr = np.array([[1, 4, 2],\n",
        "                [3, 4, 6],\n",
        "                [0, -1, 5]])"
      ],
      "execution_count": null,
      "outputs": []
    },
    {
      "cell_type": "code",
      "metadata": {
        "id": "xWn3naSTOOeI",
        "outputId": "bc9058b3-60d4-4776-bf27-00bc48f0ecab"
      },
      "source": [
        "np.sort(arr, axis=1)"
      ],
      "execution_count": null,
      "outputs": [
        {
          "output_type": "execute_result",
          "data": {
            "text/plain": [
              "array([[ 1,  2,  4],\n",
              "       [ 3,  4,  6],\n",
              "       [-1,  0,  5]])"
            ]
          },
          "metadata": {
            "tags": []
          },
          "execution_count": 143
        }
      ]
    },
    {
      "cell_type": "code",
      "metadata": {
        "id": "o9hNksRbOOeJ",
        "outputId": "3f00ed93-28c0-4a2a-d41b-c215405fd2c1"
      },
      "source": [
        "arr"
      ],
      "execution_count": null,
      "outputs": [
        {
          "output_type": "execute_result",
          "data": {
            "text/plain": [
              "array([[ 1,  4,  2],\n",
              "       [ 3,  4,  6],\n",
              "       [ 0, -1,  5]])"
            ]
          },
          "metadata": {
            "tags": []
          },
          "execution_count": 150
        }
      ]
    },
    {
      "cell_type": "code",
      "metadata": {
        "id": "WISwqg6uOOeK",
        "outputId": "aa055349-3b97-4da1-898e-ceb3f535d682"
      },
      "source": [
        "np.sort(arr, axis=0)"
      ],
      "execution_count": null,
      "outputs": [
        {
          "output_type": "execute_result",
          "data": {
            "text/plain": [
              "array([[ 0, -1,  2],\n",
              "       [ 1,  4,  5],\n",
              "       [ 3,  4,  6]])"
            ]
          },
          "metadata": {
            "tags": []
          },
          "execution_count": 144
        }
      ]
    },
    {
      "cell_type": "code",
      "metadata": {
        "id": "NobZkHUzOOeL",
        "outputId": "1a4f6441-da2a-48d1-adc0-58712ebeba5d"
      },
      "source": [
        "arr"
      ],
      "execution_count": null,
      "outputs": [
        {
          "output_type": "execute_result",
          "data": {
            "text/plain": [
              "array([[ 1,  4,  2],\n",
              "       [ 3,  4,  6],\n",
              "       [ 0, -1,  5]])"
            ]
          },
          "metadata": {
            "tags": []
          },
          "execution_count": 127
        }
      ]
    },
    {
      "cell_type": "code",
      "metadata": {
        "id": "gdo1RIbMOOeM",
        "outputId": "abb5e87f-3a39-4ff8-820d-1d923ce59e1e"
      },
      "source": [
        "np.sort(arr,axis = 0)"
      ],
      "execution_count": null,
      "outputs": [
        {
          "output_type": "execute_result",
          "data": {
            "text/plain": [
              "array([[ 0, -1,  2],\n",
              "       [ 1,  4,  5],\n",
              "       [ 3,  4,  6]])"
            ]
          },
          "metadata": {
            "tags": []
          },
          "execution_count": 183
        }
      ]
    },
    {
      "cell_type": "code",
      "metadata": {
        "id": "qlT5oTf3OOeO",
        "outputId": "6cd97a7e-280f-4b65-c6c7-31767bee4538"
      },
      "source": [
        "np.sort(arr, axis=None)"
      ],
      "execution_count": null,
      "outputs": [
        {
          "output_type": "execute_result",
          "data": {
            "text/plain": [
              "array([-1,  0,  1,  2,  3,  4,  4,  5,  6])"
            ]
          },
          "metadata": {
            "tags": []
          },
          "execution_count": 152
        }
      ]
    },
    {
      "cell_type": "code",
      "metadata": {
        "id": "oJ-d5xFkOOeQ",
        "outputId": "3b8635c7-5d65-44ba-f2fc-ca1531a73093"
      },
      "source": [
        "print(-np.sort(-arr, axis = None))"
      ],
      "execution_count": null,
      "outputs": [
        {
          "output_type": "stream",
          "text": [
            "[ 6  5  4  4  3  2  1  0 -1]\n"
          ],
          "name": "stdout"
        }
      ]
    },
    {
      "cell_type": "code",
      "metadata": {
        "id": "klt50ZNIOOeS",
        "outputId": "6d07f164-08d4-4260-a463-6fa78e3b5354"
      },
      "source": [
        "arr"
      ],
      "execution_count": null,
      "outputs": [
        {
          "output_type": "execute_result",
          "data": {
            "text/plain": [
              "array([[ 1,  4,  2],\n",
              "       [ 3,  4,  6],\n",
              "       [ 0, -1,  5]])"
            ]
          },
          "metadata": {
            "tags": []
          },
          "execution_count": 130
        }
      ]
    },
    {
      "cell_type": "markdown",
      "metadata": {
        "id": "Hgr5_IOpOOeU"
      },
      "source": [
        "# Array Stacking and Splitting\n",
        "---\n",
        "## Stacking\n",
        "\n",
        "Several arrays can be stacked together along different axes.\n",
        "\n",
        "- **np.vstack:** To stack arrays along vertical axis.\n",
        "\n",
        "- **np.hstack:** To stack arrays along horizontal axis.\n",
        "\n",
        "- **np.column_stack:** To stack 1-D arrays as columns into 2-D arrays.\n",
        "\n",
        "- **np.row_stack:** To stack 1-D arrays as rows into 2-D arrays.\n",
        "\n",
        "- **np.concatenate:** To stack arrays along specified axis (axis is passed as argument)."
      ]
    },
    {
      "cell_type": "code",
      "metadata": {
        "id": "EijfM1ZWOOeU"
      },
      "source": [
        "import numpy as np"
      ],
      "execution_count": null,
      "outputs": []
    },
    {
      "cell_type": "code",
      "metadata": {
        "id": "HYsCPOEDOOeW"
      },
      "source": [
        "a = np.array([[1, 2],\n",
        "              [3, 4]])\n",
        "\n",
        "b = np.array([[5, 6],\n",
        "              [7, 8]])\n",
        "\n",
        "c = np.array([[7,8],\n",
        "             [9,10]])"
      ],
      "execution_count": null,
      "outputs": []
    },
    {
      "cell_type": "code",
      "metadata": {
        "id": "OXI7ZUNiOOeX",
        "outputId": "85ea570f-955c-4a27-c374-ba5bd1e79753"
      },
      "source": [
        "a"
      ],
      "execution_count": null,
      "outputs": [
        {
          "output_type": "execute_result",
          "data": {
            "text/plain": [
              "array([[1, 2],\n",
              "       [3, 4]])"
            ]
          },
          "metadata": {
            "tags": []
          },
          "execution_count": 147
        }
      ]
    },
    {
      "cell_type": "code",
      "metadata": {
        "id": "Y11rZ2UFOOeY",
        "outputId": "a703b5dc-27b5-47c4-fc4c-2990c6a7d458"
      },
      "source": [
        "b"
      ],
      "execution_count": null,
      "outputs": [
        {
          "output_type": "execute_result",
          "data": {
            "text/plain": [
              "array([[5, 6],\n",
              "       [7, 8]])"
            ]
          },
          "metadata": {
            "tags": []
          },
          "execution_count": 148
        }
      ]
    },
    {
      "cell_type": "code",
      "metadata": {
        "id": "-B3PRtrUOOeZ"
      },
      "source": [
        "# vertical ---> Top to bottom\n",
        "# Rows ---> Top to bottom\n",
        "# axis = 0 ---> Top to bottom\n",
        "\n",
        "# vstack = row_stack = axis 0\n",
        "\n",
        "# Horizontal ---> left to right\n",
        "# columns ---> left to right\n",
        "# axis = 1 ---> left to right\n",
        "\n",
        "# hstack = column_stack = axis 1"
      ],
      "execution_count": null,
      "outputs": []
    },
    {
      "cell_type": "code",
      "metadata": {
        "id": "s1lFmIHfOOeb",
        "outputId": "043d01e7-5e04-4961-b052-127946622cfc"
      },
      "source": [
        "np.vstack((a,b))# axis = 0\n",
        "# vstack and row_stack"
      ],
      "execution_count": null,
      "outputs": [
        {
          "output_type": "execute_result",
          "data": {
            "text/plain": [
              "array([[1, 2],\n",
              "       [3, 4],\n",
              "       [5, 6],\n",
              "       [7, 8]])"
            ]
          },
          "metadata": {
            "tags": []
          },
          "execution_count": 149
        }
      ]
    },
    {
      "cell_type": "code",
      "metadata": {
        "id": "hqdwhKapOOee",
        "outputId": "2ad9985d-88df-45f3-a695-d64229a79828"
      },
      "source": [
        "np.row_stack((a,b))# axis = 0"
      ],
      "execution_count": null,
      "outputs": [
        {
          "output_type": "execute_result",
          "data": {
            "text/plain": [
              "array([[1, 2],\n",
              "       [3, 4],\n",
              "       [5, 6],\n",
              "       [7, 8]])"
            ]
          },
          "metadata": {
            "tags": []
          },
          "execution_count": 158
        }
      ]
    },
    {
      "cell_type": "code",
      "metadata": {
        "id": "a_vVztGoOOek",
        "outputId": "34b57d24-6740-4b23-8fdb-08d64c6e499b"
      },
      "source": [
        "np.concatenate((a,b), axis=0)"
      ],
      "execution_count": null,
      "outputs": [
        {
          "output_type": "execute_result",
          "data": {
            "text/plain": [
              "array([[1, 2],\n",
              "       [3, 4],\n",
              "       [5, 6],\n",
              "       [7, 8]])"
            ]
          },
          "metadata": {
            "tags": []
          },
          "execution_count": 159
        }
      ]
    },
    {
      "cell_type": "code",
      "metadata": {
        "scrolled": true,
        "id": "3W1HGyMOOOeu",
        "outputId": "8d70dc90-0a23-4baa-e054-816b7e9c7fe0"
      },
      "source": [
        "np.hstack((a,b))"
      ],
      "execution_count": null,
      "outputs": [
        {
          "output_type": "execute_result",
          "data": {
            "text/plain": [
              "array([[1, 2, 5, 6],\n",
              "       [3, 4, 7, 8]])"
            ]
          },
          "metadata": {
            "tags": []
          },
          "execution_count": 160
        }
      ]
    },
    {
      "cell_type": "code",
      "metadata": {
        "id": "igWTzfKOOOew",
        "outputId": "898285bf-01c4-4dff-d985-ddca313f5ee5"
      },
      "source": [
        "np.column_stack((a,b))# axis = 1"
      ],
      "execution_count": null,
      "outputs": [
        {
          "output_type": "execute_result",
          "data": {
            "text/plain": [
              "array([[1, 2, 5, 6],\n",
              "       [3, 4, 7, 8]])"
            ]
          },
          "metadata": {
            "tags": []
          },
          "execution_count": 161
        }
      ]
    },
    {
      "cell_type": "code",
      "metadata": {
        "id": "1LH06oKrOOez",
        "outputId": "c28831c3-6b71-4501-cea1-aa77721efa45"
      },
      "source": [
        "np.concatenate((a,b), axis=1)"
      ],
      "execution_count": null,
      "outputs": [
        {
          "output_type": "execute_result",
          "data": {
            "text/plain": [
              "array([[1, 2, 5, 6],\n",
              "       [3, 4, 7, 8]])"
            ]
          },
          "metadata": {
            "tags": []
          },
          "execution_count": 162
        }
      ]
    },
    {
      "cell_type": "markdown",
      "metadata": {
        "id": "uhfKdzk_OOe1"
      },
      "source": [
        "## Splitting\n",
        "\n",
        "For splitting, we have these fuctions:\n",
        "\n",
        "- **np.hsplit:** Split array along horizontal axis.\n",
        "\n",
        "- **np.vsplit:** Split array along vertical axis.\n",
        "\n",
        "- **np.array_split:** Split array along specified axis."
      ]
    },
    {
      "cell_type": "code",
      "metadata": {
        "id": "uYFuC2XXOOe1"
      },
      "source": [
        "a = np.array([[1, 3, 5, 7, 9, 11],\n",
        "              [2, 4, 6, 8, 10, 12]])"
      ],
      "execution_count": null,
      "outputs": []
    },
    {
      "cell_type": "code",
      "metadata": {
        "id": "5JSY2D_-OOe2"
      },
      "source": [
        "# hsplit = array_split of axis 1\n",
        "# vsplit = array_split of axis 0"
      ],
      "execution_count": null,
      "outputs": []
    },
    {
      "cell_type": "code",
      "metadata": {
        "id": "9V00bAxmOOe2",
        "outputId": "d1ed1265-6585-4d04-d1dd-860e55f577eb"
      },
      "source": [
        "np.hsplit(a,2)"
      ],
      "execution_count": null,
      "outputs": [
        {
          "output_type": "execute_result",
          "data": {
            "text/plain": [
              "[array([[1, 3, 5],\n",
              "        [2, 4, 6]]),\n",
              " array([[ 7,  9, 11],\n",
              "        [ 8, 10, 12]])]"
            ]
          },
          "metadata": {
            "tags": []
          },
          "execution_count": 164
        }
      ]
    },
    {
      "cell_type": "code",
      "metadata": {
        "id": "Ny-RmaJBOOe3",
        "outputId": "9721cb09-6473-4dbd-c90d-caa3b374bc14"
      },
      "source": [
        "np.array_split(a, 2, axis=1)# hsplit"
      ],
      "execution_count": null,
      "outputs": [
        {
          "output_type": "execute_result",
          "data": {
            "text/plain": [
              "[array([[1, 3, 5],\n",
              "        [2, 4, 6]]),\n",
              " array([[ 7,  9, 11],\n",
              "        [ 8, 10, 12]])]"
            ]
          },
          "metadata": {
            "tags": []
          },
          "execution_count": 165
        }
      ]
    },
    {
      "cell_type": "code",
      "metadata": {
        "id": "BsLcAtZDOOe6",
        "outputId": "c016086a-43d4-4f7b-ca22-15339374ef69"
      },
      "source": [
        "np.hsplit(a,3)"
      ],
      "execution_count": null,
      "outputs": [
        {
          "output_type": "execute_result",
          "data": {
            "text/plain": [
              "[array([[1, 3],\n",
              "        [2, 4]]),\n",
              " array([[5, 7],\n",
              "        [6, 8]]),\n",
              " array([[ 9, 11],\n",
              "        [10, 12]])]"
            ]
          },
          "metadata": {
            "tags": []
          },
          "execution_count": 166
        }
      ]
    },
    {
      "cell_type": "code",
      "metadata": {
        "id": "naJmS8UsOOe7",
        "outputId": "dc2b8f29-821d-412d-cab4-2cb61f49764b"
      },
      "source": [
        "a"
      ],
      "execution_count": null,
      "outputs": [
        {
          "output_type": "execute_result",
          "data": {
            "text/plain": [
              "array([[ 1,  3,  5,  7,  9, 11],\n",
              "       [ 2,  4,  6,  8, 10, 12]])"
            ]
          },
          "metadata": {
            "tags": []
          },
          "execution_count": 167
        }
      ]
    },
    {
      "cell_type": "code",
      "metadata": {
        "id": "kH2Ee1DaOOe8",
        "outputId": "c303447a-0000-4f91-b77f-c82bc610cf21"
      },
      "source": [
        "np.hsplit(a,4)"
      ],
      "execution_count": null,
      "outputs": [
        {
          "output_type": "error",
          "ename": "ValueError",
          "evalue": "array split does not result in an equal division",
          "traceback": [
            "\u001b[1;31m---------------------------------------------------------------------------\u001b[0m",
            "\u001b[1;31mTypeError\u001b[0m                                 Traceback (most recent call last)",
            "\u001b[1;32m~\\anaconda3\\lib\\site-packages\\numpy\\lib\\shape_base.py\u001b[0m in \u001b[0;36msplit\u001b[1;34m(ary, indices_or_sections, axis)\u001b[0m\n\u001b[0;32m    864\u001b[0m     \u001b[1;32mtry\u001b[0m\u001b[1;33m:\u001b[0m\u001b[1;33m\u001b[0m\u001b[1;33m\u001b[0m\u001b[0m\n\u001b[1;32m--> 865\u001b[1;33m         \u001b[0mlen\u001b[0m\u001b[1;33m(\u001b[0m\u001b[0mindices_or_sections\u001b[0m\u001b[1;33m)\u001b[0m\u001b[1;33m\u001b[0m\u001b[1;33m\u001b[0m\u001b[0m\n\u001b[0m\u001b[0;32m    866\u001b[0m     \u001b[1;32mexcept\u001b[0m \u001b[0mTypeError\u001b[0m\u001b[1;33m:\u001b[0m\u001b[1;33m\u001b[0m\u001b[1;33m\u001b[0m\u001b[0m\n",
            "\u001b[1;31mTypeError\u001b[0m: object of type 'int' has no len()",
            "\nDuring handling of the above exception, another exception occurred:\n",
            "\u001b[1;31mValueError\u001b[0m                                Traceback (most recent call last)",
            "\u001b[1;32m<ipython-input-166-79cc0b34081a>\u001b[0m in \u001b[0;36m<module>\u001b[1;34m\u001b[0m\n\u001b[1;32m----> 1\u001b[1;33m \u001b[0mnp\u001b[0m\u001b[1;33m.\u001b[0m\u001b[0mhsplit\u001b[0m\u001b[1;33m(\u001b[0m\u001b[0ma\u001b[0m\u001b[1;33m,\u001b[0m\u001b[1;36m4\u001b[0m\u001b[1;33m)\u001b[0m\u001b[1;33m\u001b[0m\u001b[1;33m\u001b[0m\u001b[0m\n\u001b[0m",
            "\u001b[1;32m<__array_function__ internals>\u001b[0m in \u001b[0;36mhsplit\u001b[1;34m(*args, **kwargs)\u001b[0m\n",
            "\u001b[1;32m~\\anaconda3\\lib\\site-packages\\numpy\\lib\\shape_base.py\u001b[0m in \u001b[0;36mhsplit\u001b[1;34m(ary, indices_or_sections)\u001b[0m\n\u001b[0;32m    936\u001b[0m         \u001b[1;32mraise\u001b[0m \u001b[0mValueError\u001b[0m\u001b[1;33m(\u001b[0m\u001b[1;34m'hsplit only works on arrays of 1 or more dimensions'\u001b[0m\u001b[1;33m)\u001b[0m\u001b[1;33m\u001b[0m\u001b[1;33m\u001b[0m\u001b[0m\n\u001b[0;32m    937\u001b[0m     \u001b[1;32mif\u001b[0m \u001b[0mary\u001b[0m\u001b[1;33m.\u001b[0m\u001b[0mndim\u001b[0m \u001b[1;33m>\u001b[0m \u001b[1;36m1\u001b[0m\u001b[1;33m:\u001b[0m\u001b[1;33m\u001b[0m\u001b[1;33m\u001b[0m\u001b[0m\n\u001b[1;32m--> 938\u001b[1;33m         \u001b[1;32mreturn\u001b[0m \u001b[0msplit\u001b[0m\u001b[1;33m(\u001b[0m\u001b[0mary\u001b[0m\u001b[1;33m,\u001b[0m \u001b[0mindices_or_sections\u001b[0m\u001b[1;33m,\u001b[0m \u001b[1;36m1\u001b[0m\u001b[1;33m)\u001b[0m\u001b[1;33m\u001b[0m\u001b[1;33m\u001b[0m\u001b[0m\n\u001b[0m\u001b[0;32m    939\u001b[0m     \u001b[1;32melse\u001b[0m\u001b[1;33m:\u001b[0m\u001b[1;33m\u001b[0m\u001b[1;33m\u001b[0m\u001b[0m\n\u001b[0;32m    940\u001b[0m         \u001b[1;32mreturn\u001b[0m \u001b[0msplit\u001b[0m\u001b[1;33m(\u001b[0m\u001b[0mary\u001b[0m\u001b[1;33m,\u001b[0m \u001b[0mindices_or_sections\u001b[0m\u001b[1;33m,\u001b[0m \u001b[1;36m0\u001b[0m\u001b[1;33m)\u001b[0m\u001b[1;33m\u001b[0m\u001b[1;33m\u001b[0m\u001b[0m\n",
            "\u001b[1;32m<__array_function__ internals>\u001b[0m in \u001b[0;36msplit\u001b[1;34m(*args, **kwargs)\u001b[0m\n",
            "\u001b[1;32m~\\anaconda3\\lib\\site-packages\\numpy\\lib\\shape_base.py\u001b[0m in \u001b[0;36msplit\u001b[1;34m(ary, indices_or_sections, axis)\u001b[0m\n\u001b[0;32m    869\u001b[0m         \u001b[1;32mif\u001b[0m \u001b[0mN\u001b[0m \u001b[1;33m%\u001b[0m \u001b[0msections\u001b[0m\u001b[1;33m:\u001b[0m\u001b[1;33m\u001b[0m\u001b[1;33m\u001b[0m\u001b[0m\n\u001b[0;32m    870\u001b[0m             raise ValueError(\n\u001b[1;32m--> 871\u001b[1;33m                 'array split does not result in an equal division')\n\u001b[0m\u001b[0;32m    872\u001b[0m     \u001b[1;32mreturn\u001b[0m \u001b[0marray_split\u001b[0m\u001b[1;33m(\u001b[0m\u001b[0mary\u001b[0m\u001b[1;33m,\u001b[0m \u001b[0mindices_or_sections\u001b[0m\u001b[1;33m,\u001b[0m \u001b[0maxis\u001b[0m\u001b[1;33m)\u001b[0m\u001b[1;33m\u001b[0m\u001b[1;33m\u001b[0m\u001b[0m\n\u001b[0;32m    873\u001b[0m \u001b[1;33m\u001b[0m\u001b[0m\n",
            "\u001b[1;31mValueError\u001b[0m: array split does not result in an equal division"
          ]
        }
      ]
    },
    {
      "cell_type": "code",
      "metadata": {
        "id": "kMi4kgBXOOe-",
        "outputId": "f7862cfd-bb2a-4955-e388-147c8cc271af"
      },
      "source": [
        "a"
      ],
      "execution_count": null,
      "outputs": [
        {
          "output_type": "execute_result",
          "data": {
            "text/plain": [
              "array([[ 1,  3,  5,  7,  9, 11],\n",
              "       [ 2,  4,  6,  8, 10, 12]])"
            ]
          },
          "metadata": {
            "tags": []
          },
          "execution_count": 19
        }
      ]
    },
    {
      "cell_type": "code",
      "metadata": {
        "id": "70_yfA8wOOfA",
        "outputId": "3f411b27-1748-4a82-93ba-e91f94a86270"
      },
      "source": [
        "np.vsplit(a,2)"
      ],
      "execution_count": null,
      "outputs": [
        {
          "output_type": "execute_result",
          "data": {
            "text/plain": [
              "[array([[ 1,  3,  5,  7,  9, 11]]), array([[ 2,  4,  6,  8, 10, 12]])]"
            ]
          },
          "metadata": {
            "tags": []
          },
          "execution_count": 24
        }
      ]
    },
    {
      "cell_type": "code",
      "metadata": {
        "id": "_Go7JQcFOOfB",
        "outputId": "4952e4f0-6fa5-4a7a-d6b4-b96b43a07180"
      },
      "source": [
        "np.vsplit(a,3)"
      ],
      "execution_count": null,
      "outputs": [
        {
          "output_type": "error",
          "ename": "ValueError",
          "evalue": "array split does not result in an equal division",
          "traceback": [
            "\u001b[1;31m---------------------------------------------------------------------------\u001b[0m",
            "\u001b[1;31mTypeError\u001b[0m                                 Traceback (most recent call last)",
            "\u001b[1;32m~\\anaconda3\\lib\\site-packages\\numpy\\lib\\shape_base.py\u001b[0m in \u001b[0;36msplit\u001b[1;34m(ary, indices_or_sections, axis)\u001b[0m\n\u001b[0;32m    864\u001b[0m     \u001b[1;32mtry\u001b[0m\u001b[1;33m:\u001b[0m\u001b[1;33m\u001b[0m\u001b[1;33m\u001b[0m\u001b[0m\n\u001b[1;32m--> 865\u001b[1;33m         \u001b[0mlen\u001b[0m\u001b[1;33m(\u001b[0m\u001b[0mindices_or_sections\u001b[0m\u001b[1;33m)\u001b[0m\u001b[1;33m\u001b[0m\u001b[1;33m\u001b[0m\u001b[0m\n\u001b[0m\u001b[0;32m    866\u001b[0m     \u001b[1;32mexcept\u001b[0m \u001b[0mTypeError\u001b[0m\u001b[1;33m:\u001b[0m\u001b[1;33m\u001b[0m\u001b[1;33m\u001b[0m\u001b[0m\n",
            "\u001b[1;31mTypeError\u001b[0m: object of type 'int' has no len()",
            "\nDuring handling of the above exception, another exception occurred:\n",
            "\u001b[1;31mValueError\u001b[0m                                Traceback (most recent call last)",
            "\u001b[1;32m<ipython-input-25-6a62d06336cc>\u001b[0m in \u001b[0;36m<module>\u001b[1;34m\u001b[0m\n\u001b[1;32m----> 1\u001b[1;33m \u001b[0mnp\u001b[0m\u001b[1;33m.\u001b[0m\u001b[0mvsplit\u001b[0m\u001b[1;33m(\u001b[0m\u001b[0ma\u001b[0m\u001b[1;33m,\u001b[0m\u001b[1;36m3\u001b[0m\u001b[1;33m)\u001b[0m\u001b[1;33m\u001b[0m\u001b[1;33m\u001b[0m\u001b[0m\n\u001b[0m",
            "\u001b[1;32m<__array_function__ internals>\u001b[0m in \u001b[0;36mvsplit\u001b[1;34m(*args, **kwargs)\u001b[0m\n",
            "\u001b[1;32m~\\anaconda3\\lib\\site-packages\\numpy\\lib\\shape_base.py\u001b[0m in \u001b[0;36mvsplit\u001b[1;34m(ary, indices_or_sections)\u001b[0m\n\u001b[0;32m    987\u001b[0m     \u001b[1;32mif\u001b[0m \u001b[0m_nx\u001b[0m\u001b[1;33m.\u001b[0m\u001b[0mndim\u001b[0m\u001b[1;33m(\u001b[0m\u001b[0mary\u001b[0m\u001b[1;33m)\u001b[0m \u001b[1;33m<\u001b[0m \u001b[1;36m2\u001b[0m\u001b[1;33m:\u001b[0m\u001b[1;33m\u001b[0m\u001b[1;33m\u001b[0m\u001b[0m\n\u001b[0;32m    988\u001b[0m         \u001b[1;32mraise\u001b[0m \u001b[0mValueError\u001b[0m\u001b[1;33m(\u001b[0m\u001b[1;34m'vsplit only works on arrays of 2 or more dimensions'\u001b[0m\u001b[1;33m)\u001b[0m\u001b[1;33m\u001b[0m\u001b[1;33m\u001b[0m\u001b[0m\n\u001b[1;32m--> 989\u001b[1;33m     \u001b[1;32mreturn\u001b[0m \u001b[0msplit\u001b[0m\u001b[1;33m(\u001b[0m\u001b[0mary\u001b[0m\u001b[1;33m,\u001b[0m \u001b[0mindices_or_sections\u001b[0m\u001b[1;33m,\u001b[0m \u001b[1;36m0\u001b[0m\u001b[1;33m)\u001b[0m\u001b[1;33m\u001b[0m\u001b[1;33m\u001b[0m\u001b[0m\n\u001b[0m\u001b[0;32m    990\u001b[0m \u001b[1;33m\u001b[0m\u001b[0m\n\u001b[0;32m    991\u001b[0m \u001b[1;33m\u001b[0m\u001b[0m\n",
            "\u001b[1;32m<__array_function__ internals>\u001b[0m in \u001b[0;36msplit\u001b[1;34m(*args, **kwargs)\u001b[0m\n",
            "\u001b[1;32m~\\anaconda3\\lib\\site-packages\\numpy\\lib\\shape_base.py\u001b[0m in \u001b[0;36msplit\u001b[1;34m(ary, indices_or_sections, axis)\u001b[0m\n\u001b[0;32m    869\u001b[0m         \u001b[1;32mif\u001b[0m \u001b[0mN\u001b[0m \u001b[1;33m%\u001b[0m \u001b[0msections\u001b[0m\u001b[1;33m:\u001b[0m\u001b[1;33m\u001b[0m\u001b[1;33m\u001b[0m\u001b[0m\n\u001b[0;32m    870\u001b[0m             raise ValueError(\n\u001b[1;32m--> 871\u001b[1;33m                 'array split does not result in an equal division')\n\u001b[0m\u001b[0;32m    872\u001b[0m     \u001b[1;32mreturn\u001b[0m \u001b[0marray_split\u001b[0m\u001b[1;33m(\u001b[0m\u001b[0mary\u001b[0m\u001b[1;33m,\u001b[0m \u001b[0mindices_or_sections\u001b[0m\u001b[1;33m,\u001b[0m \u001b[0maxis\u001b[0m\u001b[1;33m)\u001b[0m\u001b[1;33m\u001b[0m\u001b[1;33m\u001b[0m\u001b[0m\n\u001b[0;32m    873\u001b[0m \u001b[1;33m\u001b[0m\u001b[0m\n",
            "\u001b[1;31mValueError\u001b[0m: array split does not result in an equal division"
          ]
        }
      ]
    },
    {
      "cell_type": "code",
      "metadata": {
        "id": "wCwFp9HxOOfC",
        "outputId": "99596414-8849-47b7-f16c-1fdd2e400c8f"
      },
      "source": [
        "np.array_split(a, 2, axis=1)# hsplit"
      ],
      "execution_count": null,
      "outputs": [
        {
          "output_type": "execute_result",
          "data": {
            "text/plain": [
              "[array([[1, 3, 5],\n",
              "        [2, 4, 6]]), array([[ 7,  9, 11],\n",
              "        [ 8, 10, 12]])]"
            ]
          },
          "metadata": {
            "tags": []
          },
          "execution_count": 25
        }
      ]
    },
    {
      "cell_type": "code",
      "metadata": {
        "id": "zXXQUSBcOOfE",
        "outputId": "0869ab77-0ac1-4775-c4ba-84afb22685c5"
      },
      "source": [
        "a"
      ],
      "execution_count": null,
      "outputs": [
        {
          "output_type": "execute_result",
          "data": {
            "text/plain": [
              "array([[ 1,  3,  5,  7,  9, 11],\n",
              "       [ 2,  4,  6,  8, 10, 12]])"
            ]
          },
          "metadata": {
            "tags": []
          },
          "execution_count": 26
        }
      ]
    },
    {
      "cell_type": "code",
      "metadata": {
        "id": "nqhBnNpSOOfE",
        "outputId": "44be6f40-79f1-40ec-9621-970512ff009d"
      },
      "source": [
        "np.vsplit(a,2)"
      ],
      "execution_count": null,
      "outputs": [
        {
          "output_type": "execute_result",
          "data": {
            "text/plain": [
              "[array([[ 1,  3,  5,  7,  9, 11]]), array([[ 2,  4,  6,  8, 10, 12]])]"
            ]
          },
          "metadata": {
            "tags": []
          },
          "execution_count": 23
        }
      ]
    },
    {
      "cell_type": "code",
      "metadata": {
        "id": "fUEYgryjOOfF",
        "outputId": "8f488a09-13e9-4b40-ac25-6d097f27c631"
      },
      "source": [
        "np.hsplit(a,3)"
      ],
      "execution_count": null,
      "outputs": [
        {
          "output_type": "execute_result",
          "data": {
            "text/plain": [
              "[array([[1, 3],\n",
              "        [2, 4]]), array([[5, 7],\n",
              "        [6, 8]]), array([[ 9, 11],\n",
              "        [10, 12]])]"
            ]
          },
          "metadata": {
            "tags": []
          },
          "execution_count": 27
        }
      ]
    }
  ]
}